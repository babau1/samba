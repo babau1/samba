{
 "cells": [
  {
   "cell_type": "code",
   "execution_count": 10,
   "metadata": {},
   "outputs": [
    {
     "name": "stdout",
     "output_type": "stream",
     "text": [
      "[0.49821992 0.50178008]\n",
      "[-1.  1.]\n",
      "SamBA test acc: 0.8336734693877551\n"
     ]
    },
    {
     "data": {
      "application/vnd.plotly.v1+json": {
       "config": {
        "plotlyServerURL": "https://plot.ly"
       },
       "data": [
        {
         "marker": {
          "size": 5
         },
         "mode": "markers",
         "name": "Class 1",
         "type": "scatter",
         "x": [
          0.5286284801533239,
          1.0354327397191576,
          -0.35112094214369416,
          -0.8002312130139431,
          -0.8909674085257595,
          0.45908361347130633,
          0.4697214536741462,
          0.8448868649279331,
          0.9356123499195617
         ],
         "y": [
          1.1049326116320737,
          0.21154750573806258,
          1.0819746511411654,
          0.7964581959530788,
          0.48126169479195235,
          0.8177335541576328,
          0.7358486869157479,
          0.5632216386068801,
          0.6601840655098482
         ]
        },
        {
         "marker": {
          "size": 5
         },
         "mode": "markers",
         "name": "Class 2",
         "type": "scatter",
         "x": [
          0.5708088799639761,
          1.5953958966027737,
          0.021725803066758566,
          0.04401413809899761,
          0.49472514722208916,
          1.1748212541917984,
          0.8696095103389249,
          0.02663232990495249,
          0.5055801705618366,
          0.6132000559020356,
          1.9172772479277664
         ],
         "y": [
          -0.5619860490285189,
          -0.15276090361216688,
          0.0727058372764432,
          0.011136172339475565,
          -0.35741355800938923,
          -0.4112014599613435,
          -0.48729120392097725,
          0.21227020108898387,
          -0.442508335657561,
          -0.45322097790284654,
          -0.004572062683368239
         ]
        }
       ],
       "layout": {
        "template": {
         "data": {
          "bar": [
           {
            "error_x": {
             "color": "#2a3f5f"
            },
            "error_y": {
             "color": "#2a3f5f"
            },
            "marker": {
             "line": {
              "color": "#E5ECF6",
              "width": 0.5
             },
             "pattern": {
              "fillmode": "overlay",
              "size": 10,
              "solidity": 0.2
             }
            },
            "type": "bar"
           }
          ],
          "barpolar": [
           {
            "marker": {
             "line": {
              "color": "#E5ECF6",
              "width": 0.5
             },
             "pattern": {
              "fillmode": "overlay",
              "size": 10,
              "solidity": 0.2
             }
            },
            "type": "barpolar"
           }
          ],
          "carpet": [
           {
            "aaxis": {
             "endlinecolor": "#2a3f5f",
             "gridcolor": "white",
             "linecolor": "white",
             "minorgridcolor": "white",
             "startlinecolor": "#2a3f5f"
            },
            "baxis": {
             "endlinecolor": "#2a3f5f",
             "gridcolor": "white",
             "linecolor": "white",
             "minorgridcolor": "white",
             "startlinecolor": "#2a3f5f"
            },
            "type": "carpet"
           }
          ],
          "choropleth": [
           {
            "colorbar": {
             "outlinewidth": 0,
             "ticks": ""
            },
            "type": "choropleth"
           }
          ],
          "contour": [
           {
            "colorbar": {
             "outlinewidth": 0,
             "ticks": ""
            },
            "colorscale": [
             [
              0,
              "#0d0887"
             ],
             [
              0.1111111111111111,
              "#46039f"
             ],
             [
              0.2222222222222222,
              "#7201a8"
             ],
             [
              0.3333333333333333,
              "#9c179e"
             ],
             [
              0.4444444444444444,
              "#bd3786"
             ],
             [
              0.5555555555555556,
              "#d8576b"
             ],
             [
              0.6666666666666666,
              "#ed7953"
             ],
             [
              0.7777777777777778,
              "#fb9f3a"
             ],
             [
              0.8888888888888888,
              "#fdca26"
             ],
             [
              1,
              "#f0f921"
             ]
            ],
            "type": "contour"
           }
          ],
          "contourcarpet": [
           {
            "colorbar": {
             "outlinewidth": 0,
             "ticks": ""
            },
            "type": "contourcarpet"
           }
          ],
          "heatmap": [
           {
            "colorbar": {
             "outlinewidth": 0,
             "ticks": ""
            },
            "colorscale": [
             [
              0,
              "#0d0887"
             ],
             [
              0.1111111111111111,
              "#46039f"
             ],
             [
              0.2222222222222222,
              "#7201a8"
             ],
             [
              0.3333333333333333,
              "#9c179e"
             ],
             [
              0.4444444444444444,
              "#bd3786"
             ],
             [
              0.5555555555555556,
              "#d8576b"
             ],
             [
              0.6666666666666666,
              "#ed7953"
             ],
             [
              0.7777777777777778,
              "#fb9f3a"
             ],
             [
              0.8888888888888888,
              "#fdca26"
             ],
             [
              1,
              "#f0f921"
             ]
            ],
            "type": "heatmap"
           }
          ],
          "heatmapgl": [
           {
            "colorbar": {
             "outlinewidth": 0,
             "ticks": ""
            },
            "colorscale": [
             [
              0,
              "#0d0887"
             ],
             [
              0.1111111111111111,
              "#46039f"
             ],
             [
              0.2222222222222222,
              "#7201a8"
             ],
             [
              0.3333333333333333,
              "#9c179e"
             ],
             [
              0.4444444444444444,
              "#bd3786"
             ],
             [
              0.5555555555555556,
              "#d8576b"
             ],
             [
              0.6666666666666666,
              "#ed7953"
             ],
             [
              0.7777777777777778,
              "#fb9f3a"
             ],
             [
              0.8888888888888888,
              "#fdca26"
             ],
             [
              1,
              "#f0f921"
             ]
            ],
            "type": "heatmapgl"
           }
          ],
          "histogram": [
           {
            "marker": {
             "pattern": {
              "fillmode": "overlay",
              "size": 10,
              "solidity": 0.2
             }
            },
            "type": "histogram"
           }
          ],
          "histogram2d": [
           {
            "colorbar": {
             "outlinewidth": 0,
             "ticks": ""
            },
            "colorscale": [
             [
              0,
              "#0d0887"
             ],
             [
              0.1111111111111111,
              "#46039f"
             ],
             [
              0.2222222222222222,
              "#7201a8"
             ],
             [
              0.3333333333333333,
              "#9c179e"
             ],
             [
              0.4444444444444444,
              "#bd3786"
             ],
             [
              0.5555555555555556,
              "#d8576b"
             ],
             [
              0.6666666666666666,
              "#ed7953"
             ],
             [
              0.7777777777777778,
              "#fb9f3a"
             ],
             [
              0.8888888888888888,
              "#fdca26"
             ],
             [
              1,
              "#f0f921"
             ]
            ],
            "type": "histogram2d"
           }
          ],
          "histogram2dcontour": [
           {
            "colorbar": {
             "outlinewidth": 0,
             "ticks": ""
            },
            "colorscale": [
             [
              0,
              "#0d0887"
             ],
             [
              0.1111111111111111,
              "#46039f"
             ],
             [
              0.2222222222222222,
              "#7201a8"
             ],
             [
              0.3333333333333333,
              "#9c179e"
             ],
             [
              0.4444444444444444,
              "#bd3786"
             ],
             [
              0.5555555555555556,
              "#d8576b"
             ],
             [
              0.6666666666666666,
              "#ed7953"
             ],
             [
              0.7777777777777778,
              "#fb9f3a"
             ],
             [
              0.8888888888888888,
              "#fdca26"
             ],
             [
              1,
              "#f0f921"
             ]
            ],
            "type": "histogram2dcontour"
           }
          ],
          "mesh3d": [
           {
            "colorbar": {
             "outlinewidth": 0,
             "ticks": ""
            },
            "type": "mesh3d"
           }
          ],
          "parcoords": [
           {
            "line": {
             "colorbar": {
              "outlinewidth": 0,
              "ticks": ""
             }
            },
            "type": "parcoords"
           }
          ],
          "pie": [
           {
            "automargin": true,
            "type": "pie"
           }
          ],
          "scatter": [
           {
            "marker": {
             "colorbar": {
              "outlinewidth": 0,
              "ticks": ""
             }
            },
            "type": "scatter"
           }
          ],
          "scatter3d": [
           {
            "line": {
             "colorbar": {
              "outlinewidth": 0,
              "ticks": ""
             }
            },
            "marker": {
             "colorbar": {
              "outlinewidth": 0,
              "ticks": ""
             }
            },
            "type": "scatter3d"
           }
          ],
          "scattercarpet": [
           {
            "marker": {
             "colorbar": {
              "outlinewidth": 0,
              "ticks": ""
             }
            },
            "type": "scattercarpet"
           }
          ],
          "scattergeo": [
           {
            "marker": {
             "colorbar": {
              "outlinewidth": 0,
              "ticks": ""
             }
            },
            "type": "scattergeo"
           }
          ],
          "scattergl": [
           {
            "marker": {
             "colorbar": {
              "outlinewidth": 0,
              "ticks": ""
             }
            },
            "type": "scattergl"
           }
          ],
          "scattermapbox": [
           {
            "marker": {
             "colorbar": {
              "outlinewidth": 0,
              "ticks": ""
             }
            },
            "type": "scattermapbox"
           }
          ],
          "scatterpolar": [
           {
            "marker": {
             "colorbar": {
              "outlinewidth": 0,
              "ticks": ""
             }
            },
            "type": "scatterpolar"
           }
          ],
          "scatterpolargl": [
           {
            "marker": {
             "colorbar": {
              "outlinewidth": 0,
              "ticks": ""
             }
            },
            "type": "scatterpolargl"
           }
          ],
          "scatterternary": [
           {
            "marker": {
             "colorbar": {
              "outlinewidth": 0,
              "ticks": ""
             }
            },
            "type": "scatterternary"
           }
          ],
          "surface": [
           {
            "colorbar": {
             "outlinewidth": 0,
             "ticks": ""
            },
            "colorscale": [
             [
              0,
              "#0d0887"
             ],
             [
              0.1111111111111111,
              "#46039f"
             ],
             [
              0.2222222222222222,
              "#7201a8"
             ],
             [
              0.3333333333333333,
              "#9c179e"
             ],
             [
              0.4444444444444444,
              "#bd3786"
             ],
             [
              0.5555555555555556,
              "#d8576b"
             ],
             [
              0.6666666666666666,
              "#ed7953"
             ],
             [
              0.7777777777777778,
              "#fb9f3a"
             ],
             [
              0.8888888888888888,
              "#fdca26"
             ],
             [
              1,
              "#f0f921"
             ]
            ],
            "type": "surface"
           }
          ],
          "table": [
           {
            "cells": {
             "fill": {
              "color": "#EBF0F8"
             },
             "line": {
              "color": "white"
             }
            },
            "header": {
             "fill": {
              "color": "#C8D4E3"
             },
             "line": {
              "color": "white"
             }
            },
            "type": "table"
           }
          ]
         },
         "layout": {
          "annotationdefaults": {
           "arrowcolor": "#2a3f5f",
           "arrowhead": 0,
           "arrowwidth": 1
          },
          "autotypenumbers": "strict",
          "coloraxis": {
           "colorbar": {
            "outlinewidth": 0,
            "ticks": ""
           }
          },
          "colorscale": {
           "diverging": [
            [
             0,
             "#8e0152"
            ],
            [
             0.1,
             "#c51b7d"
            ],
            [
             0.2,
             "#de77ae"
            ],
            [
             0.3,
             "#f1b6da"
            ],
            [
             0.4,
             "#fde0ef"
            ],
            [
             0.5,
             "#f7f7f7"
            ],
            [
             0.6,
             "#e6f5d0"
            ],
            [
             0.7,
             "#b8e186"
            ],
            [
             0.8,
             "#7fbc41"
            ],
            [
             0.9,
             "#4d9221"
            ],
            [
             1,
             "#276419"
            ]
           ],
           "sequential": [
            [
             0,
             "#0d0887"
            ],
            [
             0.1111111111111111,
             "#46039f"
            ],
            [
             0.2222222222222222,
             "#7201a8"
            ],
            [
             0.3333333333333333,
             "#9c179e"
            ],
            [
             0.4444444444444444,
             "#bd3786"
            ],
            [
             0.5555555555555556,
             "#d8576b"
            ],
            [
             0.6666666666666666,
             "#ed7953"
            ],
            [
             0.7777777777777778,
             "#fb9f3a"
            ],
            [
             0.8888888888888888,
             "#fdca26"
            ],
            [
             1,
             "#f0f921"
            ]
           ],
           "sequentialminus": [
            [
             0,
             "#0d0887"
            ],
            [
             0.1111111111111111,
             "#46039f"
            ],
            [
             0.2222222222222222,
             "#7201a8"
            ],
            [
             0.3333333333333333,
             "#9c179e"
            ],
            [
             0.4444444444444444,
             "#bd3786"
            ],
            [
             0.5555555555555556,
             "#d8576b"
            ],
            [
             0.6666666666666666,
             "#ed7953"
            ],
            [
             0.7777777777777778,
             "#fb9f3a"
            ],
            [
             0.8888888888888888,
             "#fdca26"
            ],
            [
             1,
             "#f0f921"
            ]
           ]
          },
          "colorway": [
           "#636efa",
           "#EF553B",
           "#00cc96",
           "#ab63fa",
           "#FFA15A",
           "#19d3f3",
           "#FF6692",
           "#B6E880",
           "#FF97FF",
           "#FECB52"
          ],
          "font": {
           "color": "#2a3f5f"
          },
          "geo": {
           "bgcolor": "white",
           "lakecolor": "white",
           "landcolor": "#E5ECF6",
           "showlakes": true,
           "showland": true,
           "subunitcolor": "white"
          },
          "hoverlabel": {
           "align": "left"
          },
          "hovermode": "closest",
          "mapbox": {
           "style": "light"
          },
          "paper_bgcolor": "white",
          "plot_bgcolor": "#E5ECF6",
          "polar": {
           "angularaxis": {
            "gridcolor": "white",
            "linecolor": "white",
            "ticks": ""
           },
           "bgcolor": "#E5ECF6",
           "radialaxis": {
            "gridcolor": "white",
            "linecolor": "white",
            "ticks": ""
           }
          },
          "scene": {
           "xaxis": {
            "backgroundcolor": "#E5ECF6",
            "gridcolor": "white",
            "gridwidth": 2,
            "linecolor": "white",
            "showbackground": true,
            "ticks": "",
            "zerolinecolor": "white"
           },
           "yaxis": {
            "backgroundcolor": "#E5ECF6",
            "gridcolor": "white",
            "gridwidth": 2,
            "linecolor": "white",
            "showbackground": true,
            "ticks": "",
            "zerolinecolor": "white"
           },
           "zaxis": {
            "backgroundcolor": "#E5ECF6",
            "gridcolor": "white",
            "gridwidth": 2,
            "linecolor": "white",
            "showbackground": true,
            "ticks": "",
            "zerolinecolor": "white"
           }
          },
          "shapedefaults": {
           "line": {
            "color": "#2a3f5f"
           }
          },
          "ternary": {
           "aaxis": {
            "gridcolor": "white",
            "linecolor": "white",
            "ticks": ""
           },
           "baxis": {
            "gridcolor": "white",
            "linecolor": "white",
            "ticks": ""
           },
           "bgcolor": "#E5ECF6",
           "caxis": {
            "gridcolor": "white",
            "linecolor": "white",
            "ticks": ""
           }
          },
          "title": {
           "x": 0.05
          },
          "xaxis": {
           "automargin": true,
           "gridcolor": "white",
           "linecolor": "white",
           "ticks": "",
           "title": {
            "standoff": 15
           },
           "zerolinecolor": "white",
           "zerolinewidth": 2
          },
          "yaxis": {
           "automargin": true,
           "gridcolor": "white",
           "linecolor": "white",
           "ticks": "",
           "title": {
            "standoff": 15
           },
           "zerolinecolor": "white",
           "zerolinewidth": 2
          }
         }
        }
       }
      },
      "text/html": [
       "<div>                            <div id=\"aee51d45-ba3c-4796-b8ba-5087bac31950\" class=\"plotly-graph-div\" style=\"height:525px; width:100%;\"></div>            <script type=\"text/javascript\">                require([\"plotly\"], function(Plotly) {                    window.PLOTLYENV=window.PLOTLYENV || {};                                    if (document.getElementById(\"aee51d45-ba3c-4796-b8ba-5087bac31950\")) {                    Plotly.newPlot(                        \"aee51d45-ba3c-4796-b8ba-5087bac31950\",                        [{\"marker\":{\"size\":5},\"mode\":\"markers\",\"name\":\"Class 1\",\"type\":\"scatter\",\"x\":[0.5286284801533239,1.0354327397191576,-0.35112094214369416,-0.8002312130139431,-0.8909674085257595,0.45908361347130633,0.4697214536741462,0.8448868649279331,0.9356123499195617],\"y\":[1.1049326116320737,0.21154750573806258,1.0819746511411654,0.7964581959530788,0.48126169479195235,0.8177335541576328,0.7358486869157479,0.5632216386068801,0.6601840655098482]},{\"marker\":{\"size\":5},\"mode\":\"markers\",\"name\":\"Class 2\",\"type\":\"scatter\",\"x\":[0.5708088799639761,1.5953958966027737,0.021725803066758566,0.04401413809899761,0.49472514722208916,1.1748212541917984,0.8696095103389249,0.02663232990495249,0.5055801705618366,0.6132000559020356,1.9172772479277664],\"y\":[-0.5619860490285189,-0.15276090361216688,0.0727058372764432,0.011136172339475565,-0.35741355800938923,-0.4112014599613435,-0.48729120392097725,0.21227020108898387,-0.442508335657561,-0.45322097790284654,-0.004572062683368239]}],                        {\"template\":{\"data\":{\"bar\":[{\"error_x\":{\"color\":\"#2a3f5f\"},\"error_y\":{\"color\":\"#2a3f5f\"},\"marker\":{\"line\":{\"color\":\"#E5ECF6\",\"width\":0.5},\"pattern\":{\"fillmode\":\"overlay\",\"size\":10,\"solidity\":0.2}},\"type\":\"bar\"}],\"barpolar\":[{\"marker\":{\"line\":{\"color\":\"#E5ECF6\",\"width\":0.5},\"pattern\":{\"fillmode\":\"overlay\",\"size\":10,\"solidity\":0.2}},\"type\":\"barpolar\"}],\"carpet\":[{\"aaxis\":{\"endlinecolor\":\"#2a3f5f\",\"gridcolor\":\"white\",\"linecolor\":\"white\",\"minorgridcolor\":\"white\",\"startlinecolor\":\"#2a3f5f\"},\"baxis\":{\"endlinecolor\":\"#2a3f5f\",\"gridcolor\":\"white\",\"linecolor\":\"white\",\"minorgridcolor\":\"white\",\"startlinecolor\":\"#2a3f5f\"},\"type\":\"carpet\"}],\"choropleth\":[{\"colorbar\":{\"outlinewidth\":0,\"ticks\":\"\"},\"type\":\"choropleth\"}],\"contour\":[{\"colorbar\":{\"outlinewidth\":0,\"ticks\":\"\"},\"colorscale\":[[0.0,\"#0d0887\"],[0.1111111111111111,\"#46039f\"],[0.2222222222222222,\"#7201a8\"],[0.3333333333333333,\"#9c179e\"],[0.4444444444444444,\"#bd3786\"],[0.5555555555555556,\"#d8576b\"],[0.6666666666666666,\"#ed7953\"],[0.7777777777777778,\"#fb9f3a\"],[0.8888888888888888,\"#fdca26\"],[1.0,\"#f0f921\"]],\"type\":\"contour\"}],\"contourcarpet\":[{\"colorbar\":{\"outlinewidth\":0,\"ticks\":\"\"},\"type\":\"contourcarpet\"}],\"heatmap\":[{\"colorbar\":{\"outlinewidth\":0,\"ticks\":\"\"},\"colorscale\":[[0.0,\"#0d0887\"],[0.1111111111111111,\"#46039f\"],[0.2222222222222222,\"#7201a8\"],[0.3333333333333333,\"#9c179e\"],[0.4444444444444444,\"#bd3786\"],[0.5555555555555556,\"#d8576b\"],[0.6666666666666666,\"#ed7953\"],[0.7777777777777778,\"#fb9f3a\"],[0.8888888888888888,\"#fdca26\"],[1.0,\"#f0f921\"]],\"type\":\"heatmap\"}],\"heatmapgl\":[{\"colorbar\":{\"outlinewidth\":0,\"ticks\":\"\"},\"colorscale\":[[0.0,\"#0d0887\"],[0.1111111111111111,\"#46039f\"],[0.2222222222222222,\"#7201a8\"],[0.3333333333333333,\"#9c179e\"],[0.4444444444444444,\"#bd3786\"],[0.5555555555555556,\"#d8576b\"],[0.6666666666666666,\"#ed7953\"],[0.7777777777777778,\"#fb9f3a\"],[0.8888888888888888,\"#fdca26\"],[1.0,\"#f0f921\"]],\"type\":\"heatmapgl\"}],\"histogram\":[{\"marker\":{\"pattern\":{\"fillmode\":\"overlay\",\"size\":10,\"solidity\":0.2}},\"type\":\"histogram\"}],\"histogram2d\":[{\"colorbar\":{\"outlinewidth\":0,\"ticks\":\"\"},\"colorscale\":[[0.0,\"#0d0887\"],[0.1111111111111111,\"#46039f\"],[0.2222222222222222,\"#7201a8\"],[0.3333333333333333,\"#9c179e\"],[0.4444444444444444,\"#bd3786\"],[0.5555555555555556,\"#d8576b\"],[0.6666666666666666,\"#ed7953\"],[0.7777777777777778,\"#fb9f3a\"],[0.8888888888888888,\"#fdca26\"],[1.0,\"#f0f921\"]],\"type\":\"histogram2d\"}],\"histogram2dcontour\":[{\"colorbar\":{\"outlinewidth\":0,\"ticks\":\"\"},\"colorscale\":[[0.0,\"#0d0887\"],[0.1111111111111111,\"#46039f\"],[0.2222222222222222,\"#7201a8\"],[0.3333333333333333,\"#9c179e\"],[0.4444444444444444,\"#bd3786\"],[0.5555555555555556,\"#d8576b\"],[0.6666666666666666,\"#ed7953\"],[0.7777777777777778,\"#fb9f3a\"],[0.8888888888888888,\"#fdca26\"],[1.0,\"#f0f921\"]],\"type\":\"histogram2dcontour\"}],\"mesh3d\":[{\"colorbar\":{\"outlinewidth\":0,\"ticks\":\"\"},\"type\":\"mesh3d\"}],\"parcoords\":[{\"line\":{\"colorbar\":{\"outlinewidth\":0,\"ticks\":\"\"}},\"type\":\"parcoords\"}],\"pie\":[{\"automargin\":true,\"type\":\"pie\"}],\"scatter\":[{\"marker\":{\"colorbar\":{\"outlinewidth\":0,\"ticks\":\"\"}},\"type\":\"scatter\"}],\"scatter3d\":[{\"line\":{\"colorbar\":{\"outlinewidth\":0,\"ticks\":\"\"}},\"marker\":{\"colorbar\":{\"outlinewidth\":0,\"ticks\":\"\"}},\"type\":\"scatter3d\"}],\"scattercarpet\":[{\"marker\":{\"colorbar\":{\"outlinewidth\":0,\"ticks\":\"\"}},\"type\":\"scattercarpet\"}],\"scattergeo\":[{\"marker\":{\"colorbar\":{\"outlinewidth\":0,\"ticks\":\"\"}},\"type\":\"scattergeo\"}],\"scattergl\":[{\"marker\":{\"colorbar\":{\"outlinewidth\":0,\"ticks\":\"\"}},\"type\":\"scattergl\"}],\"scattermapbox\":[{\"marker\":{\"colorbar\":{\"outlinewidth\":0,\"ticks\":\"\"}},\"type\":\"scattermapbox\"}],\"scatterpolar\":[{\"marker\":{\"colorbar\":{\"outlinewidth\":0,\"ticks\":\"\"}},\"type\":\"scatterpolar\"}],\"scatterpolargl\":[{\"marker\":{\"colorbar\":{\"outlinewidth\":0,\"ticks\":\"\"}},\"type\":\"scatterpolargl\"}],\"scatterternary\":[{\"marker\":{\"colorbar\":{\"outlinewidth\":0,\"ticks\":\"\"}},\"type\":\"scatterternary\"}],\"surface\":[{\"colorbar\":{\"outlinewidth\":0,\"ticks\":\"\"},\"colorscale\":[[0.0,\"#0d0887\"],[0.1111111111111111,\"#46039f\"],[0.2222222222222222,\"#7201a8\"],[0.3333333333333333,\"#9c179e\"],[0.4444444444444444,\"#bd3786\"],[0.5555555555555556,\"#d8576b\"],[0.6666666666666666,\"#ed7953\"],[0.7777777777777778,\"#fb9f3a\"],[0.8888888888888888,\"#fdca26\"],[1.0,\"#f0f921\"]],\"type\":\"surface\"}],\"table\":[{\"cells\":{\"fill\":{\"color\":\"#EBF0F8\"},\"line\":{\"color\":\"white\"}},\"header\":{\"fill\":{\"color\":\"#C8D4E3\"},\"line\":{\"color\":\"white\"}},\"type\":\"table\"}]},\"layout\":{\"annotationdefaults\":{\"arrowcolor\":\"#2a3f5f\",\"arrowhead\":0,\"arrowwidth\":1},\"autotypenumbers\":\"strict\",\"coloraxis\":{\"colorbar\":{\"outlinewidth\":0,\"ticks\":\"\"}},\"colorscale\":{\"diverging\":[[0,\"#8e0152\"],[0.1,\"#c51b7d\"],[0.2,\"#de77ae\"],[0.3,\"#f1b6da\"],[0.4,\"#fde0ef\"],[0.5,\"#f7f7f7\"],[0.6,\"#e6f5d0\"],[0.7,\"#b8e186\"],[0.8,\"#7fbc41\"],[0.9,\"#4d9221\"],[1,\"#276419\"]],\"sequential\":[[0.0,\"#0d0887\"],[0.1111111111111111,\"#46039f\"],[0.2222222222222222,\"#7201a8\"],[0.3333333333333333,\"#9c179e\"],[0.4444444444444444,\"#bd3786\"],[0.5555555555555556,\"#d8576b\"],[0.6666666666666666,\"#ed7953\"],[0.7777777777777778,\"#fb9f3a\"],[0.8888888888888888,\"#fdca26\"],[1.0,\"#f0f921\"]],\"sequentialminus\":[[0.0,\"#0d0887\"],[0.1111111111111111,\"#46039f\"],[0.2222222222222222,\"#7201a8\"],[0.3333333333333333,\"#9c179e\"],[0.4444444444444444,\"#bd3786\"],[0.5555555555555556,\"#d8576b\"],[0.6666666666666666,\"#ed7953\"],[0.7777777777777778,\"#fb9f3a\"],[0.8888888888888888,\"#fdca26\"],[1.0,\"#f0f921\"]]},\"colorway\":[\"#636efa\",\"#EF553B\",\"#00cc96\",\"#ab63fa\",\"#FFA15A\",\"#19d3f3\",\"#FF6692\",\"#B6E880\",\"#FF97FF\",\"#FECB52\"],\"font\":{\"color\":\"#2a3f5f\"},\"geo\":{\"bgcolor\":\"white\",\"lakecolor\":\"white\",\"landcolor\":\"#E5ECF6\",\"showlakes\":true,\"showland\":true,\"subunitcolor\":\"white\"},\"hoverlabel\":{\"align\":\"left\"},\"hovermode\":\"closest\",\"mapbox\":{\"style\":\"light\"},\"paper_bgcolor\":\"white\",\"plot_bgcolor\":\"#E5ECF6\",\"polar\":{\"angularaxis\":{\"gridcolor\":\"white\",\"linecolor\":\"white\",\"ticks\":\"\"},\"bgcolor\":\"#E5ECF6\",\"radialaxis\":{\"gridcolor\":\"white\",\"linecolor\":\"white\",\"ticks\":\"\"}},\"scene\":{\"xaxis\":{\"backgroundcolor\":\"#E5ECF6\",\"gridcolor\":\"white\",\"gridwidth\":2,\"linecolor\":\"white\",\"showbackground\":true,\"ticks\":\"\",\"zerolinecolor\":\"white\"},\"yaxis\":{\"backgroundcolor\":\"#E5ECF6\",\"gridcolor\":\"white\",\"gridwidth\":2,\"linecolor\":\"white\",\"showbackground\":true,\"ticks\":\"\",\"zerolinecolor\":\"white\"},\"zaxis\":{\"backgroundcolor\":\"#E5ECF6\",\"gridcolor\":\"white\",\"gridwidth\":2,\"linecolor\":\"white\",\"showbackground\":true,\"ticks\":\"\",\"zerolinecolor\":\"white\"}},\"shapedefaults\":{\"line\":{\"color\":\"#2a3f5f\"}},\"ternary\":{\"aaxis\":{\"gridcolor\":\"white\",\"linecolor\":\"white\",\"ticks\":\"\"},\"baxis\":{\"gridcolor\":\"white\",\"linecolor\":\"white\",\"ticks\":\"\"},\"bgcolor\":\"#E5ECF6\",\"caxis\":{\"gridcolor\":\"white\",\"linecolor\":\"white\",\"ticks\":\"\"}},\"title\":{\"x\":0.05},\"xaxis\":{\"automargin\":true,\"gridcolor\":\"white\",\"linecolor\":\"white\",\"ticks\":\"\",\"title\":{\"standoff\":15},\"zerolinecolor\":\"white\",\"zerolinewidth\":2},\"yaxis\":{\"automargin\":true,\"gridcolor\":\"white\",\"linecolor\":\"white\",\"ticks\":\"\",\"title\":{\"standoff\":15},\"zerolinecolor\":\"white\",\"zerolinewidth\":2}}}},                        {\"responsive\": true}                    ).then(function(){\n",
       "                            \n",
       "var gd = document.getElementById('aee51d45-ba3c-4796-b8ba-5087bac31950');\n",
       "var x = new MutationObserver(function (mutations, observer) {{\n",
       "        var display = window.getComputedStyle(gd).display;\n",
       "        if (!display || display === 'none') {{\n",
       "            console.log([gd, 'removed!']);\n",
       "            Plotly.purge(gd);\n",
       "            observer.disconnect();\n",
       "        }}\n",
       "}});\n",
       "\n",
       "// Listen for the removal of the full notebook cells\n",
       "var notebookContainer = gd.closest('#notebook-container');\n",
       "if (notebookContainer) {{\n",
       "    x.observe(notebookContainer, {childList: true});\n",
       "}}\n",
       "\n",
       "// Listen for the clearing of the current output cell\n",
       "var outputEl = gd.closest('.output');\n",
       "if (outputEl) {{\n",
       "    x.observe(outputEl, {childList: true});\n",
       "}}\n",
       "\n",
       "                        })                };                });            </script>        </div>"
      ]
     },
     "metadata": {},
     "output_type": "display_data"
    },
    {
     "name": "stdout",
     "output_type": "stream",
     "text": [
      "Adaboost test acc:  0.823469387755102\n"
     ]
    }
   ],
   "source": [
    "from sklearn.datasets import make_moons\n",
    "from sklearn.model_selection import train_test_split\n",
    "from sklearn.tree import DecisionTreeClassifier\n",
    "%matplotlib inline\n",
    "import matplotlib.pyplot as plt\n",
    "from matplotlib.patches import Patch\n",
    "from matplotlib.lines import Line2D\n",
    "import plotly.graph_objects as go\n",
    "import numpy as np\n",
    "from sklearn.metrics import accuracy_score\n",
    "from SamBA.samba import NeighborHoodClassifier\n",
    "from SamBA.distances import EuclidianDist\n",
    "from SamBA.relevances import *\n",
    "\n",
    "def plot_2d(X, y, margins=None):\n",
    "    fig = go.Figure()\n",
    "    labels = np.unique(y)\n",
    "    for label in labels:\n",
    "        data = X[np.where(y==label)[0], :]\n",
    "        fig.add_trace(go.Scatter(x=data[:, 0], \n",
    "                                 y=data[:, 1],\n",
    "                                  name=\"Class {}\".format(label+1), \n",
    "                                  mode=\"markers\", \n",
    "                                  marker=dict(\n",
    "                            size=5,)))\n",
    "    return fig\n",
    "\n",
    "rs = np.random.RandomState(7)\n",
    "\n",
    "X, y = make_moons(n_samples=1000, shuffle=True, noise=0.1, random_state=rs)\n",
    "X_train, X_test, y_train, y_test = train_test_split(X, y, train_size=0.02, shuffle=True, random_state=rs)\n",
    "\n",
    "classifier = NeighborHoodClassifier(base_estimator=DecisionTreeClassifier(max_depth=1,\n",
    "                                                       splitter='best'),\n",
    "                 n_estimators=15,\n",
    "                 estimator_params=tuple(),\n",
    "                 keep_selected_features=True, \n",
    "                 relevance=ExpRelevance(),\n",
    "                 distance=EuclidianDist(),\n",
    "                 b=2,\n",
    "                 forced_diversity=False\n",
    "                 )\n",
    "\n",
    "classifier.fit(X_train, y_train, save_data=True)\n",
    "preds_train = classifier.predict(X_train)\n",
    "preds_test = classifier.predict(X_test)\n",
    "print(\"SamBA test acc: {}\".format(accuracy_score(y_test, preds_test)))\n",
    "fig = plot_2d(X_train, y_train)\n",
    "fig.show()\n",
    "from sklearn.ensemble import AdaBoostClassifier\n",
    "ada = AdaBoostClassifier(base_estimator=DecisionTreeClassifier(max_depth=1,\n",
    "                                                       splitter='best'),\n",
    "                 n_estimators=20,)\n",
    "\n",
    "ada.fit(X_train, y_train)\n",
    "preds = ada.predict(X_test)\n",
    "print(\"Adaboost test acc: \",accuracy_score(y_test, preds))"
   ]
  },
  {
   "cell_type": "code",
   "execution_count": 11,
   "metadata": {},
   "outputs": [
    {
     "data": {
      "application/vnd.plotly.v1+json": {
       "config": {
        "plotlyServerURL": "https://plot.ly"
       },
       "data": [
        {
         "marker": {
          "size": 5
         },
         "mode": "markers",
         "name": "Class 1",
         "type": "scatter",
         "x": [
          -0.33627919065373735,
          0.09477562796903743,
          -0.20186436193026344,
          0.661045480638333,
          -0.6986668142931015,
          0.5965530622524429,
          0.3053637203158147,
          -0.8676388010368036,
          0.16790508876551224,
          -0.8888819380741568,
          -0.18651141549386974,
          -0.21588822644387257,
          0.35893728275534126,
          -1.0464217038043513,
          -0.5131615246927861,
          0.12603560968186692,
          0.8966424567273912,
          -0.7020483083404337,
          -0.8679015369308284,
          0.887659082423539,
          -1.0760314762019387,
          0.0655660531851487,
          0.8495813685577093,
          -0.851804887421415,
          0.6446928014297774,
          -0.4593518378829731,
          1.0666140627645992,
          -0.6388903608881544,
          -0.32645218122126307,
          -0.07684325600225148,
          0.7561646188026558,
          -0.34222509478296836,
          -0.11925354639343175,
          2.000127163449065,
          -0.9152306434245094,
          0.8501231649502298,
          -0.8626830654979437,
          0.7919612308441234,
          0.3836708196295705,
          -0.891402068665554,
          -0.7663894047068827,
          -0.7387066437081589,
          0.31029585747986255,
          -0.18866883340027388,
          0.45385815830095333,
          0.8092760735307122,
          -1.0203786301827042,
          -0.8132537956258388,
          0.3815961440668496,
          -0.05319257367001344,
          0.09384677468757846,
          2.0199252146812436,
          -0.6993706946543808,
          0.07411143668489276,
          -0.6632936088076931,
          0.0010201937245045145,
          -0.08181988996082014,
          1.9194759925556868,
          -0.3466054751290539,
          1.0254025301583265,
          0.06796749160971391,
          -0.042937099755724545,
          0.8767979486869173,
          0.542748895591326,
          2.1964157872368166,
          -0.8362699607077259,
          -0.7996238130922915,
          2.096469083385483,
          -0.8133442068917606,
          0.8430086896318114,
          -0.967913264051328,
          0.5088468838788228,
          -0.44100356231440735,
          -0.07874605149293712,
          0.33382379302411297,
          0.6873199249589764,
          -1.0009102643876895,
          0.3826164676270121,
          1.7723791942607539,
          0.8195632573972393,
          0.640755171658989,
          0.8412128087050698,
          -0.7187578455426609,
          0.5911642102346019,
          0.8272830835749243,
          -0.5909412145561984,
          -0.46761852839051365,
          0.3916596652602836,
          -0.9147391863462793,
          0.9850566118074152,
          0.2940746376930902,
          0.7006320322886509,
          0.06634365743513176,
          -0.8878615639240249,
          0.1406480901126034,
          0.8549090232061307,
          0.08613635368629728,
          -0.8147887207533534,
          0.1398288507577255,
          -0.41523352599575514,
          0.372219407331368,
          -0.932043640380755,
          -0.9850808445453236,
          0.3801643523594255,
          1.0543281411824585,
          -0.3788935001770125,
          -0.8102061875038743,
          0.6249150404502569,
          -0.43523612554885094,
          0.5286173144448149,
          0.269182383818313,
          0.854193275535208,
          0.09973389965135977,
          -0.9702875933813605,
          0.31711570611622764,
          -0.7504434371976709,
          0.7649815015077723,
          0.039615817564196854,
          0.39058826242891653,
          0.8225967049827234,
          0.23924996475340113,
          0.28827094511875173,
          1.0566970718175352,
          1.9179123719193556,
          0.7440951145063661,
          -0.5813405229122635,
          0.9962904694412175,
          0.8184326765354335,
          -0.7824684452301072,
          -0.2793605986446317,
          0.28454000230685716,
          0.15525211262019495,
          -0.47041659820249215,
          -0.8418362549589194,
          0.499730281682266,
          0.9409662137351715,
          0.5060752526647914,
          0.555964109056504,
          0.23993251956644224,
          0.0024002609267823882,
          -0.12761502908380484,
          -0.9168117328147871,
          0.0571918460318542,
          -0.1194890107644384,
          -0.6754719195154316,
          -0.5532962305058426,
          -1.0462685217615664,
          -1.0762491847313527,
          1.8892959207618463,
          -0.8932414976910645,
          0.41659438049709707,
          2.169698729700954,
          1.9285468369006782,
          -0.03953724631044643,
          -0.8167486379133605,
          1.0054283728007387,
          1.9253865747811747,
          -0.6739537952223175,
          -0.6833173327025059,
          0.4579992744497989,
          0.03775878844789068,
          1.7213750920638393,
          -0.053138590669970204,
          -0.10490326859815158,
          0.4694653014045257,
          1.020690923575861,
          -0.23370518526199174,
          0.8542862589170274,
          2.16708743130251,
          0.8154870525943573,
          0.8334834003926673,
          -0.26204358115766035,
          0.8564201474843309,
          0.42351604686417366,
          -0.9688019167827725,
          0.2305614493474369,
          1.8629954555589279,
          -0.4951552134371216,
          0.057256657336313466,
          0.124581327282572,
          1.8558451185499127,
          0.5731000407584784,
          0.28116800952323384,
          1.949374540110659,
          -0.2789271548699712,
          2.1595101667103185,
          0.2925251220179237,
          -0.5545538110753567,
          0.0942351899321015,
          0.8312254499983411,
          0.9194854485685371,
          2.001641745033266,
          -0.68444653686741,
          0.8807489121523967,
          -0.19736551465547308,
          -0.721243832452736,
          0.0734867067918143,
          0.2044468914257219,
          -0.687583003836765,
          2.008532764391265,
          0.9091696664586788,
          -0.7582388023872075,
          -0.3460307830069351,
          0.2074104164516044,
          -0.13941365393499539,
          -0.9249690098441528,
          0.042773622759887,
          0.398367204384389,
          1.0574980957467222,
          -0.411586418699058,
          0.2248038458988344,
          0.5790004995408927,
          1.063983223439776,
          -0.0680965974888216,
          1.2194391634746455,
          -0.6047849397003353,
          2.080917539421587,
          0.5278142865562596,
          0.5643477861029227,
          1.883979361862842,
          -0.6289405115427096,
          -0.5182452030130564,
          0.21659969016681355,
          -0.6706043348799287,
          0.5546561133497645,
          1.8962284176203585,
          0.5138997947170032,
          0.38651957851968105,
          0.8157902314585268,
          -0.1938651599189443,
          0.17917598770733467,
          -0.16138571503202237,
          -0.4296107132887381,
          -0.870541700631953,
          0.9308660139954512,
          0.021095663842931406,
          -0.8096497612169522,
          -0.03308436579722768,
          -0.9496753055045809,
          0.8552174827019627,
          0.6207718468416268,
          -0.1591374517747068,
          1.9701817161826312,
          0.8242824820020576,
          0.02194585423142784,
          0.6595858629882243,
          -0.6085469910455097,
          0.861644784247321,
          -0.7581951756306766,
          1.9846771909270897,
          -0.8321567702096728,
          2.046298390243443,
          0.8865424774989517,
          -0.6739683490666024,
          -0.38144183252272834,
          0.5153557244270628,
          -0.5913280545504789,
          -0.8110288762243899,
          -0.594726311599799,
          0.1258751385947271,
          -0.21645269262737915,
          -0.5547317045637594,
          0.6292646560070079,
          1.8002984114259792,
          -0.783565369046603,
          -0.6392287073360806,
          -0.002497553592518603,
          0.6722161546988511,
          0.7634490256247002,
          0.48290412495095736,
          -0.9521839425621148,
          -0.2920578425136545,
          0.9164289398464035,
          0.09805237870349154,
          1.9804916974898015,
          -0.2707880891184231,
          -0.3842532254862778,
          -0.04264967742434471,
          -0.7292689526737042,
          -0.17427339276502968,
          -0.2609524316708132,
          -0.1591744899452225,
          1.934685482142623,
          0.702979939273689,
          0.33586804157903694,
          -0.47338791524977863,
          0.5963328412424587,
          0.2286296292453292,
          0.634292528712197,
          0.42079257196296266,
          0.4419792732815676,
          -0.7357851100484338,
          1.9720448914334558,
          -0.2898982120571645,
          0.7099882975931009,
          0.967855766021338,
          -0.084251252004883,
          0.8017064054013722,
          -0.8486180506436105,
          -0.8086499736942958,
          0.7196139628403166,
          -0.8925503889103872,
          -0.007755212787650803,
          -0.6085145712450011,
          -0.5678265065189813,
          -1.0350521195375584,
          -0.799683004998695,
          0.8634083407599691,
          -0.15114106459408216,
          0.0590399885386349,
          -0.3712299134614705,
          0.9036524358365227,
          0.9758300289618738,
          -0.6109823948674462,
          -0.23320285668257776,
          -0.7494295197029721,
          -0.557190914466178,
          0.6338153454323143,
          0.6767289923591613,
          -0.1654085169414251,
          -0.21641121658252196,
          0.13755442714313226,
          0.037825431222386297,
          -0.3346095100405106,
          0.3022259027995423,
          -0.2623620902697018,
          -0.795636453640959,
          -0.6282022657797345,
          -0.14736404820782328,
          0.2763770113595708,
          0.12182203766745703,
          -0.831351338479652,
          2.000303572647468,
          0.8011851996985991,
          -0.39675813063804666,
          -0.31973429291521427,
          0.7716163823988103,
          0.064052395111385,
          0.2381992650661934,
          -0.6200050115159338,
          0.1284175132685066,
          0.42934324766608645,
          -0.8861715737091869,
          -0.31245844214482793,
          0.5702124807179875,
          -0.09257814458332096,
          1.761997371020572,
          0.4619386045740359,
          -0.263728633961966,
          -0.8352211718908698,
          0.05899761630751065,
          0.0025002660184854355,
          -0.3711314122794858,
          0.5186532343182386,
          0.0617390641401496,
          0.882874446307809,
          -0.7719409323123942,
          -0.013466973074878485,
          -0.6434473176572433,
          0.6860650199814342,
          -0.410032858944635,
          0.04451621263981201,
          -0.09836094485003498,
          0.929904395061907,
          0.08409008989447075,
          0.6954333956026209,
          0.12168944622453819,
          0.6760056197102295,
          0.1067289034819092,
          0.9418965276796268,
          -0.9038924629348262,
          -0.3775726483050954,
          1.961161440737956,
          0.5775509085902304,
          0.13268717430747778,
          -0.0625962971529575,
          -0.5923957563380311,
          -0.6135774246818506,
          0.8156918862859116,
          -0.8533460391408756,
          -0.6853460564827467,
          0.6933561187619474,
          0.7084809358350491,
          -0.5743803299542688,
          -0.08462830077042455,
          0.5647007460797678,
          0.20707686275936238,
          -0.43326176788847376,
          -0.24704564419932046,
          -0.6306776239957522,
          -0.33029355849138553,
          0.8499939500570048,
          0.17121613583439096,
          -0.928414770357243,
          0.49123174592607216,
          -0.6831754063420179,
          -0.9116263962572576,
          -0.6016172166037423,
          -0.4193252735677858,
          1.8531129014819905,
          0.11477575339096024,
          0.10278953440506593,
          -0.9308300842776523,
          -0.32687572334556536,
          1.908459290758915,
          -0.8939190327085775,
          -0.3109964753975755,
          0.04924452854844828,
          1.0879899230565684,
          1.8620588728956273,
          0.7376578858754228,
          -0.8381165295429435,
          2.0431252237514443,
          0.7919875749778629,
          -0.5272638517241584,
          0.08799561339586497,
          0.6509546854896315,
          1.8871778608284375,
          -0.9308306999091178,
          2.076730184454819,
          0.06658611487294384,
          0.740660302115301,
          0.9404663578445488,
          0.07827922106421491,
          2.0617830256007252,
          -0.12459548942832482,
          0.5904054539531463,
          -0.739466634098189,
          0.6380425231631031,
          0.5869797534180667,
          0.7593041815028219,
          0.7070120004161894,
          -0.1240801504980702,
          0.567289941454481,
          -0.051123432666792507,
          0.2864721582274134,
          0.13897916459310639,
          0.05019131452933265,
          -1.0241323866394159,
          0.5549042041529356,
          -0.6488941819599119,
          -0.8357915127729689,
          0.44291567516329966,
          -0.2708213064094853,
          0.8503954342410442,
          0.5306997729476007,
          0.8184360682263697,
          -0.997126583321195,
          -0.700584732175493,
          1.959908646335066,
          1.9838480666466536,
          -0.5995427806955667,
          -0.9010400112908953,
          1.0355126349193557,
          -0.350660142308296,
          0.32768700936995043,
          -0.04016317223584159,
          0.15094373478104628,
          0.734586109933704,
          -0.8910871264427973,
          -0.3018500056837781,
          -0.1906323575700967,
          -0.7114786322972874,
          0.0425441604605657,
          0.9809075748882272,
          -0.9949460233514558,
          -0.0400547993103928,
          -0.6609744577151037,
          0.3007066800247792,
          -0.8744298467098286,
          1.8311117879434176,
          -0.9424846875397891,
          0.7920689636735169,
          0.6902710888714656,
          -0.5578173089134646,
          0.07714734037785345,
          -0.09858753297919953,
          -1.0395389234324581,
          -0.8386802065409615,
          -0.585000436068012,
          -0.3135774774330543,
          -0.18296185767422363,
          0.21715582950668322,
          0.022821391451921462,
          -0.79089805000184,
          -0.7963657548939416
         ],
         "y": [
          0.9822549071575699,
          0.14923023969523552,
          0.9048229037751274,
          0.7738495251462819,
          0.8922511721638468,
          0.5375950726948494,
          0.692219405156005,
          0.5242480909919646,
          1.1146413184995962,
          0.45175022927263836,
          1.1293822962572033,
          1.1306890240309244,
          1.0165394164128152,
          0.14933309021842642,
          0.9289333208596634,
          0.9961428991188824,
          0.19149737056734215,
          0.5812339938589728,
          0.7069480687581869,
          0.2104152066378292,
          0.16369593164453844,
          0.9035353193739566,
          0.3583909220452828,
          0.36196029174261446,
          0.7856773869043517,
          1.14261722901092,
          0.4548679847830043,
          0.8783579012255007,
          0.7689716538232707,
          0.9736166422153768,
          0.6595942978884547,
          0.8498118355899794,
          0.894996426600414,
          0.48495097581222146,
          0.35404897970612953,
          0.6004796703390658,
          0.6369722263174613,
          0.5123970912365601,
          0.8907933528063234,
          0.16013836983422494,
          0.3928101156749578,
          0.6467705713527294,
          1.04879913929362,
          1.085903086884279,
          0.9675845148093507,
          0.5817418650424417,
          0.4540928968212434,
          0.4174663351098843,
          1.077014290582438,
          1.0164909680301852,
          0.15393519067940165,
          0.34689187411458833,
          0.4671057566367257,
          0.4663233443250978,
          0.6735452301262901,
          1.0964472490618125,
          0.45767320701916286,
          0.4320566469686784,
          0.7907253128860806,
          0.35480369814309526,
          0.1942138186721349,
          0.4215296191523841,
          0.4642075829220752,
          0.9076905092792218,
          0.42198155527990316,
          0.3585163998055548,
          0.6123224794345812,
          0.4655942779581995,
          0.6547574742308572,
          0.49645627943096193,
          0.5836918951044027,
          0.9250473004842005,
          0.9124019716073178,
          0.38237380554133393,
          1.006872637986854,
          0.6385034760315458,
          0.36368060534085667,
          0.8346343390442892,
          0.18259278189025718,
          0.20955205609712818,
          0.8265587478504105,
          0.6287892576713605,
          0.8046756278065207,
          0.7621838094565843,
          0.5315213069250324,
          0.858929460144145,
          0.8171471541956853,
          0.7718022937956595,
          0.20721875808873705,
          0.4320689403148781,
          0.9320094889836834,
          0.45490677181924216,
          0.9248858733702299,
          0.572991782098502,
          0.20738668926220724,
          0.3762678425606728,
          0.9960299841880952,
          0.5514177267695407,
          1.0287487385579905,
          1.090641920554707,
          0.984204485646643,
          0.3836853734007045,
          0.16473362163593158,
          1.1140047370266188,
          0.5858504332717828,
          0.8643731812263942,
          0.4915358838038539,
          0.7588692473806384,
          0.698034146654553,
          0.9191275632641515,
          1.004205011681552,
          0.5254089635141769,
          1.0755269483454923,
          0.5106583054746783,
          1.0313850065828136,
          0.7481449246049681,
          1.0286439460321748,
          0.9757441212100094,
          1.0185245917876566,
          0.19724525451439648,
          1.002608316578085,
          0.7455703306098864,
          0.6331327984176263,
          0.1911355643809437,
          0.4117147894464323,
          0.8939998152987016,
          0.17674468904140672,
          0.46222676056263257,
          0.7787922354906126,
          0.9726414177544055,
          0.9385129265571125,
          0.8469796563572628,
          0.8487633877054607,
          0.576061749621294,
          0.8664579839676668,
          0.49490098653855985,
          1.0874749605024243,
          0.9154426285911992,
          1.0753869412079091,
          1.0784856091029886,
          1.0175213430318775,
          0.5071503973278404,
          0.41273326839467406,
          0.49759728720168145,
          0.557965871952936,
          0.7967577725248147,
          0.1900853915163622,
          0.6462052916372527,
          0.19392237537754708,
          0.6781352863480687,
          0.9768618277247607,
          0.5879257307825388,
          0.16321001447275563,
          0.1524460387441986,
          0.3822405634673003,
          0.5209842639913571,
          0.3972768809170282,
          0.5780223220212798,
          0.612205137405952,
          1.024501332174364,
          1.0396859728897412,
          0.15173440040047456,
          0.5013588039881599,
          0.8782426409688234,
          1.0064447185779646,
          0.19590320058670402,
          0.8241049033511452,
          0.4243148841854044,
          0.47852793105285224,
          0.6097811671476104,
          0.6065358900538679,
          0.9209997471802941,
          0.6650843922285694,
          0.9316573122990164,
          0.5963798004749471,
          0.8349804413168526,
          0.40408190730764093,
          0.9422331663277249,
          0.16806438440870106,
          1.0274453643287225,
          0.5207540064108276,
          0.8154532388887875,
          1.032968865223697,
          0.5412191797744178,
          0.9355513994206468,
          0.4689415682481403,
          0.9380600086510635,
          0.7362116381031216,
          0.8734130993694545,
          0.49062061252170097,
          0.3899004095880721,
          0.1704418743608323,
          0.586737037333617,
          0.563526394611758,
          1.1169556290195044,
          0.6232828341038067,
          0.9149700616206495,
          1.1529855391281612,
          0.9350700209756714,
          0.47823623740210813,
          0.18636468954024696,
          0.6115260165826947,
          0.7361484928914401,
          0.9490797313566346,
          1.191727553371186,
          0.664019765884372,
          0.37078111329719093,
          0.6642842537402468,
          0.1856418311566567,
          0.9448338682771306,
          1.0121690588876098,
          0.7155893500252464,
          0.40621995395732213,
          1.143151885496631,
          0.3766259125988167,
          0.6774846490778345,
          0.5230193006352926,
          0.9681315342737128,
          0.8782042506716959,
          0.3864966645134199,
          0.5447230121769524,
          0.9501412665927098,
          0.9579810403448553,
          0.6451152599699185,
          0.893500233426621,
          0.1893220684068628,
          0.8292614129991908,
          0.9125935135674815,
          0.5326909642849956,
          1.0018948820834717,
          0.8855518442585144,
          1.1322973936130578,
          0.8642388407090952,
          0.8579261600927854,
          0.15520154874557887,
          1.1147270313820667,
          0.4752475500534998,
          0.3587359290195336,
          0.5512026218856795,
          0.70334335170018,
          0.736686150772422,
          0.9487152910250946,
          0.5571086009035575,
          0.4105439250356825,
          1.0282571933946403,
          0.5149165622091357,
          0.9204194632774736,
          0.5660349265616935,
          0.16257365788165762,
          0.40225343573616046,
          0.16843997033131197,
          0.4708864728069976,
          0.4284707953753265,
          0.7326173848537305,
          1.1311471422944275,
          0.8986269361187034,
          0.802738324875337,
          0.17442747387898516,
          0.7139255328654638,
          0.18961054257926302,
          1.1199070542138023,
          1.117122439708915,
          0.8034260711525961,
          0.14749727624119602,
          0.8475673273293076,
          0.8179716415241942,
          0.8709898180595733,
          0.4471513213644504,
          0.5365287722796735,
          0.9454821275935075,
          0.17792249708436497,
          0.9638995051420453,
          0.5443681421483276,
          0.9921660448014442,
          0.48989475472359145,
          0.9749464468087005,
          0.9264786189364063,
          0.9267599755677497,
          0.19366382613882935,
          0.817408156258662,
          0.9010221832899374,
          1.0466436484822301,
          0.17831933511895554,
          0.866046097395471,
          0.9607887888143329,
          0.8984375453694561,
          0.9442049054399886,
          1.1734979133995669,
          0.6820203333081072,
          0.786070009510756,
          0.9005444138500985,
          0.7371817675548691,
          0.14827519891943752,
          0.8382208906558626,
          0.5106113069073177,
          0.41577433141602144,
          0.46264042355695184,
          0.5619960227521309,
          0.6379371139695389,
          0.6258053996891731,
          0.722964697074906,
          0.5244352231245796,
          0.8543166913761971,
          0.7295799991707731,
          0.8696530518725815,
          0.19243483004664874,
          0.43834679264283943,
          0.7003212258432361,
          1.0201510490953887,
          1.0285200988568504,
          0.9277635549816092,
          0.508833748060106,
          0.1434221647401584,
          0.7857556408646011,
          0.786937740647921,
          0.7208426598618961,
          0.7094392950041575,
          0.7836253836577559,
          0.773122365479913,
          1.0182984600316471,
          0.3842464242742039,
          0.20490938337806866,
          0.44196596332431903,
          0.9540853483829905,
          1.0722901271988001,
          0.8009256015351454,
          0.3846078008597673,
          0.7192873442222788,
          1.0315914550627436,
          0.8416541764174054,
          0.9489362454503518,
          0.655941407618541,
          0.35857791151696455,
          0.6595799860516327,
          0.7955249761037808,
          0.7983929918707775,
          0.5996756093554767,
          0.4049118450408541,
          0.8581167669295726,
          0.7387139461129776,
          0.403120795647101,
          0.8938613563174089,
          0.15141466732127878,
          0.915542007206323,
          0.7851966093821181,
          1.1445467541154781,
          0.35822146052563464,
          0.7302017523530339,
          0.9765843997803004,
          0.5773329270165912,
          1.1202405489074996,
          0.48634179651211307,
          0.8437024538666288,
          0.8651083378250098,
          1.0477469510325486,
          0.39754617262910885,
          0.6932067877004877,
          1.1344456773925657,
          0.4139090752968093,
          0.7487509905492531,
          0.8832130282325312,
          0.6168327548214411,
          1.114590535149756,
          0.19459153218874475,
          1.091933201564494,
          0.9226539253119874,
          1.0449188339881457,
          1.0840696708049657,
          0.14847299003714443,
          0.3505068584968449,
          0.16584856991975713,
          0.9467273588743573,
          0.16544383368561813,
          0.8911404761019216,
          0.4916772453861567,
          1.136869207902676,
          0.8284887149408875,
          0.7001554527684575,
          0.7661971632897764,
          0.3819080424900923,
          0.5465054918372831,
          0.7332593885385613,
          0.5091832458918455,
          0.904592673621985,
          0.38260827265480346,
          0.7490903235360868,
          0.7970993436719228,
          0.9438738651981043,
          0.8147053710036689,
          0.9489683246396243,
          0.9961208977559891,
          0.445341889633422,
          0.999616762671522,
          0.36935130989206877,
          0.8296551074622013,
          0.8828743160720451,
          0.3554459231805674,
          0.7857400986998726,
          0.8471963125921481,
          0.14875179912699285,
          0.3899919588664757,
          0.9269140639981439,
          0.47142460212562687,
          0.8577656768871139,
          0.43645038280327964,
          0.43406068187663305,
          0.8455155806177995,
          0.9530154471489818,
          0.7160841071674584,
          0.6516273843833911,
          0.563198745646896,
          0.7547112266066403,
          0.1775719672002988,
          0.40171325961490234,
          0.5749360516041062,
          0.15331301921942833,
          0.6316959995802611,
          0.44666536746088137,
          0.18204960865924144,
          0.37872778046215516,
          0.20741666494080385,
          0.8099581487368429,
          0.42170202326554185,
          0.4379337361769818,
          0.15997704194787027,
          0.9698553991413721,
          0.8626907985475539,
          0.9413337691881298,
          0.46887424263007904,
          0.8350104932564099,
          0.7080342274565354,
          0.5685573941029896,
          0.5164472934101387,
          0.5310809588522025,
          1.117212944793179,
          0.8270845623675193,
          0.9409375597247863,
          0.160797415291926,
          0.4803230184529077,
          0.8129124609154507,
          0.8096494866892436,
          0.44246654502726024,
          0.8864484345120117,
          0.9781618698629954,
          0.48425339691364677,
          0.8059713899719186,
          0.6455899804796078,
          0.8132518796359277,
          0.7768822534908109,
          0.151518877928812,
          0.3605230968554292,
          0.692591375352508,
          0.6049973066277112,
          0.37003300666586214,
          0.9455541511015251,
          0.7434595201812386,
          0.9206511096733676,
          0.15676882019532154,
          0.7553609054938039,
          0.6092134017521151,
          0.9813797580523714,
          1.0671183139148601,
          0.8230986372473956,
          0.4665679943350217,
          0.44101839003152543,
          0.3890363536100899,
          0.9581358566277044,
          0.8373064646626565,
          0.9799281024178358,
          0.466093577826476,
          0.4113344395062229,
          0.6872972697616939,
          0.7038338740600414,
          0.8074515749247568,
          0.7772082901304515,
          1.100494579673538,
          0.48073233259956044,
          0.6553316780600452,
          0.37701398517608276,
          0.6888970683389506,
          1.1128497788287635,
          0.8831756763636783,
          0.1947169735352577,
          1.144345004239283,
          0.42353437870889243,
          0.17309576877926314
         ]
        },
        {
         "marker": {
          "size": 5
         },
         "mode": "markers",
         "name": "Class 2",
         "type": "scatter",
         "x": [
          0.063939949605561,
          -1.018190360702087,
          2.0155546650737723,
          0.016375095320807654,
          0.5444994702348364,
          0.04820552819541511,
          2.160173291266628,
          -0.8785803291126939,
          1.7355368886076405,
          1.9296885121454068,
          1.1900020599208756,
          1.7483201215723283,
          0.4835313342111107,
          0.15577501853729372,
          1.9179738320473916,
          1.5223545238683645,
          1.267358873447407,
          1.690451742531432,
          -0.07159324668616185,
          1.3468468374072593,
          1.6986800931591914,
          1.4316704346846416,
          0.11141959815989988,
          -0.8809220044872816,
          1.8561655972344848,
          0.8075652263773391,
          1.3214986788982697,
          0.903060060763992,
          -1.0908751690195952,
          1.6870200680453382,
          1.254556442178992,
          1.7311410073576423,
          0.6398615457289004,
          1.8960410349468657,
          0.9114718704649165,
          1.167464820943974,
          0.7480632962007066,
          0.9810913116961008,
          -0.8115198044979305,
          1.0126320065416152,
          2.1106267844692113,
          1.9577974849943225,
          0.9001082722907324,
          -1.0628475959107078,
          0.7544953554869867,
          0.38730642422045974,
          0.9068092845103871,
          1.1925969011480473,
          2.052224506491266,
          0.23778849553532816,
          1.0513798349573982,
          0.43208494106925943,
          0.6948871693961778,
          1.6523297825420227,
          -0.9113613196207083,
          1.8296816519972487,
          0.23647333972944878,
          0.3085205978854415,
          0.9701614105516482,
          1.9390390210174364,
          1.691747322736228,
          1.5909694245070192,
          0.18252729457206635,
          1.8389458681267206,
          -0.9628511991044824,
          1.5132903737674015,
          0.6615751384183183,
          0.9597787170402678,
          -0.8550442274658862,
          1.3169824651290534,
          1.7747361777754083,
          1.8758343783822684,
          0.6781858356077635,
          -0.16411450774499592,
          1.839843934902518,
          0.1989134482812208,
          1.9452480780502703,
          0.49920057910414267,
          0.11783193946197487,
          1.4267014374386449,
          0.09968028681659154,
          0.6459441873498729,
          0.7029949956012647,
          -0.11410780794611214,
          0.012137487822318375,
          1.257185994013502,
          0.17866366595383137,
          0.23733599447295253,
          0.2656204270803237,
          -0.052601954507430895,
          0.4099329092692868,
          1.5355364190283434,
          1.396899979600678,
          0.9920907252063856,
          -0.033281464569955635,
          1.3183521818723083,
          0.2645673433122307,
          0.5605667173946647,
          1.560845281253122,
          0.8772101149717857,
          0.33043487820009065,
          -0.9017476305920097,
          0.07334195165248802,
          1.276323544305656,
          1.541108547095788,
          -0.8987052898531316,
          1.7880580921604834,
          1.07267562793669,
          -1.0274055932773343,
          1.4361368001461179,
          0.6725177013194297,
          1.877234582779642,
          1.4758638968852897,
          0.840869838140646,
          0.20220634095958417,
          0.9473598264723424,
          -0.8449418927423359,
          1.9188664581838808,
          0.8025784867127288,
          0.25571163330843977,
          0.20798293567147463,
          0.0889344677518929,
          1.4708999889279895,
          0.953724979140008,
          1.2669329199566888,
          1.090202399327623,
          0.2591940621415809,
          1.0676383278941566,
          0.3500954787935012,
          2.0132187529652272,
          0.9754988071933668,
          0.031710430834750544,
          1.6163029597759593,
          1.7326197168823818,
          1.888175422119508,
          1.7892217488839055,
          1.1170384882612967,
          0.378621333237093,
          0.29081388940161557,
          0.6612345020362699,
          0.8951801211544995,
          -1.0346007807497644,
          1.9340102249515863,
          1.6996973670305158,
          -0.09841743293513039,
          1.6233257909388628,
          2.0356428643708298,
          0.5392453407240456,
          1.399354360709321,
          1.820878316749508,
          0.8750717688805798,
          1.1940996986895875,
          0.9982207552407435,
          0.5225378637327404,
          1.3986007872504684,
          0.9710523842247565,
          0.8797802983140307,
          0.9005521840885232,
          0.9288485783361912,
          1.3272525139102187,
          1.3803099919836912,
          0.3069392403191454,
          1.1883179538293374,
          0.7785352266212465,
          1.3409296298242488,
          0.4251725769033501,
          0.5571589600088039,
          0.1517832409285568,
          1.6343642010560124,
          0.9426750184941881,
          1.157979718481977,
          0.7470542814046279,
          1.097350423309488,
          0.8922424172514138,
          1.573365587010463,
          0.35340570654401077,
          1.1329689761151132,
          1.762308026965557,
          2.0593046682390606,
          1.2387026248232793,
          0.9971702443808963,
          1.988381095843129,
          1.8829445784607906,
          0.6718666959758679,
          1.6092861838194414,
          1.4431890060030117,
          0.14835794292502952,
          1.1487879047710736,
          0.6932396494860962,
          -0.8664676581136695,
          0.3928306427702191,
          0.5225098731869396,
          1.838834479067361,
          0.22132040391510338,
          0.6839533662020271,
          1.215500213998289,
          1.1449517471856618,
          0.10068401085581187,
          0.8985855256149725,
          0.7050731860285049,
          0.917226682243733,
          -0.005135654328909847,
          1.11036931600468,
          1.0153364459045147,
          0.6347642423715206,
          1.5502244688530806,
          1.1398329608025217,
          0.7987910911671069,
          0.8693463342370538,
          1.543637299722769,
          0.6177531832318391,
          2.1650248034341795,
          0.2944043514724337,
          -1.0236133069865612,
          0.746116960044143,
          0.11603347375525597,
          0.27659454328804844,
          0.7866040403621046,
          -0.9807871930034272,
          1.6134771196420798,
          1.0012844062801318,
          0.2950024835964539,
          -0.8007932645229426,
          1.6968924470069295,
          1.702423258184596,
          -0.014053642154476981,
          0.2600748459757962,
          0.1845538525262413,
          0.16472796296802278,
          1.1366433877534992,
          0.1901643576080786,
          0.39174689859419337,
          -1.0046253193308974,
          1.3684971593033886,
          -1.180544067365991,
          0.5099377210544365,
          0.7686453165545392,
          1.0943953907451023,
          1.0056168108847163,
          0.9415417227080517,
          1.5079851778717261,
          1.5192489837071625,
          1.9380667062138195,
          0.27103913050557976,
          1.901012439189467,
          2.0913379167888837,
          0.011543082752271172,
          1.4201825454895807,
          -0.8246006923182715,
          1.1590277925337291,
          1.0375057283011544,
          1.917033383434779,
          1.8191781837251813,
          0.26550828037185725,
          1.160238525981432,
          0.9622943565313694,
          0.9079981991650109,
          1.57995026578518,
          0.11163419782042715,
          0.30471954173312804,
          0.9381038748871668,
          1.1920520699736976,
          0.2470066688668756,
          -0.01719280443128529,
          1.966462926805192,
          0.5762542813971698,
          0.6248879210110367,
          0.5272119024734762,
          0.10689425791012852,
          1.3851960487126924,
          -1.0695073602643013,
          2.0901248437469753,
          0.991519003891426,
          0.46783805599311706,
          1.9127881626580194,
          1.7789525804925526,
          0.6143560035895185,
          0.29975838122801224,
          0.16322229786195178,
          1.0887613107320708,
          0.7355136716992001,
          0.1402269153745922,
          0.8832890836568095,
          1.9930006494053674,
          1.651309716719182,
          0.24318336722355183,
          0.8608962995512393,
          -0.9034498023546976,
          0.3906712442105742,
          0.3888088857084369,
          0.5087484923888264,
          1.7978093852337538,
          0.9870905259096594,
          2.138139561665948,
          0.14003358563672566,
          1.0521631817640047,
          0.964046588459835,
          -0.9578602711127364,
          0.94655881889757,
          -1.1040016633028646,
          1.5745841350948773,
          1.6203804168607379,
          0.9557303965047209,
          1.0230272140526189,
          1.6488936611980813,
          1.0601275558491716,
          1.0808404907337086,
          2.1173551050025643,
          -0.2161140516668565,
          1.8548143416169487,
          -0.09599397640666968,
          1.6963525583933416,
          1.2695688176654805,
          -0.04982147034367636,
          0.2555296543023894,
          1.6000310106476998,
          1.5297254031446958,
          0.9663665448540857,
          0.614745849421296,
          1.8649731743547033,
          0.8180016074266431,
          0.015605763123920702,
          1.9696425750294475,
          1.8713397000669356,
          1.3253903564595486,
          -1.0380991494905056,
          0.4729368839282737,
          1.7532718478730684,
          1.583408431290598,
          0.1910910539642115,
          0.15804254540424478,
          1.9494385400761478,
          0.37825310525179034,
          0.9695167800661638,
          0.9564373878506884,
          0.3363698012442188,
          0.3186500712141917,
          0.5445700257264955,
          -0.9058282351255861,
          0.5700219433597954,
          1.9999617140166979,
          1.8172559747270238,
          -0.9732297156062272,
          -0.9749298913380535,
          1.292817034080452,
          1.8609124679820839,
          1.918962043752236,
          0.10690277565810355,
          0.3669983132638698,
          2.021612067009034,
          1.2650210942732778,
          0.5819280601456926,
          0.7743123406818653,
          1.5556896790583532,
          0.2716809772358816,
          1.6520026206324647,
          1.9120746172393157,
          0.4865479362129849,
          0.31448727949611494,
          0.46729792559441696,
          1.0525639255555452,
          1.1462252580790155,
          1.6273689260057376,
          1.5513776131611627,
          0.9794708590658221,
          1.5238294833857886,
          0.8505318115479831,
          0.8499562833570202,
          1.0092686838508294,
          1.2204636932453221,
          0.8549497533950963,
          1.726619915439255,
          2.0264855001404953,
          1.419765617972486,
          1.456486991009975,
          -0.9157611312496877,
          -1.1086652322843984,
          0.8567445612336809,
          0.21874599707945863,
          0.8193133250702751,
          0.3534566275247975,
          0.20653558303996733,
          1.1666093282630265,
          2.1150199250003396,
          -0.8183566650431977,
          0.8455720014137138,
          1.622846519524403,
          1.4715524686345842,
          1.8204662079094565,
          0.20456413609586457,
          1.198350121561327,
          0.8799937001707098,
          0.5533639519825475,
          0.3749587065285942,
          1.7914939782136574,
          0.37591193241021803,
          0.2084298954340238,
          1.5765987349344202,
          0.38128945303904915,
          0.15209199748815727,
          0.8083759991789612,
          1.101412809591312,
          0.9848391216013848,
          0.1520788056241618,
          1.836585649161275,
          1.8065305520395558,
          0.653453873263645,
          1.381451046066554,
          -0.9250658312715272,
          0.19392253560523715,
          0.6093086924846841,
          0.17488085764581277,
          1.8743359034335103,
          1.488994140865542,
          -1.0358928588612484,
          1.808506825842032,
          1.6127873550632492,
          1.7621876021507565,
          0.06908329986831424,
          1.2533239111630796,
          0.8944574745539288,
          0.180262609508001,
          0.46293676092494795,
          0.9631289090337051,
          0.3035556144895747,
          0.45563013625102045,
          1.6987860255944391,
          0.3029268859873504,
          1.584481156741579,
          1.015672641706944,
          1.6603269404953438,
          1.4230486519002155,
          0.977194343720612,
          0.9373977186015032,
          1.3920740936402414,
          2.0841322346296693,
          1.9415870006689373,
          1.8711869432585,
          1.2318412607269749,
          0.19452806962329477,
          -0.9403577672717643,
          1.1289321994178445,
          1.8429652567972388,
          0.3079030319312982,
          1.9868545470888017,
          1.4255161675628625,
          1.1460922987269817,
          0.46293513544803283,
          0.811632726332328,
          -1.045004449249689,
          0.7600506926200432,
          -0.06870621293276091,
          1.8554638804769041,
          0.35412450730358036,
          0.819838479461812,
          -0.9450121217306359,
          1.0832619780050994,
          1.576020898948935,
          0.8515524000339552,
          0.6005210593194417,
          0.3557735747899901,
          0.9276009705523894,
          0.9454173087076261,
          1.340473649754186,
          -0.918859617121998,
          2.0514940632162273,
          0.807846939935297,
          -0.7918199963121605,
          1.7525842404653638,
          1.0252896295176281,
          1.1330598934253937,
          -0.053557162116059834,
          0.9351792762394473,
          0.26586126066849736,
          0.9583245757937616,
          0.09325173180170927,
          0.23812725523065878,
          -0.0313055707536192,
          0.17732059710965742,
          0.16181194164960538,
          1.0122495845329154,
          0.01133746195056097,
          2.0442971001050556,
          0.14315976665613678,
          1.3583575629940166,
          0.49880223008974833,
          1.5242958389493575,
          0.05889234193479991,
          1.679541791304831,
          0.1236002089394033,
          1.6204486060258385,
          0.8554419351387067,
          1.576435100897165,
          1.0204865338228724
         ],
         "y": [
          0.013940660665675762,
          0.11907660557003555,
          0.05631694080666472,
          0.34482198677103615,
          -0.5157270750854873,
          0.10252563309485478,
          -2.5169219672660503e-05,
          0.31224570463852824,
          -0.5375226309890648,
          0.08739232723442511,
          -0.642232433528312,
          -0.08774907499480136,
          -0.4098000081068081,
          -0.07178561639098403,
          0.10321851518112199,
          -0.3040333417275684,
          -0.32660906644585486,
          -0.24690251466106675,
          -0.0011128341413057102,
          -0.4639872127317194,
          -0.29411818291208447,
          -0.3396827899459264,
          0.23739845858261674,
          0.07181355839780051,
          -0.09089220756992276,
          -0.4771950398033283,
          -0.4300509128945553,
          -0.5255451457251874,
          -0.02613692316125891,
          -0.2462937094347606,
          -0.31722099541195214,
          -0.28503584669068993,
          -0.4472119372782632,
          0.22882364225197332,
          -0.5050126327139184,
          -0.48283588239420416,
          -0.2695106996878023,
          -0.3431414129165028,
          0.3035597360181084,
          -0.006532613514394589,
          -0.19447183522043626,
          0.1365908441775824,
          -0.24038109532685387,
          0.09171639434065751,
          -0.591899048865644,
          -0.31561399879898916,
          0.3210962067439637,
          -0.5417006854411671,
          0.2795607666287506,
          -0.00014453224742655424,
          0.2972997651471223,
          -0.1708260928184298,
          -0.31299648521031354,
          -0.13878606600403995,
          0.24038642856574294,
          0.04097931100041438,
          -0.16091110378572826,
          -0.3953821398406436,
          0.1015123065487504,
          -0.16918865637964361,
          -0.28587389843885275,
          -0.5865857164417033,
          0.3374798020521677,
          -0.22409064739178208,
          0.0948042740195339,
          -0.30830488726764826,
          -0.4752372416350539,
          -0.5225291027182517,
          0.07384462921704224,
          -0.47457987724914785,
          -0.5231818729323499,
          0.1361049000193027,
          -0.39911033404337437,
          0.2884864039246948,
          -0.2923333986168524,
          0.047838688021465334,
          0.21469153049116546,
          -0.4395545585478299,
          0.06375725970719998,
          -0.33749179729078443,
          -0.13360979371819315,
          -0.16477723528282184,
          -0.39996525589725873,
          0.21577942509828363,
          -0.0357521898960399,
          -0.6029704649992014,
          -0.06032219550949368,
          0.10540856168543092,
          -0.23577903372587927,
          0.2441542141759305,
          -0.3028591810200271,
          -0.5186575804537786,
          -0.5488513852845646,
          0.34304956649804075,
          0.2821120153548414,
          -0.45208588743292155,
          -0.003961655996669387,
          -0.399690420334813,
          -0.32054146116551663,
          -0.5389820232211788,
          -0.0001428126565790333,
          -0.1715329846426732,
          0.03617490052832267,
          -0.4539248599082802,
          -0.3910758021965512,
          0.13350844824256947,
          -0.13786042746982116,
          -0.4398994214968719,
          0.01993995243595453,
          -0.2394967574618413,
          -0.60347129965143,
          -0.3005688828658164,
          -0.19267149950619789,
          -0.5198903219829518,
          0.10515249758297542,
          0.3059163056488233,
          0.26920233611784494,
          0.00516265490710506,
          -0.48504422776191863,
          -0.16211929116974227,
          0.1101029594881218,
          0.10086670574035998,
          -0.23079053114944864,
          0.34141552525662794,
          -0.4249058622481973,
          -0.37843379143091294,
          0.01695766405758123,
          -0.5114897658218159,
          -0.08390255131693213,
          0.29197247483498306,
          0.2570386588428125,
          0.07445204921641645,
          -0.025318682157969452,
          -0.3738411051000727,
          0.013252659591216923,
          0.0946300884567681,
          -0.487434786977572,
          -0.3521710611649506,
          -0.33678406186216464,
          -0.42073586665186447,
          0.3332168894068407,
          -0.07472909268140751,
          0.07352396933933614,
          -0.23873552083156052,
          0.31028964053316976,
          -0.11374731730619014,
          0.26596598567760354,
          -0.452073979417003,
          -0.30864119096803616,
          -0.3738034872002537,
          -0.5753388905799247,
          -0.3019909563265129,
          -0.40638919916364463,
          -0.30620528636869127,
          -0.4227592581525477,
          -0.41581689296395674,
          -0.3314709414061276,
          -0.03445313671531615,
          -0.48354839794470095,
          -0.4549264510677625,
          -0.33947595875956826,
          -0.11065817733690714,
          -0.41073386673457013,
          0.33694434117097677,
          -0.3316156691586303,
          -0.39278610488309695,
          -0.333063344833272,
          -0.2500037352048792,
          -0.10908758117193597,
          -0.42115732546813556,
          -0.3933540984206957,
          -0.5095079123984306,
          0.027558723065472635,
          -0.5052970447339236,
          -0.4649452611538161,
          -0.13860790640233797,
          -0.5418611173553982,
          -0.07439459094414448,
          0.32320762368016187,
          -0.48830303416529836,
          -0.5382585369622968,
          0.04275732291758144,
          -0.11598637085759331,
          -0.5677453051462871,
          -0.35121059563216234,
          -0.37697883083885075,
          0.02468793040130577,
          -0.6055474805105443,
          -0.41553048319501373,
          0.27159257984287233,
          -0.48579456868636556,
          -0.29210429649742287,
          -0.02678321473560727,
          -0.026675483633033445,
          -0.5008886661305665,
          -0.6127846968793487,
          -0.4030234489429793,
          0.3204287657999168,
          0.3365478419297466,
          -0.4362831871572468,
          -0.5137316464365155,
          0.2990022233266702,
          0.09196274055048789,
          -0.6086758396631857,
          -0.34861998367767016,
          -0.4466369989934935,
          0.03798009054966073,
          -0.5186420360097719,
          0.2802755861949742,
          -0.44983539196424516,
          -0.5410502777224774,
          -0.013707084533886013,
          -0.45468199050280467,
          0.13875932447414888,
          -0.31759684048110015,
          -0.2380929011507877,
          -0.17717721152650223,
          -0.43693595068820523,
          -0.08530113769184072,
          -0.364129663508726,
          -0.5882870648084942,
          -0.11456768764348747,
          0.3342148992917382,
          -0.17649855294992436,
          -0.1440664970579216,
          0.33658412962749235,
          -0.31057876332962187,
          0.23699670748832063,
          0.0821050592908119,
          -0.3864291826487122,
          0.2596657401889749,
          -0.2854068969894665,
          -0.020545188968072947,
          -0.37174518204232293,
          0.054191361282280914,
          -0.38527502557344845,
          -0.5667137433259453,
          0.009419212227182616,
          0.08730409261778599,
          -0.6577486053023981,
          -0.13351406376755992,
          -0.4558077667735271,
          0.09359395171926467,
          -0.1097635560716291,
          0.26386194143791486,
          0.22379687135718102,
          0.2974941045606119,
          -0.4444789261330784,
          0.06467853835047639,
          -0.4782683364391595,
          -0.03444916318051384,
          0.30804989999063626,
          -0.1321261240214746,
          -0.21562286781586937,
          -0.43309036610181223,
          0.23098694719715263,
          -0.10835631419880658,
          -0.3351216721393686,
          -0.03726834798573628,
          -0.25873878733262556,
          -0.5203340919298982,
          -0.4148488391352502,
          -0.11547960177231756,
          0.21920310410637028,
          -0.273880277644967,
          -0.5035184810116758,
          -0.3797200851381378,
          -0.30492261421177846,
          0.27868590929038206,
          -0.5592782318066382,
          0.09872994319393513,
          0.25084881259471103,
          -0.010798764661605231,
          -0.27085147547947835,
          0.09877131668700201,
          0.2328339229801346,
          -0.6057744710665149,
          -0.29385175600068386,
          -0.01866177214896758,
          -0.4442444021937063,
          -0.6499726555759007,
          -0.19662275004899615,
          -0.5127890088085557,
          0.04048741263919335,
          -0.22064838111058654,
          -0.1440851975407258,
          0.3087197551691415,
          0.2882583174123693,
          -0.07100867470021124,
          -0.17332888521448284,
          -0.35265346382959084,
          -0.05826162078807487,
          -0.5573839144180922,
          0.2991610678405682,
          -0.1749741233079894,
          -0.47753066137183986,
          0.3124233801080995,
          0.297732014838165,
          -0.3998572494467904,
          0.06752040628375683,
          -0.34522530531935935,
          -0.1939281650147373,
          0.1237883706359743,
          -0.712751326510594,
          -0.20329051693238892,
          -0.41432661514894464,
          0.08786293076170652,
          -0.08892161537899197,
          0.30210316063586595,
          -0.28333466877834146,
          0.260235490168624,
          0.036569026901648816,
          -0.2606192740971155,
          0.34323986235845144,
          -0.3778810459313696,
          -0.3045517537954221,
          -0.35394525065154403,
          -0.2983372503495333,
          -0.4155205254207447,
          0.21681853648198834,
          -0.4034338237756841,
          0.10434252611832882,
          0.27252789699643354,
          -0.022583379181874808,
          -0.29277259880379425,
          0.11434467622239647,
          -0.2522647331162464,
          -0.4348383164607681,
          -0.19581421141053804,
          -0.08867220725287966,
          0.21569766608063812,
          0.058946555635135275,
          0.1061151237770106,
          -0.41971974181618604,
          0.26150199388566275,
          -0.09940306498554369,
          -0.1266612204560404,
          -0.4627674643813427,
          0.3052011530202909,
          -0.23472995646441946,
          0.2600980641950314,
          -0.2739841984982064,
          -0.1532949732274595,
          0.26883165936389164,
          -0.29367350442038803,
          0.10355671960800154,
          0.28111225157549957,
          -0.12449652086946161,
          -0.2135467589262814,
          0.07697961138318049,
          -0.45913935523256005,
          -0.4166035940146057,
          -0.5693922065542244,
          -0.23970730520317424,
          -0.15245395258272565,
          -0.0934582976924608,
          -0.14988834653601554,
          -0.3347694553436417,
          -0.17737545012253314,
          -0.5193792090405124,
          -0.13812266667536982,
          -0.5111795926554249,
          -0.10361986017798464,
          -0.22385311315993198,
          0.08499349534050843,
          -0.4739068937708934,
          -0.48589913629064585,
          -0.2551491760555385,
          -0.05232965417148534,
          -0.47737697012308133,
          0.34285661058591627,
          -0.4032190021777816,
          0.26089684690791803,
          -0.2726585538844629,
          -0.32145894362567706,
          0.31981083893223683,
          0.13944756215190945,
          -0.4642754422069754,
          -0.016341774073533197,
          -0.579537527171378,
          -0.37484263692158626,
          -0.24548608104877856,
          -0.08538688650956047,
          0.10329572792832098,
          0.284252760381604,
          -0.6665990271399224,
          -0.42266779939519405,
          -0.3962350261273377,
          -0.24272068570615418,
          0.07709302053956213,
          -0.5031931974430363,
          0.03180639449125322,
          -0.34234611442677354,
          -0.2442734945067049,
          -0.15444560766166307,
          -0.18780788696260545,
          0.03492138273638279,
          -0.3632239678783688,
          -0.34619874401827067,
          -0.2796241296344709,
          -0.5129288158197658,
          -0.6037371539590445,
          0.08575522510953706,
          0.3234463817033639,
          0.2613148974497754,
          -0.058556565802096325,
          -0.7082747812402832,
          -0.35646581561064583,
          0.2278270968091229,
          -0.16137227154874947,
          -0.5185570588540437,
          -0.22076178953943898,
          0.30568613190596206,
          -0.5280203932167837,
          0.2247987826217719,
          0.053634187454427884,
          -0.27625173392056135,
          -0.13913310735450665,
          0.10578051182627818,
          -0.4877707503120928,
          -0.5353238441429066,
          -0.1686785483418342,
          -0.40975623097200076,
          0.3339356394032541,
          -0.3528847812641663,
          -0.30014918891097314,
          -0.04082334459304576,
          0.028969281173670036,
          -0.3372257569524072,
          -0.4670953902974343,
          -0.10202109120951369,
          -0.4464938480083915,
          0.13521629961702464,
          0.1371782403629405,
          -0.5582059424577119,
          0.11525677666820411,
          0.08988241233026079,
          -0.05278450005072814,
          -0.40092355979391264,
          -0.2549713204543741,
          0.2739980130554581,
          -0.6923127187069631,
          -0.16355836866725865,
          -0.12307716752856825,
          0.02801519739588393,
          -0.4122871882894019,
          -0.6438738504181376,
          -0.27463532722331835,
          0.1354726477168957,
          0.09448049159513887,
          -0.3476307716679946,
          0.06149002242898462,
          -0.27078703788665437,
          0.0008606552998645413,
          -0.41388438182284,
          0.00017490499144343086,
          0.09311445538918961,
          -0.24436058123427912,
          0.06187760694193545,
          -0.5019989929860339,
          -0.10735066403967908,
          -0.4902031450807139,
          0.132295543611898,
          -0.4284837907592485,
          0.22957484281949514,
          0.2847547521586459,
          -0.4582832973045756,
          -0.07678508349193197,
          0.07945589243947074,
          -0.2944548164358294,
          -0.6235235186884918,
          0.2735238192263706,
          0.2602825122601336,
          0.0250536947461224,
          0.11174336940867566,
          0.06865631590678223,
          -0.2619817318430558,
          0.011511074169616546,
          -0.18879164916485155,
          -0.26378319438814163,
          0.22841018996591,
          0.01159332881412399,
          0.22146492796090844,
          -0.20810718867711767,
          -0.5100677365332522,
          -0.14431292246862643,
          -0.4528597576997119,
          0.34207280762207715,
          -0.33295994066187207,
          0.12946326020264237,
          -0.19382442729695004,
          0.23338003268869043,
          -0.05702981887840519,
          -0.6320587906507107
         ]
        }
       ],
       "layout": {
        "template": {
         "data": {
          "bar": [
           {
            "error_x": {
             "color": "#2a3f5f"
            },
            "error_y": {
             "color": "#2a3f5f"
            },
            "marker": {
             "line": {
              "color": "#E5ECF6",
              "width": 0.5
             },
             "pattern": {
              "fillmode": "overlay",
              "size": 10,
              "solidity": 0.2
             }
            },
            "type": "bar"
           }
          ],
          "barpolar": [
           {
            "marker": {
             "line": {
              "color": "#E5ECF6",
              "width": 0.5
             },
             "pattern": {
              "fillmode": "overlay",
              "size": 10,
              "solidity": 0.2
             }
            },
            "type": "barpolar"
           }
          ],
          "carpet": [
           {
            "aaxis": {
             "endlinecolor": "#2a3f5f",
             "gridcolor": "white",
             "linecolor": "white",
             "minorgridcolor": "white",
             "startlinecolor": "#2a3f5f"
            },
            "baxis": {
             "endlinecolor": "#2a3f5f",
             "gridcolor": "white",
             "linecolor": "white",
             "minorgridcolor": "white",
             "startlinecolor": "#2a3f5f"
            },
            "type": "carpet"
           }
          ],
          "choropleth": [
           {
            "colorbar": {
             "outlinewidth": 0,
             "ticks": ""
            },
            "type": "choropleth"
           }
          ],
          "contour": [
           {
            "colorbar": {
             "outlinewidth": 0,
             "ticks": ""
            },
            "colorscale": [
             [
              0,
              "#0d0887"
             ],
             [
              0.1111111111111111,
              "#46039f"
             ],
             [
              0.2222222222222222,
              "#7201a8"
             ],
             [
              0.3333333333333333,
              "#9c179e"
             ],
             [
              0.4444444444444444,
              "#bd3786"
             ],
             [
              0.5555555555555556,
              "#d8576b"
             ],
             [
              0.6666666666666666,
              "#ed7953"
             ],
             [
              0.7777777777777778,
              "#fb9f3a"
             ],
             [
              0.8888888888888888,
              "#fdca26"
             ],
             [
              1,
              "#f0f921"
             ]
            ],
            "type": "contour"
           }
          ],
          "contourcarpet": [
           {
            "colorbar": {
             "outlinewidth": 0,
             "ticks": ""
            },
            "type": "contourcarpet"
           }
          ],
          "heatmap": [
           {
            "colorbar": {
             "outlinewidth": 0,
             "ticks": ""
            },
            "colorscale": [
             [
              0,
              "#0d0887"
             ],
             [
              0.1111111111111111,
              "#46039f"
             ],
             [
              0.2222222222222222,
              "#7201a8"
             ],
             [
              0.3333333333333333,
              "#9c179e"
             ],
             [
              0.4444444444444444,
              "#bd3786"
             ],
             [
              0.5555555555555556,
              "#d8576b"
             ],
             [
              0.6666666666666666,
              "#ed7953"
             ],
             [
              0.7777777777777778,
              "#fb9f3a"
             ],
             [
              0.8888888888888888,
              "#fdca26"
             ],
             [
              1,
              "#f0f921"
             ]
            ],
            "type": "heatmap"
           }
          ],
          "heatmapgl": [
           {
            "colorbar": {
             "outlinewidth": 0,
             "ticks": ""
            },
            "colorscale": [
             [
              0,
              "#0d0887"
             ],
             [
              0.1111111111111111,
              "#46039f"
             ],
             [
              0.2222222222222222,
              "#7201a8"
             ],
             [
              0.3333333333333333,
              "#9c179e"
             ],
             [
              0.4444444444444444,
              "#bd3786"
             ],
             [
              0.5555555555555556,
              "#d8576b"
             ],
             [
              0.6666666666666666,
              "#ed7953"
             ],
             [
              0.7777777777777778,
              "#fb9f3a"
             ],
             [
              0.8888888888888888,
              "#fdca26"
             ],
             [
              1,
              "#f0f921"
             ]
            ],
            "type": "heatmapgl"
           }
          ],
          "histogram": [
           {
            "marker": {
             "pattern": {
              "fillmode": "overlay",
              "size": 10,
              "solidity": 0.2
             }
            },
            "type": "histogram"
           }
          ],
          "histogram2d": [
           {
            "colorbar": {
             "outlinewidth": 0,
             "ticks": ""
            },
            "colorscale": [
             [
              0,
              "#0d0887"
             ],
             [
              0.1111111111111111,
              "#46039f"
             ],
             [
              0.2222222222222222,
              "#7201a8"
             ],
             [
              0.3333333333333333,
              "#9c179e"
             ],
             [
              0.4444444444444444,
              "#bd3786"
             ],
             [
              0.5555555555555556,
              "#d8576b"
             ],
             [
              0.6666666666666666,
              "#ed7953"
             ],
             [
              0.7777777777777778,
              "#fb9f3a"
             ],
             [
              0.8888888888888888,
              "#fdca26"
             ],
             [
              1,
              "#f0f921"
             ]
            ],
            "type": "histogram2d"
           }
          ],
          "histogram2dcontour": [
           {
            "colorbar": {
             "outlinewidth": 0,
             "ticks": ""
            },
            "colorscale": [
             [
              0,
              "#0d0887"
             ],
             [
              0.1111111111111111,
              "#46039f"
             ],
             [
              0.2222222222222222,
              "#7201a8"
             ],
             [
              0.3333333333333333,
              "#9c179e"
             ],
             [
              0.4444444444444444,
              "#bd3786"
             ],
             [
              0.5555555555555556,
              "#d8576b"
             ],
             [
              0.6666666666666666,
              "#ed7953"
             ],
             [
              0.7777777777777778,
              "#fb9f3a"
             ],
             [
              0.8888888888888888,
              "#fdca26"
             ],
             [
              1,
              "#f0f921"
             ]
            ],
            "type": "histogram2dcontour"
           }
          ],
          "mesh3d": [
           {
            "colorbar": {
             "outlinewidth": 0,
             "ticks": ""
            },
            "type": "mesh3d"
           }
          ],
          "parcoords": [
           {
            "line": {
             "colorbar": {
              "outlinewidth": 0,
              "ticks": ""
             }
            },
            "type": "parcoords"
           }
          ],
          "pie": [
           {
            "automargin": true,
            "type": "pie"
           }
          ],
          "scatter": [
           {
            "marker": {
             "colorbar": {
              "outlinewidth": 0,
              "ticks": ""
             }
            },
            "type": "scatter"
           }
          ],
          "scatter3d": [
           {
            "line": {
             "colorbar": {
              "outlinewidth": 0,
              "ticks": ""
             }
            },
            "marker": {
             "colorbar": {
              "outlinewidth": 0,
              "ticks": ""
             }
            },
            "type": "scatter3d"
           }
          ],
          "scattercarpet": [
           {
            "marker": {
             "colorbar": {
              "outlinewidth": 0,
              "ticks": ""
             }
            },
            "type": "scattercarpet"
           }
          ],
          "scattergeo": [
           {
            "marker": {
             "colorbar": {
              "outlinewidth": 0,
              "ticks": ""
             }
            },
            "type": "scattergeo"
           }
          ],
          "scattergl": [
           {
            "marker": {
             "colorbar": {
              "outlinewidth": 0,
              "ticks": ""
             }
            },
            "type": "scattergl"
           }
          ],
          "scattermapbox": [
           {
            "marker": {
             "colorbar": {
              "outlinewidth": 0,
              "ticks": ""
             }
            },
            "type": "scattermapbox"
           }
          ],
          "scatterpolar": [
           {
            "marker": {
             "colorbar": {
              "outlinewidth": 0,
              "ticks": ""
             }
            },
            "type": "scatterpolar"
           }
          ],
          "scatterpolargl": [
           {
            "marker": {
             "colorbar": {
              "outlinewidth": 0,
              "ticks": ""
             }
            },
            "type": "scatterpolargl"
           }
          ],
          "scatterternary": [
           {
            "marker": {
             "colorbar": {
              "outlinewidth": 0,
              "ticks": ""
             }
            },
            "type": "scatterternary"
           }
          ],
          "surface": [
           {
            "colorbar": {
             "outlinewidth": 0,
             "ticks": ""
            },
            "colorscale": [
             [
              0,
              "#0d0887"
             ],
             [
              0.1111111111111111,
              "#46039f"
             ],
             [
              0.2222222222222222,
              "#7201a8"
             ],
             [
              0.3333333333333333,
              "#9c179e"
             ],
             [
              0.4444444444444444,
              "#bd3786"
             ],
             [
              0.5555555555555556,
              "#d8576b"
             ],
             [
              0.6666666666666666,
              "#ed7953"
             ],
             [
              0.7777777777777778,
              "#fb9f3a"
             ],
             [
              0.8888888888888888,
              "#fdca26"
             ],
             [
              1,
              "#f0f921"
             ]
            ],
            "type": "surface"
           }
          ],
          "table": [
           {
            "cells": {
             "fill": {
              "color": "#EBF0F8"
             },
             "line": {
              "color": "white"
             }
            },
            "header": {
             "fill": {
              "color": "#C8D4E3"
             },
             "line": {
              "color": "white"
             }
            },
            "type": "table"
           }
          ]
         },
         "layout": {
          "annotationdefaults": {
           "arrowcolor": "#2a3f5f",
           "arrowhead": 0,
           "arrowwidth": 1
          },
          "autotypenumbers": "strict",
          "coloraxis": {
           "colorbar": {
            "outlinewidth": 0,
            "ticks": ""
           }
          },
          "colorscale": {
           "diverging": [
            [
             0,
             "#8e0152"
            ],
            [
             0.1,
             "#c51b7d"
            ],
            [
             0.2,
             "#de77ae"
            ],
            [
             0.3,
             "#f1b6da"
            ],
            [
             0.4,
             "#fde0ef"
            ],
            [
             0.5,
             "#f7f7f7"
            ],
            [
             0.6,
             "#e6f5d0"
            ],
            [
             0.7,
             "#b8e186"
            ],
            [
             0.8,
             "#7fbc41"
            ],
            [
             0.9,
             "#4d9221"
            ],
            [
             1,
             "#276419"
            ]
           ],
           "sequential": [
            [
             0,
             "#0d0887"
            ],
            [
             0.1111111111111111,
             "#46039f"
            ],
            [
             0.2222222222222222,
             "#7201a8"
            ],
            [
             0.3333333333333333,
             "#9c179e"
            ],
            [
             0.4444444444444444,
             "#bd3786"
            ],
            [
             0.5555555555555556,
             "#d8576b"
            ],
            [
             0.6666666666666666,
             "#ed7953"
            ],
            [
             0.7777777777777778,
             "#fb9f3a"
            ],
            [
             0.8888888888888888,
             "#fdca26"
            ],
            [
             1,
             "#f0f921"
            ]
           ],
           "sequentialminus": [
            [
             0,
             "#0d0887"
            ],
            [
             0.1111111111111111,
             "#46039f"
            ],
            [
             0.2222222222222222,
             "#7201a8"
            ],
            [
             0.3333333333333333,
             "#9c179e"
            ],
            [
             0.4444444444444444,
             "#bd3786"
            ],
            [
             0.5555555555555556,
             "#d8576b"
            ],
            [
             0.6666666666666666,
             "#ed7953"
            ],
            [
             0.7777777777777778,
             "#fb9f3a"
            ],
            [
             0.8888888888888888,
             "#fdca26"
            ],
            [
             1,
             "#f0f921"
            ]
           ]
          },
          "colorway": [
           "#636efa",
           "#EF553B",
           "#00cc96",
           "#ab63fa",
           "#FFA15A",
           "#19d3f3",
           "#FF6692",
           "#B6E880",
           "#FF97FF",
           "#FECB52"
          ],
          "font": {
           "color": "#2a3f5f"
          },
          "geo": {
           "bgcolor": "white",
           "lakecolor": "white",
           "landcolor": "#E5ECF6",
           "showlakes": true,
           "showland": true,
           "subunitcolor": "white"
          },
          "hoverlabel": {
           "align": "left"
          },
          "hovermode": "closest",
          "mapbox": {
           "style": "light"
          },
          "paper_bgcolor": "white",
          "plot_bgcolor": "#E5ECF6",
          "polar": {
           "angularaxis": {
            "gridcolor": "white",
            "linecolor": "white",
            "ticks": ""
           },
           "bgcolor": "#E5ECF6",
           "radialaxis": {
            "gridcolor": "white",
            "linecolor": "white",
            "ticks": ""
           }
          },
          "scene": {
           "xaxis": {
            "backgroundcolor": "#E5ECF6",
            "gridcolor": "white",
            "gridwidth": 2,
            "linecolor": "white",
            "showbackground": true,
            "ticks": "",
            "zerolinecolor": "white"
           },
           "yaxis": {
            "backgroundcolor": "#E5ECF6",
            "gridcolor": "white",
            "gridwidth": 2,
            "linecolor": "white",
            "showbackground": true,
            "ticks": "",
            "zerolinecolor": "white"
           },
           "zaxis": {
            "backgroundcolor": "#E5ECF6",
            "gridcolor": "white",
            "gridwidth": 2,
            "linecolor": "white",
            "showbackground": true,
            "ticks": "",
            "zerolinecolor": "white"
           }
          },
          "shapedefaults": {
           "line": {
            "color": "#2a3f5f"
           }
          },
          "ternary": {
           "aaxis": {
            "gridcolor": "white",
            "linecolor": "white",
            "ticks": ""
           },
           "baxis": {
            "gridcolor": "white",
            "linecolor": "white",
            "ticks": ""
           },
           "bgcolor": "#E5ECF6",
           "caxis": {
            "gridcolor": "white",
            "linecolor": "white",
            "ticks": ""
           }
          },
          "title": {
           "x": 0.05
          },
          "xaxis": {
           "automargin": true,
           "gridcolor": "white",
           "linecolor": "white",
           "ticks": "",
           "title": {
            "standoff": 15
           },
           "zerolinecolor": "white",
           "zerolinewidth": 2
          },
          "yaxis": {
           "automargin": true,
           "gridcolor": "white",
           "linecolor": "white",
           "ticks": "",
           "title": {
            "standoff": 15
           },
           "zerolinecolor": "white",
           "zerolinewidth": 2
          }
         }
        }
       }
      },
      "text/html": [
       "<div>                            <div id=\"d4fe1277-b5d0-4233-939b-ce0a33df8bdb\" class=\"plotly-graph-div\" style=\"height:525px; width:100%;\"></div>            <script type=\"text/javascript\">                require([\"plotly\"], function(Plotly) {                    window.PLOTLYENV=window.PLOTLYENV || {};                                    if (document.getElementById(\"d4fe1277-b5d0-4233-939b-ce0a33df8bdb\")) {                    Plotly.newPlot(                        \"d4fe1277-b5d0-4233-939b-ce0a33df8bdb\",                        [{\"marker\":{\"size\":5},\"mode\":\"markers\",\"name\":\"Class 1\",\"type\":\"scatter\",\"x\":[-0.33627919065373735,0.09477562796903743,-0.20186436193026344,0.661045480638333,-0.6986668142931015,0.5965530622524429,0.3053637203158147,-0.8676388010368036,0.16790508876551224,-0.8888819380741568,-0.18651141549386974,-0.21588822644387257,0.35893728275534126,-1.0464217038043513,-0.5131615246927861,0.12603560968186692,0.8966424567273912,-0.7020483083404337,-0.8679015369308284,0.887659082423539,-1.0760314762019387,0.0655660531851487,0.8495813685577093,-0.851804887421415,0.6446928014297774,-0.4593518378829731,1.0666140627645992,-0.6388903608881544,-0.32645218122126307,-0.07684325600225148,0.7561646188026558,-0.34222509478296836,-0.11925354639343175,2.000127163449065,-0.9152306434245094,0.8501231649502298,-0.8626830654979437,0.7919612308441234,0.3836708196295705,-0.891402068665554,-0.7663894047068827,-0.7387066437081589,0.31029585747986255,-0.18866883340027388,0.45385815830095333,0.8092760735307122,-1.0203786301827042,-0.8132537956258388,0.3815961440668496,-0.05319257367001344,0.09384677468757846,2.0199252146812436,-0.6993706946543808,0.07411143668489276,-0.6632936088076931,0.0010201937245045145,-0.08181988996082014,1.9194759925556868,-0.3466054751290539,1.0254025301583265,0.06796749160971391,-0.042937099755724545,0.8767979486869173,0.542748895591326,2.1964157872368166,-0.8362699607077259,-0.7996238130922915,2.096469083385483,-0.8133442068917606,0.8430086896318114,-0.967913264051328,0.5088468838788228,-0.44100356231440735,-0.07874605149293712,0.33382379302411297,0.6873199249589764,-1.0009102643876895,0.3826164676270121,1.7723791942607539,0.8195632573972393,0.640755171658989,0.8412128087050698,-0.7187578455426609,0.5911642102346019,0.8272830835749243,-0.5909412145561984,-0.46761852839051365,0.3916596652602836,-0.9147391863462793,0.9850566118074152,0.2940746376930902,0.7006320322886509,0.06634365743513176,-0.8878615639240249,0.1406480901126034,0.8549090232061307,0.08613635368629728,-0.8147887207533534,0.1398288507577255,-0.41523352599575514,0.372219407331368,-0.932043640380755,-0.9850808445453236,0.3801643523594255,1.0543281411824585,-0.3788935001770125,-0.8102061875038743,0.6249150404502569,-0.43523612554885094,0.5286173144448149,0.269182383818313,0.854193275535208,0.09973389965135977,-0.9702875933813605,0.31711570611622764,-0.7504434371976709,0.7649815015077723,0.039615817564196854,0.39058826242891653,0.8225967049827234,0.23924996475340113,0.28827094511875173,1.0566970718175352,1.9179123719193556,0.7440951145063661,-0.5813405229122635,0.9962904694412175,0.8184326765354335,-0.7824684452301072,-0.2793605986446317,0.28454000230685716,0.15525211262019495,-0.47041659820249215,-0.8418362549589194,0.499730281682266,0.9409662137351715,0.5060752526647914,0.555964109056504,0.23993251956644224,0.0024002609267823882,-0.12761502908380484,-0.9168117328147871,0.0571918460318542,-0.1194890107644384,-0.6754719195154316,-0.5532962305058426,-1.0462685217615664,-1.0762491847313527,1.8892959207618463,-0.8932414976910645,0.41659438049709707,2.169698729700954,1.9285468369006782,-0.03953724631044643,-0.8167486379133605,1.0054283728007387,1.9253865747811747,-0.6739537952223175,-0.6833173327025059,0.4579992744497989,0.03775878844789068,1.7213750920638393,-0.053138590669970204,-0.10490326859815158,0.4694653014045257,1.020690923575861,-0.23370518526199174,0.8542862589170274,2.16708743130251,0.8154870525943573,0.8334834003926673,-0.26204358115766035,0.8564201474843309,0.42351604686417366,-0.9688019167827725,0.2305614493474369,1.8629954555589279,-0.4951552134371216,0.057256657336313466,0.124581327282572,1.8558451185499127,0.5731000407584784,0.28116800952323384,1.949374540110659,-0.2789271548699712,2.1595101667103185,0.2925251220179237,-0.5545538110753567,0.0942351899321015,0.8312254499983411,0.9194854485685371,2.001641745033266,-0.68444653686741,0.8807489121523967,-0.19736551465547308,-0.721243832452736,0.0734867067918143,0.2044468914257219,-0.687583003836765,2.008532764391265,0.9091696664586788,-0.7582388023872075,-0.3460307830069351,0.2074104164516044,-0.13941365393499539,-0.9249690098441528,0.042773622759887,0.398367204384389,1.0574980957467222,-0.411586418699058,0.2248038458988344,0.5790004995408927,1.063983223439776,-0.0680965974888216,1.2194391634746455,-0.6047849397003353,2.080917539421587,0.5278142865562596,0.5643477861029227,1.883979361862842,-0.6289405115427096,-0.5182452030130564,0.21659969016681355,-0.6706043348799287,0.5546561133497645,1.8962284176203585,0.5138997947170032,0.38651957851968105,0.8157902314585268,-0.1938651599189443,0.17917598770733467,-0.16138571503202237,-0.4296107132887381,-0.870541700631953,0.9308660139954512,0.021095663842931406,-0.8096497612169522,-0.03308436579722768,-0.9496753055045809,0.8552174827019627,0.6207718468416268,-0.1591374517747068,1.9701817161826312,0.8242824820020576,0.02194585423142784,0.6595858629882243,-0.6085469910455097,0.861644784247321,-0.7581951756306766,1.9846771909270897,-0.8321567702096728,2.046298390243443,0.8865424774989517,-0.6739683490666024,-0.38144183252272834,0.5153557244270628,-0.5913280545504789,-0.8110288762243899,-0.594726311599799,0.1258751385947271,-0.21645269262737915,-0.5547317045637594,0.6292646560070079,1.8002984114259792,-0.783565369046603,-0.6392287073360806,-0.002497553592518603,0.6722161546988511,0.7634490256247002,0.48290412495095736,-0.9521839425621148,-0.2920578425136545,0.9164289398464035,0.09805237870349154,1.9804916974898015,-0.2707880891184231,-0.3842532254862778,-0.04264967742434471,-0.7292689526737042,-0.17427339276502968,-0.2609524316708132,-0.1591744899452225,1.934685482142623,0.702979939273689,0.33586804157903694,-0.47338791524977863,0.5963328412424587,0.2286296292453292,0.634292528712197,0.42079257196296266,0.4419792732815676,-0.7357851100484338,1.9720448914334558,-0.2898982120571645,0.7099882975931009,0.967855766021338,-0.084251252004883,0.8017064054013722,-0.8486180506436105,-0.8086499736942958,0.7196139628403166,-0.8925503889103872,-0.007755212787650803,-0.6085145712450011,-0.5678265065189813,-1.0350521195375584,-0.799683004998695,0.8634083407599691,-0.15114106459408216,0.0590399885386349,-0.3712299134614705,0.9036524358365227,0.9758300289618738,-0.6109823948674462,-0.23320285668257776,-0.7494295197029721,-0.557190914466178,0.6338153454323143,0.6767289923591613,-0.1654085169414251,-0.21641121658252196,0.13755442714313226,0.037825431222386297,-0.3346095100405106,0.3022259027995423,-0.2623620902697018,-0.795636453640959,-0.6282022657797345,-0.14736404820782328,0.2763770113595708,0.12182203766745703,-0.831351338479652,2.000303572647468,0.8011851996985991,-0.39675813063804666,-0.31973429291521427,0.7716163823988103,0.064052395111385,0.2381992650661934,-0.6200050115159338,0.1284175132685066,0.42934324766608645,-0.8861715737091869,-0.31245844214482793,0.5702124807179875,-0.09257814458332096,1.761997371020572,0.4619386045740359,-0.263728633961966,-0.8352211718908698,0.05899761630751065,0.0025002660184854355,-0.3711314122794858,0.5186532343182386,0.0617390641401496,0.882874446307809,-0.7719409323123942,-0.013466973074878485,-0.6434473176572433,0.6860650199814342,-0.410032858944635,0.04451621263981201,-0.09836094485003498,0.929904395061907,0.08409008989447075,0.6954333956026209,0.12168944622453819,0.6760056197102295,0.1067289034819092,0.9418965276796268,-0.9038924629348262,-0.3775726483050954,1.961161440737956,0.5775509085902304,0.13268717430747778,-0.0625962971529575,-0.5923957563380311,-0.6135774246818506,0.8156918862859116,-0.8533460391408756,-0.6853460564827467,0.6933561187619474,0.7084809358350491,-0.5743803299542688,-0.08462830077042455,0.5647007460797678,0.20707686275936238,-0.43326176788847376,-0.24704564419932046,-0.6306776239957522,-0.33029355849138553,0.8499939500570048,0.17121613583439096,-0.928414770357243,0.49123174592607216,-0.6831754063420179,-0.9116263962572576,-0.6016172166037423,-0.4193252735677858,1.8531129014819905,0.11477575339096024,0.10278953440506593,-0.9308300842776523,-0.32687572334556536,1.908459290758915,-0.8939190327085775,-0.3109964753975755,0.04924452854844828,1.0879899230565684,1.8620588728956273,0.7376578858754228,-0.8381165295429435,2.0431252237514443,0.7919875749778629,-0.5272638517241584,0.08799561339586497,0.6509546854896315,1.8871778608284375,-0.9308306999091178,2.076730184454819,0.06658611487294384,0.740660302115301,0.9404663578445488,0.07827922106421491,2.0617830256007252,-0.12459548942832482,0.5904054539531463,-0.739466634098189,0.6380425231631031,0.5869797534180667,0.7593041815028219,0.7070120004161894,-0.1240801504980702,0.567289941454481,-0.051123432666792507,0.2864721582274134,0.13897916459310639,0.05019131452933265,-1.0241323866394159,0.5549042041529356,-0.6488941819599119,-0.8357915127729689,0.44291567516329966,-0.2708213064094853,0.8503954342410442,0.5306997729476007,0.8184360682263697,-0.997126583321195,-0.700584732175493,1.959908646335066,1.9838480666466536,-0.5995427806955667,-0.9010400112908953,1.0355126349193557,-0.350660142308296,0.32768700936995043,-0.04016317223584159,0.15094373478104628,0.734586109933704,-0.8910871264427973,-0.3018500056837781,-0.1906323575700967,-0.7114786322972874,0.0425441604605657,0.9809075748882272,-0.9949460233514558,-0.0400547993103928,-0.6609744577151037,0.3007066800247792,-0.8744298467098286,1.8311117879434176,-0.9424846875397891,0.7920689636735169,0.6902710888714656,-0.5578173089134646,0.07714734037785345,-0.09858753297919953,-1.0395389234324581,-0.8386802065409615,-0.585000436068012,-0.3135774774330543,-0.18296185767422363,0.21715582950668322,0.022821391451921462,-0.79089805000184,-0.7963657548939416],\"y\":[0.9822549071575699,0.14923023969523552,0.9048229037751274,0.7738495251462819,0.8922511721638468,0.5375950726948494,0.692219405156005,0.5242480909919646,1.1146413184995962,0.45175022927263836,1.1293822962572033,1.1306890240309244,1.0165394164128152,0.14933309021842642,0.9289333208596634,0.9961428991188824,0.19149737056734215,0.5812339938589728,0.7069480687581869,0.2104152066378292,0.16369593164453844,0.9035353193739566,0.3583909220452828,0.36196029174261446,0.7856773869043517,1.14261722901092,0.4548679847830043,0.8783579012255007,0.7689716538232707,0.9736166422153768,0.6595942978884547,0.8498118355899794,0.894996426600414,0.48495097581222146,0.35404897970612953,0.6004796703390658,0.6369722263174613,0.5123970912365601,0.8907933528063234,0.16013836983422494,0.3928101156749578,0.6467705713527294,1.04879913929362,1.085903086884279,0.9675845148093507,0.5817418650424417,0.4540928968212434,0.4174663351098843,1.077014290582438,1.0164909680301852,0.15393519067940165,0.34689187411458833,0.4671057566367257,0.4663233443250978,0.6735452301262901,1.0964472490618125,0.45767320701916286,0.4320566469686784,0.7907253128860806,0.35480369814309526,0.1942138186721349,0.4215296191523841,0.4642075829220752,0.9076905092792218,0.42198155527990316,0.3585163998055548,0.6123224794345812,0.4655942779581995,0.6547574742308572,0.49645627943096193,0.5836918951044027,0.9250473004842005,0.9124019716073178,0.38237380554133393,1.006872637986854,0.6385034760315458,0.36368060534085667,0.8346343390442892,0.18259278189025718,0.20955205609712818,0.8265587478504105,0.6287892576713605,0.8046756278065207,0.7621838094565843,0.5315213069250324,0.858929460144145,0.8171471541956853,0.7718022937956595,0.20721875808873705,0.4320689403148781,0.9320094889836834,0.45490677181924216,0.9248858733702299,0.572991782098502,0.20738668926220724,0.3762678425606728,0.9960299841880952,0.5514177267695407,1.0287487385579905,1.090641920554707,0.984204485646643,0.3836853734007045,0.16473362163593158,1.1140047370266188,0.5858504332717828,0.8643731812263942,0.4915358838038539,0.7588692473806384,0.698034146654553,0.9191275632641515,1.004205011681552,0.5254089635141769,1.0755269483454923,0.5106583054746783,1.0313850065828136,0.7481449246049681,1.0286439460321748,0.9757441212100094,1.0185245917876566,0.19724525451439648,1.002608316578085,0.7455703306098864,0.6331327984176263,0.1911355643809437,0.4117147894464323,0.8939998152987016,0.17674468904140672,0.46222676056263257,0.7787922354906126,0.9726414177544055,0.9385129265571125,0.8469796563572628,0.8487633877054607,0.576061749621294,0.8664579839676668,0.49490098653855985,1.0874749605024243,0.9154426285911992,1.0753869412079091,1.0784856091029886,1.0175213430318775,0.5071503973278404,0.41273326839467406,0.49759728720168145,0.557965871952936,0.7967577725248147,0.1900853915163622,0.6462052916372527,0.19392237537754708,0.6781352863480687,0.9768618277247607,0.5879257307825388,0.16321001447275563,0.1524460387441986,0.3822405634673003,0.5209842639913571,0.3972768809170282,0.5780223220212798,0.612205137405952,1.024501332174364,1.0396859728897412,0.15173440040047456,0.5013588039881599,0.8782426409688234,1.0064447185779646,0.19590320058670402,0.8241049033511452,0.4243148841854044,0.47852793105285224,0.6097811671476104,0.6065358900538679,0.9209997471802941,0.6650843922285694,0.9316573122990164,0.5963798004749471,0.8349804413168526,0.40408190730764093,0.9422331663277249,0.16806438440870106,1.0274453643287225,0.5207540064108276,0.8154532388887875,1.032968865223697,0.5412191797744178,0.9355513994206468,0.4689415682481403,0.9380600086510635,0.7362116381031216,0.8734130993694545,0.49062061252170097,0.3899004095880721,0.1704418743608323,0.586737037333617,0.563526394611758,1.1169556290195044,0.6232828341038067,0.9149700616206495,1.1529855391281612,0.9350700209756714,0.47823623740210813,0.18636468954024696,0.6115260165826947,0.7361484928914401,0.9490797313566346,1.191727553371186,0.664019765884372,0.37078111329719093,0.6642842537402468,0.1856418311566567,0.9448338682771306,1.0121690588876098,0.7155893500252464,0.40621995395732213,1.143151885496631,0.3766259125988167,0.6774846490778345,0.5230193006352926,0.9681315342737128,0.8782042506716959,0.3864966645134199,0.5447230121769524,0.9501412665927098,0.9579810403448553,0.6451152599699185,0.893500233426621,0.1893220684068628,0.8292614129991908,0.9125935135674815,0.5326909642849956,1.0018948820834717,0.8855518442585144,1.1322973936130578,0.8642388407090952,0.8579261600927854,0.15520154874557887,1.1147270313820667,0.4752475500534998,0.3587359290195336,0.5512026218856795,0.70334335170018,0.736686150772422,0.9487152910250946,0.5571086009035575,0.4105439250356825,1.0282571933946403,0.5149165622091357,0.9204194632774736,0.5660349265616935,0.16257365788165762,0.40225343573616046,0.16843997033131197,0.4708864728069976,0.4284707953753265,0.7326173848537305,1.1311471422944275,0.8986269361187034,0.802738324875337,0.17442747387898516,0.7139255328654638,0.18961054257926302,1.1199070542138023,1.117122439708915,0.8034260711525961,0.14749727624119602,0.8475673273293076,0.8179716415241942,0.8709898180595733,0.4471513213644504,0.5365287722796735,0.9454821275935075,0.17792249708436497,0.9638995051420453,0.5443681421483276,0.9921660448014442,0.48989475472359145,0.9749464468087005,0.9264786189364063,0.9267599755677497,0.19366382613882935,0.817408156258662,0.9010221832899374,1.0466436484822301,0.17831933511895554,0.866046097395471,0.9607887888143329,0.8984375453694561,0.9442049054399886,1.1734979133995669,0.6820203333081072,0.786070009510756,0.9005444138500985,0.7371817675548691,0.14827519891943752,0.8382208906558626,0.5106113069073177,0.41577433141602144,0.46264042355695184,0.5619960227521309,0.6379371139695389,0.6258053996891731,0.722964697074906,0.5244352231245796,0.8543166913761971,0.7295799991707731,0.8696530518725815,0.19243483004664874,0.43834679264283943,0.7003212258432361,1.0201510490953887,1.0285200988568504,0.9277635549816092,0.508833748060106,0.1434221647401584,0.7857556408646011,0.786937740647921,0.7208426598618961,0.7094392950041575,0.7836253836577559,0.773122365479913,1.0182984600316471,0.3842464242742039,0.20490938337806866,0.44196596332431903,0.9540853483829905,1.0722901271988001,0.8009256015351454,0.3846078008597673,0.7192873442222788,1.0315914550627436,0.8416541764174054,0.9489362454503518,0.655941407618541,0.35857791151696455,0.6595799860516327,0.7955249761037808,0.7983929918707775,0.5996756093554767,0.4049118450408541,0.8581167669295726,0.7387139461129776,0.403120795647101,0.8938613563174089,0.15141466732127878,0.915542007206323,0.7851966093821181,1.1445467541154781,0.35822146052563464,0.7302017523530339,0.9765843997803004,0.5773329270165912,1.1202405489074996,0.48634179651211307,0.8437024538666288,0.8651083378250098,1.0477469510325486,0.39754617262910885,0.6932067877004877,1.1344456773925657,0.4139090752968093,0.7487509905492531,0.8832130282325312,0.6168327548214411,1.114590535149756,0.19459153218874475,1.091933201564494,0.9226539253119874,1.0449188339881457,1.0840696708049657,0.14847299003714443,0.3505068584968449,0.16584856991975713,0.9467273588743573,0.16544383368561813,0.8911404761019216,0.4916772453861567,1.136869207902676,0.8284887149408875,0.7001554527684575,0.7661971632897764,0.3819080424900923,0.5465054918372831,0.7332593885385613,0.5091832458918455,0.904592673621985,0.38260827265480346,0.7490903235360868,0.7970993436719228,0.9438738651981043,0.8147053710036689,0.9489683246396243,0.9961208977559891,0.445341889633422,0.999616762671522,0.36935130989206877,0.8296551074622013,0.8828743160720451,0.3554459231805674,0.7857400986998726,0.8471963125921481,0.14875179912699285,0.3899919588664757,0.9269140639981439,0.47142460212562687,0.8577656768871139,0.43645038280327964,0.43406068187663305,0.8455155806177995,0.9530154471489818,0.7160841071674584,0.6516273843833911,0.563198745646896,0.7547112266066403,0.1775719672002988,0.40171325961490234,0.5749360516041062,0.15331301921942833,0.6316959995802611,0.44666536746088137,0.18204960865924144,0.37872778046215516,0.20741666494080385,0.8099581487368429,0.42170202326554185,0.4379337361769818,0.15997704194787027,0.9698553991413721,0.8626907985475539,0.9413337691881298,0.46887424263007904,0.8350104932564099,0.7080342274565354,0.5685573941029896,0.5164472934101387,0.5310809588522025,1.117212944793179,0.8270845623675193,0.9409375597247863,0.160797415291926,0.4803230184529077,0.8129124609154507,0.8096494866892436,0.44246654502726024,0.8864484345120117,0.9781618698629954,0.48425339691364677,0.8059713899719186,0.6455899804796078,0.8132518796359277,0.7768822534908109,0.151518877928812,0.3605230968554292,0.692591375352508,0.6049973066277112,0.37003300666586214,0.9455541511015251,0.7434595201812386,0.9206511096733676,0.15676882019532154,0.7553609054938039,0.6092134017521151,0.9813797580523714,1.0671183139148601,0.8230986372473956,0.4665679943350217,0.44101839003152543,0.3890363536100899,0.9581358566277044,0.8373064646626565,0.9799281024178358,0.466093577826476,0.4113344395062229,0.6872972697616939,0.7038338740600414,0.8074515749247568,0.7772082901304515,1.100494579673538,0.48073233259956044,0.6553316780600452,0.37701398517608276,0.6888970683389506,1.1128497788287635,0.8831756763636783,0.1947169735352577,1.144345004239283,0.42353437870889243,0.17309576877926314]},{\"marker\":{\"size\":5},\"mode\":\"markers\",\"name\":\"Class 2\",\"type\":\"scatter\",\"x\":[0.063939949605561,-1.018190360702087,2.0155546650737723,0.016375095320807654,0.5444994702348364,0.04820552819541511,2.160173291266628,-0.8785803291126939,1.7355368886076405,1.9296885121454068,1.1900020599208756,1.7483201215723283,0.4835313342111107,0.15577501853729372,1.9179738320473916,1.5223545238683645,1.267358873447407,1.690451742531432,-0.07159324668616185,1.3468468374072593,1.6986800931591914,1.4316704346846416,0.11141959815989988,-0.8809220044872816,1.8561655972344848,0.8075652263773391,1.3214986788982697,0.903060060763992,-1.0908751690195952,1.6870200680453382,1.254556442178992,1.7311410073576423,0.6398615457289004,1.8960410349468657,0.9114718704649165,1.167464820943974,0.7480632962007066,0.9810913116961008,-0.8115198044979305,1.0126320065416152,2.1106267844692113,1.9577974849943225,0.9001082722907324,-1.0628475959107078,0.7544953554869867,0.38730642422045974,0.9068092845103871,1.1925969011480473,2.052224506491266,0.23778849553532816,1.0513798349573982,0.43208494106925943,0.6948871693961778,1.6523297825420227,-0.9113613196207083,1.8296816519972487,0.23647333972944878,0.3085205978854415,0.9701614105516482,1.9390390210174364,1.691747322736228,1.5909694245070192,0.18252729457206635,1.8389458681267206,-0.9628511991044824,1.5132903737674015,0.6615751384183183,0.9597787170402678,-0.8550442274658862,1.3169824651290534,1.7747361777754083,1.8758343783822684,0.6781858356077635,-0.16411450774499592,1.839843934902518,0.1989134482812208,1.9452480780502703,0.49920057910414267,0.11783193946197487,1.4267014374386449,0.09968028681659154,0.6459441873498729,0.7029949956012647,-0.11410780794611214,0.012137487822318375,1.257185994013502,0.17866366595383137,0.23733599447295253,0.2656204270803237,-0.052601954507430895,0.4099329092692868,1.5355364190283434,1.396899979600678,0.9920907252063856,-0.033281464569955635,1.3183521818723083,0.2645673433122307,0.5605667173946647,1.560845281253122,0.8772101149717857,0.33043487820009065,-0.9017476305920097,0.07334195165248802,1.276323544305656,1.541108547095788,-0.8987052898531316,1.7880580921604834,1.07267562793669,-1.0274055932773343,1.4361368001461179,0.6725177013194297,1.877234582779642,1.4758638968852897,0.840869838140646,0.20220634095958417,0.9473598264723424,-0.8449418927423359,1.9188664581838808,0.8025784867127288,0.25571163330843977,0.20798293567147463,0.0889344677518929,1.4708999889279895,0.953724979140008,1.2669329199566888,1.090202399327623,0.2591940621415809,1.0676383278941566,0.3500954787935012,2.0132187529652272,0.9754988071933668,0.031710430834750544,1.6163029597759593,1.7326197168823818,1.888175422119508,1.7892217488839055,1.1170384882612967,0.378621333237093,0.29081388940161557,0.6612345020362699,0.8951801211544995,-1.0346007807497644,1.9340102249515863,1.6996973670305158,-0.09841743293513039,1.6233257909388628,2.0356428643708298,0.5392453407240456,1.399354360709321,1.820878316749508,0.8750717688805798,1.1940996986895875,0.9982207552407435,0.5225378637327404,1.3986007872504684,0.9710523842247565,0.8797802983140307,0.9005521840885232,0.9288485783361912,1.3272525139102187,1.3803099919836912,0.3069392403191454,1.1883179538293374,0.7785352266212465,1.3409296298242488,0.4251725769033501,0.5571589600088039,0.1517832409285568,1.6343642010560124,0.9426750184941881,1.157979718481977,0.7470542814046279,1.097350423309488,0.8922424172514138,1.573365587010463,0.35340570654401077,1.1329689761151132,1.762308026965557,2.0593046682390606,1.2387026248232793,0.9971702443808963,1.988381095843129,1.8829445784607906,0.6718666959758679,1.6092861838194414,1.4431890060030117,0.14835794292502952,1.1487879047710736,0.6932396494860962,-0.8664676581136695,0.3928306427702191,0.5225098731869396,1.838834479067361,0.22132040391510338,0.6839533662020271,1.215500213998289,1.1449517471856618,0.10068401085581187,0.8985855256149725,0.7050731860285049,0.917226682243733,-0.005135654328909847,1.11036931600468,1.0153364459045147,0.6347642423715206,1.5502244688530806,1.1398329608025217,0.7987910911671069,0.8693463342370538,1.543637299722769,0.6177531832318391,2.1650248034341795,0.2944043514724337,-1.0236133069865612,0.746116960044143,0.11603347375525597,0.27659454328804844,0.7866040403621046,-0.9807871930034272,1.6134771196420798,1.0012844062801318,0.2950024835964539,-0.8007932645229426,1.6968924470069295,1.702423258184596,-0.014053642154476981,0.2600748459757962,0.1845538525262413,0.16472796296802278,1.1366433877534992,0.1901643576080786,0.39174689859419337,-1.0046253193308974,1.3684971593033886,-1.180544067365991,0.5099377210544365,0.7686453165545392,1.0943953907451023,1.0056168108847163,0.9415417227080517,1.5079851778717261,1.5192489837071625,1.9380667062138195,0.27103913050557976,1.901012439189467,2.0913379167888837,0.011543082752271172,1.4201825454895807,-0.8246006923182715,1.1590277925337291,1.0375057283011544,1.917033383434779,1.8191781837251813,0.26550828037185725,1.160238525981432,0.9622943565313694,0.9079981991650109,1.57995026578518,0.11163419782042715,0.30471954173312804,0.9381038748871668,1.1920520699736976,0.2470066688668756,-0.01719280443128529,1.966462926805192,0.5762542813971698,0.6248879210110367,0.5272119024734762,0.10689425791012852,1.3851960487126924,-1.0695073602643013,2.0901248437469753,0.991519003891426,0.46783805599311706,1.9127881626580194,1.7789525804925526,0.6143560035895185,0.29975838122801224,0.16322229786195178,1.0887613107320708,0.7355136716992001,0.1402269153745922,0.8832890836568095,1.9930006494053674,1.651309716719182,0.24318336722355183,0.8608962995512393,-0.9034498023546976,0.3906712442105742,0.3888088857084369,0.5087484923888264,1.7978093852337538,0.9870905259096594,2.138139561665948,0.14003358563672566,1.0521631817640047,0.964046588459835,-0.9578602711127364,0.94655881889757,-1.1040016633028646,1.5745841350948773,1.6203804168607379,0.9557303965047209,1.0230272140526189,1.6488936611980813,1.0601275558491716,1.0808404907337086,2.1173551050025643,-0.2161140516668565,1.8548143416169487,-0.09599397640666968,1.6963525583933416,1.2695688176654805,-0.04982147034367636,0.2555296543023894,1.6000310106476998,1.5297254031446958,0.9663665448540857,0.614745849421296,1.8649731743547033,0.8180016074266431,0.015605763123920702,1.9696425750294475,1.8713397000669356,1.3253903564595486,-1.0380991494905056,0.4729368839282737,1.7532718478730684,1.583408431290598,0.1910910539642115,0.15804254540424478,1.9494385400761478,0.37825310525179034,0.9695167800661638,0.9564373878506884,0.3363698012442188,0.3186500712141917,0.5445700257264955,-0.9058282351255861,0.5700219433597954,1.9999617140166979,1.8172559747270238,-0.9732297156062272,-0.9749298913380535,1.292817034080452,1.8609124679820839,1.918962043752236,0.10690277565810355,0.3669983132638698,2.021612067009034,1.2650210942732778,0.5819280601456926,0.7743123406818653,1.5556896790583532,0.2716809772358816,1.6520026206324647,1.9120746172393157,0.4865479362129849,0.31448727949611494,0.46729792559441696,1.0525639255555452,1.1462252580790155,1.6273689260057376,1.5513776131611627,0.9794708590658221,1.5238294833857886,0.8505318115479831,0.8499562833570202,1.0092686838508294,1.2204636932453221,0.8549497533950963,1.726619915439255,2.0264855001404953,1.419765617972486,1.456486991009975,-0.9157611312496877,-1.1086652322843984,0.8567445612336809,0.21874599707945863,0.8193133250702751,0.3534566275247975,0.20653558303996733,1.1666093282630265,2.1150199250003396,-0.8183566650431977,0.8455720014137138,1.622846519524403,1.4715524686345842,1.8204662079094565,0.20456413609586457,1.198350121561327,0.8799937001707098,0.5533639519825475,0.3749587065285942,1.7914939782136574,0.37591193241021803,0.2084298954340238,1.5765987349344202,0.38128945303904915,0.15209199748815727,0.8083759991789612,1.101412809591312,0.9848391216013848,0.1520788056241618,1.836585649161275,1.8065305520395558,0.653453873263645,1.381451046066554,-0.9250658312715272,0.19392253560523715,0.6093086924846841,0.17488085764581277,1.8743359034335103,1.488994140865542,-1.0358928588612484,1.808506825842032,1.6127873550632492,1.7621876021507565,0.06908329986831424,1.2533239111630796,0.8944574745539288,0.180262609508001,0.46293676092494795,0.9631289090337051,0.3035556144895747,0.45563013625102045,1.6987860255944391,0.3029268859873504,1.584481156741579,1.015672641706944,1.6603269404953438,1.4230486519002155,0.977194343720612,0.9373977186015032,1.3920740936402414,2.0841322346296693,1.9415870006689373,1.8711869432585,1.2318412607269749,0.19452806962329477,-0.9403577672717643,1.1289321994178445,1.8429652567972388,0.3079030319312982,1.9868545470888017,1.4255161675628625,1.1460922987269817,0.46293513544803283,0.811632726332328,-1.045004449249689,0.7600506926200432,-0.06870621293276091,1.8554638804769041,0.35412450730358036,0.819838479461812,-0.9450121217306359,1.0832619780050994,1.576020898948935,0.8515524000339552,0.6005210593194417,0.3557735747899901,0.9276009705523894,0.9454173087076261,1.340473649754186,-0.918859617121998,2.0514940632162273,0.807846939935297,-0.7918199963121605,1.7525842404653638,1.0252896295176281,1.1330598934253937,-0.053557162116059834,0.9351792762394473,0.26586126066849736,0.9583245757937616,0.09325173180170927,0.23812725523065878,-0.0313055707536192,0.17732059710965742,0.16181194164960538,1.0122495845329154,0.01133746195056097,2.0442971001050556,0.14315976665613678,1.3583575629940166,0.49880223008974833,1.5242958389493575,0.05889234193479991,1.679541791304831,0.1236002089394033,1.6204486060258385,0.8554419351387067,1.576435100897165,1.0204865338228724],\"y\":[0.013940660665675762,0.11907660557003555,0.05631694080666472,0.34482198677103615,-0.5157270750854873,0.10252563309485478,-2.5169219672660503e-05,0.31224570463852824,-0.5375226309890648,0.08739232723442511,-0.642232433528312,-0.08774907499480136,-0.4098000081068081,-0.07178561639098403,0.10321851518112199,-0.3040333417275684,-0.32660906644585486,-0.24690251466106675,-0.0011128341413057102,-0.4639872127317194,-0.29411818291208447,-0.3396827899459264,0.23739845858261674,0.07181355839780051,-0.09089220756992276,-0.4771950398033283,-0.4300509128945553,-0.5255451457251874,-0.02613692316125891,-0.2462937094347606,-0.31722099541195214,-0.28503584669068993,-0.4472119372782632,0.22882364225197332,-0.5050126327139184,-0.48283588239420416,-0.2695106996878023,-0.3431414129165028,0.3035597360181084,-0.006532613514394589,-0.19447183522043626,0.1365908441775824,-0.24038109532685387,0.09171639434065751,-0.591899048865644,-0.31561399879898916,0.3210962067439637,-0.5417006854411671,0.2795607666287506,-0.00014453224742655424,0.2972997651471223,-0.1708260928184298,-0.31299648521031354,-0.13878606600403995,0.24038642856574294,0.04097931100041438,-0.16091110378572826,-0.3953821398406436,0.1015123065487504,-0.16918865637964361,-0.28587389843885275,-0.5865857164417033,0.3374798020521677,-0.22409064739178208,0.0948042740195339,-0.30830488726764826,-0.4752372416350539,-0.5225291027182517,0.07384462921704224,-0.47457987724914785,-0.5231818729323499,0.1361049000193027,-0.39911033404337437,0.2884864039246948,-0.2923333986168524,0.047838688021465334,0.21469153049116546,-0.4395545585478299,0.06375725970719998,-0.33749179729078443,-0.13360979371819315,-0.16477723528282184,-0.39996525589725873,0.21577942509828363,-0.0357521898960399,-0.6029704649992014,-0.06032219550949368,0.10540856168543092,-0.23577903372587927,0.2441542141759305,-0.3028591810200271,-0.5186575804537786,-0.5488513852845646,0.34304956649804075,0.2821120153548414,-0.45208588743292155,-0.003961655996669387,-0.399690420334813,-0.32054146116551663,-0.5389820232211788,-0.0001428126565790333,-0.1715329846426732,0.03617490052832267,-0.4539248599082802,-0.3910758021965512,0.13350844824256947,-0.13786042746982116,-0.4398994214968719,0.01993995243595453,-0.2394967574618413,-0.60347129965143,-0.3005688828658164,-0.19267149950619789,-0.5198903219829518,0.10515249758297542,0.3059163056488233,0.26920233611784494,0.00516265490710506,-0.48504422776191863,-0.16211929116974227,0.1101029594881218,0.10086670574035998,-0.23079053114944864,0.34141552525662794,-0.4249058622481973,-0.37843379143091294,0.01695766405758123,-0.5114897658218159,-0.08390255131693213,0.29197247483498306,0.2570386588428125,0.07445204921641645,-0.025318682157969452,-0.3738411051000727,0.013252659591216923,0.0946300884567681,-0.487434786977572,-0.3521710611649506,-0.33678406186216464,-0.42073586665186447,0.3332168894068407,-0.07472909268140751,0.07352396933933614,-0.23873552083156052,0.31028964053316976,-0.11374731730619014,0.26596598567760354,-0.452073979417003,-0.30864119096803616,-0.3738034872002537,-0.5753388905799247,-0.3019909563265129,-0.40638919916364463,-0.30620528636869127,-0.4227592581525477,-0.41581689296395674,-0.3314709414061276,-0.03445313671531615,-0.48354839794470095,-0.4549264510677625,-0.33947595875956826,-0.11065817733690714,-0.41073386673457013,0.33694434117097677,-0.3316156691586303,-0.39278610488309695,-0.333063344833272,-0.2500037352048792,-0.10908758117193597,-0.42115732546813556,-0.3933540984206957,-0.5095079123984306,0.027558723065472635,-0.5052970447339236,-0.4649452611538161,-0.13860790640233797,-0.5418611173553982,-0.07439459094414448,0.32320762368016187,-0.48830303416529836,-0.5382585369622968,0.04275732291758144,-0.11598637085759331,-0.5677453051462871,-0.35121059563216234,-0.37697883083885075,0.02468793040130577,-0.6055474805105443,-0.41553048319501373,0.27159257984287233,-0.48579456868636556,-0.29210429649742287,-0.02678321473560727,-0.026675483633033445,-0.5008886661305665,-0.6127846968793487,-0.4030234489429793,0.3204287657999168,0.3365478419297466,-0.4362831871572468,-0.5137316464365155,0.2990022233266702,0.09196274055048789,-0.6086758396631857,-0.34861998367767016,-0.4466369989934935,0.03798009054966073,-0.5186420360097719,0.2802755861949742,-0.44983539196424516,-0.5410502777224774,-0.013707084533886013,-0.45468199050280467,0.13875932447414888,-0.31759684048110015,-0.2380929011507877,-0.17717721152650223,-0.43693595068820523,-0.08530113769184072,-0.364129663508726,-0.5882870648084942,-0.11456768764348747,0.3342148992917382,-0.17649855294992436,-0.1440664970579216,0.33658412962749235,-0.31057876332962187,0.23699670748832063,0.0821050592908119,-0.3864291826487122,0.2596657401889749,-0.2854068969894665,-0.020545188968072947,-0.37174518204232293,0.054191361282280914,-0.38527502557344845,-0.5667137433259453,0.009419212227182616,0.08730409261778599,-0.6577486053023981,-0.13351406376755992,-0.4558077667735271,0.09359395171926467,-0.1097635560716291,0.26386194143791486,0.22379687135718102,0.2974941045606119,-0.4444789261330784,0.06467853835047639,-0.4782683364391595,-0.03444916318051384,0.30804989999063626,-0.1321261240214746,-0.21562286781586937,-0.43309036610181223,0.23098694719715263,-0.10835631419880658,-0.3351216721393686,-0.03726834798573628,-0.25873878733262556,-0.5203340919298982,-0.4148488391352502,-0.11547960177231756,0.21920310410637028,-0.273880277644967,-0.5035184810116758,-0.3797200851381378,-0.30492261421177846,0.27868590929038206,-0.5592782318066382,0.09872994319393513,0.25084881259471103,-0.010798764661605231,-0.27085147547947835,0.09877131668700201,0.2328339229801346,-0.6057744710665149,-0.29385175600068386,-0.01866177214896758,-0.4442444021937063,-0.6499726555759007,-0.19662275004899615,-0.5127890088085557,0.04048741263919335,-0.22064838111058654,-0.1440851975407258,0.3087197551691415,0.2882583174123693,-0.07100867470021124,-0.17332888521448284,-0.35265346382959084,-0.05826162078807487,-0.5573839144180922,0.2991610678405682,-0.1749741233079894,-0.47753066137183986,0.3124233801080995,0.297732014838165,-0.3998572494467904,0.06752040628375683,-0.34522530531935935,-0.1939281650147373,0.1237883706359743,-0.712751326510594,-0.20329051693238892,-0.41432661514894464,0.08786293076170652,-0.08892161537899197,0.30210316063586595,-0.28333466877834146,0.260235490168624,0.036569026901648816,-0.2606192740971155,0.34323986235845144,-0.3778810459313696,-0.3045517537954221,-0.35394525065154403,-0.2983372503495333,-0.4155205254207447,0.21681853648198834,-0.4034338237756841,0.10434252611832882,0.27252789699643354,-0.022583379181874808,-0.29277259880379425,0.11434467622239647,-0.2522647331162464,-0.4348383164607681,-0.19581421141053804,-0.08867220725287966,0.21569766608063812,0.058946555635135275,0.1061151237770106,-0.41971974181618604,0.26150199388566275,-0.09940306498554369,-0.1266612204560404,-0.4627674643813427,0.3052011530202909,-0.23472995646441946,0.2600980641950314,-0.2739841984982064,-0.1532949732274595,0.26883165936389164,-0.29367350442038803,0.10355671960800154,0.28111225157549957,-0.12449652086946161,-0.2135467589262814,0.07697961138318049,-0.45913935523256005,-0.4166035940146057,-0.5693922065542244,-0.23970730520317424,-0.15245395258272565,-0.0934582976924608,-0.14988834653601554,-0.3347694553436417,-0.17737545012253314,-0.5193792090405124,-0.13812266667536982,-0.5111795926554249,-0.10361986017798464,-0.22385311315993198,0.08499349534050843,-0.4739068937708934,-0.48589913629064585,-0.2551491760555385,-0.05232965417148534,-0.47737697012308133,0.34285661058591627,-0.4032190021777816,0.26089684690791803,-0.2726585538844629,-0.32145894362567706,0.31981083893223683,0.13944756215190945,-0.4642754422069754,-0.016341774073533197,-0.579537527171378,-0.37484263692158626,-0.24548608104877856,-0.08538688650956047,0.10329572792832098,0.284252760381604,-0.6665990271399224,-0.42266779939519405,-0.3962350261273377,-0.24272068570615418,0.07709302053956213,-0.5031931974430363,0.03180639449125322,-0.34234611442677354,-0.2442734945067049,-0.15444560766166307,-0.18780788696260545,0.03492138273638279,-0.3632239678783688,-0.34619874401827067,-0.2796241296344709,-0.5129288158197658,-0.6037371539590445,0.08575522510953706,0.3234463817033639,0.2613148974497754,-0.058556565802096325,-0.7082747812402832,-0.35646581561064583,0.2278270968091229,-0.16137227154874947,-0.5185570588540437,-0.22076178953943898,0.30568613190596206,-0.5280203932167837,0.2247987826217719,0.053634187454427884,-0.27625173392056135,-0.13913310735450665,0.10578051182627818,-0.4877707503120928,-0.5353238441429066,-0.1686785483418342,-0.40975623097200076,0.3339356394032541,-0.3528847812641663,-0.30014918891097314,-0.04082334459304576,0.028969281173670036,-0.3372257569524072,-0.4670953902974343,-0.10202109120951369,-0.4464938480083915,0.13521629961702464,0.1371782403629405,-0.5582059424577119,0.11525677666820411,0.08988241233026079,-0.05278450005072814,-0.40092355979391264,-0.2549713204543741,0.2739980130554581,-0.6923127187069631,-0.16355836866725865,-0.12307716752856825,0.02801519739588393,-0.4122871882894019,-0.6438738504181376,-0.27463532722331835,0.1354726477168957,0.09448049159513887,-0.3476307716679946,0.06149002242898462,-0.27078703788665437,0.0008606552998645413,-0.41388438182284,0.00017490499144343086,0.09311445538918961,-0.24436058123427912,0.06187760694193545,-0.5019989929860339,-0.10735066403967908,-0.4902031450807139,0.132295543611898,-0.4284837907592485,0.22957484281949514,0.2847547521586459,-0.4582832973045756,-0.07678508349193197,0.07945589243947074,-0.2944548164358294,-0.6235235186884918,0.2735238192263706,0.2602825122601336,0.0250536947461224,0.11174336940867566,0.06865631590678223,-0.2619817318430558,0.011511074169616546,-0.18879164916485155,-0.26378319438814163,0.22841018996591,0.01159332881412399,0.22146492796090844,-0.20810718867711767,-0.5100677365332522,-0.14431292246862643,-0.4528597576997119,0.34207280762207715,-0.33295994066187207,0.12946326020264237,-0.19382442729695004,0.23338003268869043,-0.05702981887840519,-0.6320587906507107]}],                        {\"template\":{\"data\":{\"bar\":[{\"error_x\":{\"color\":\"#2a3f5f\"},\"error_y\":{\"color\":\"#2a3f5f\"},\"marker\":{\"line\":{\"color\":\"#E5ECF6\",\"width\":0.5},\"pattern\":{\"fillmode\":\"overlay\",\"size\":10,\"solidity\":0.2}},\"type\":\"bar\"}],\"barpolar\":[{\"marker\":{\"line\":{\"color\":\"#E5ECF6\",\"width\":0.5},\"pattern\":{\"fillmode\":\"overlay\",\"size\":10,\"solidity\":0.2}},\"type\":\"barpolar\"}],\"carpet\":[{\"aaxis\":{\"endlinecolor\":\"#2a3f5f\",\"gridcolor\":\"white\",\"linecolor\":\"white\",\"minorgridcolor\":\"white\",\"startlinecolor\":\"#2a3f5f\"},\"baxis\":{\"endlinecolor\":\"#2a3f5f\",\"gridcolor\":\"white\",\"linecolor\":\"white\",\"minorgridcolor\":\"white\",\"startlinecolor\":\"#2a3f5f\"},\"type\":\"carpet\"}],\"choropleth\":[{\"colorbar\":{\"outlinewidth\":0,\"ticks\":\"\"},\"type\":\"choropleth\"}],\"contour\":[{\"colorbar\":{\"outlinewidth\":0,\"ticks\":\"\"},\"colorscale\":[[0.0,\"#0d0887\"],[0.1111111111111111,\"#46039f\"],[0.2222222222222222,\"#7201a8\"],[0.3333333333333333,\"#9c179e\"],[0.4444444444444444,\"#bd3786\"],[0.5555555555555556,\"#d8576b\"],[0.6666666666666666,\"#ed7953\"],[0.7777777777777778,\"#fb9f3a\"],[0.8888888888888888,\"#fdca26\"],[1.0,\"#f0f921\"]],\"type\":\"contour\"}],\"contourcarpet\":[{\"colorbar\":{\"outlinewidth\":0,\"ticks\":\"\"},\"type\":\"contourcarpet\"}],\"heatmap\":[{\"colorbar\":{\"outlinewidth\":0,\"ticks\":\"\"},\"colorscale\":[[0.0,\"#0d0887\"],[0.1111111111111111,\"#46039f\"],[0.2222222222222222,\"#7201a8\"],[0.3333333333333333,\"#9c179e\"],[0.4444444444444444,\"#bd3786\"],[0.5555555555555556,\"#d8576b\"],[0.6666666666666666,\"#ed7953\"],[0.7777777777777778,\"#fb9f3a\"],[0.8888888888888888,\"#fdca26\"],[1.0,\"#f0f921\"]],\"type\":\"heatmap\"}],\"heatmapgl\":[{\"colorbar\":{\"outlinewidth\":0,\"ticks\":\"\"},\"colorscale\":[[0.0,\"#0d0887\"],[0.1111111111111111,\"#46039f\"],[0.2222222222222222,\"#7201a8\"],[0.3333333333333333,\"#9c179e\"],[0.4444444444444444,\"#bd3786\"],[0.5555555555555556,\"#d8576b\"],[0.6666666666666666,\"#ed7953\"],[0.7777777777777778,\"#fb9f3a\"],[0.8888888888888888,\"#fdca26\"],[1.0,\"#f0f921\"]],\"type\":\"heatmapgl\"}],\"histogram\":[{\"marker\":{\"pattern\":{\"fillmode\":\"overlay\",\"size\":10,\"solidity\":0.2}},\"type\":\"histogram\"}],\"histogram2d\":[{\"colorbar\":{\"outlinewidth\":0,\"ticks\":\"\"},\"colorscale\":[[0.0,\"#0d0887\"],[0.1111111111111111,\"#46039f\"],[0.2222222222222222,\"#7201a8\"],[0.3333333333333333,\"#9c179e\"],[0.4444444444444444,\"#bd3786\"],[0.5555555555555556,\"#d8576b\"],[0.6666666666666666,\"#ed7953\"],[0.7777777777777778,\"#fb9f3a\"],[0.8888888888888888,\"#fdca26\"],[1.0,\"#f0f921\"]],\"type\":\"histogram2d\"}],\"histogram2dcontour\":[{\"colorbar\":{\"outlinewidth\":0,\"ticks\":\"\"},\"colorscale\":[[0.0,\"#0d0887\"],[0.1111111111111111,\"#46039f\"],[0.2222222222222222,\"#7201a8\"],[0.3333333333333333,\"#9c179e\"],[0.4444444444444444,\"#bd3786\"],[0.5555555555555556,\"#d8576b\"],[0.6666666666666666,\"#ed7953\"],[0.7777777777777778,\"#fb9f3a\"],[0.8888888888888888,\"#fdca26\"],[1.0,\"#f0f921\"]],\"type\":\"histogram2dcontour\"}],\"mesh3d\":[{\"colorbar\":{\"outlinewidth\":0,\"ticks\":\"\"},\"type\":\"mesh3d\"}],\"parcoords\":[{\"line\":{\"colorbar\":{\"outlinewidth\":0,\"ticks\":\"\"}},\"type\":\"parcoords\"}],\"pie\":[{\"automargin\":true,\"type\":\"pie\"}],\"scatter\":[{\"marker\":{\"colorbar\":{\"outlinewidth\":0,\"ticks\":\"\"}},\"type\":\"scatter\"}],\"scatter3d\":[{\"line\":{\"colorbar\":{\"outlinewidth\":0,\"ticks\":\"\"}},\"marker\":{\"colorbar\":{\"outlinewidth\":0,\"ticks\":\"\"}},\"type\":\"scatter3d\"}],\"scattercarpet\":[{\"marker\":{\"colorbar\":{\"outlinewidth\":0,\"ticks\":\"\"}},\"type\":\"scattercarpet\"}],\"scattergeo\":[{\"marker\":{\"colorbar\":{\"outlinewidth\":0,\"ticks\":\"\"}},\"type\":\"scattergeo\"}],\"scattergl\":[{\"marker\":{\"colorbar\":{\"outlinewidth\":0,\"ticks\":\"\"}},\"type\":\"scattergl\"}],\"scattermapbox\":[{\"marker\":{\"colorbar\":{\"outlinewidth\":0,\"ticks\":\"\"}},\"type\":\"scattermapbox\"}],\"scatterpolar\":[{\"marker\":{\"colorbar\":{\"outlinewidth\":0,\"ticks\":\"\"}},\"type\":\"scatterpolar\"}],\"scatterpolargl\":[{\"marker\":{\"colorbar\":{\"outlinewidth\":0,\"ticks\":\"\"}},\"type\":\"scatterpolargl\"}],\"scatterternary\":[{\"marker\":{\"colorbar\":{\"outlinewidth\":0,\"ticks\":\"\"}},\"type\":\"scatterternary\"}],\"surface\":[{\"colorbar\":{\"outlinewidth\":0,\"ticks\":\"\"},\"colorscale\":[[0.0,\"#0d0887\"],[0.1111111111111111,\"#46039f\"],[0.2222222222222222,\"#7201a8\"],[0.3333333333333333,\"#9c179e\"],[0.4444444444444444,\"#bd3786\"],[0.5555555555555556,\"#d8576b\"],[0.6666666666666666,\"#ed7953\"],[0.7777777777777778,\"#fb9f3a\"],[0.8888888888888888,\"#fdca26\"],[1.0,\"#f0f921\"]],\"type\":\"surface\"}],\"table\":[{\"cells\":{\"fill\":{\"color\":\"#EBF0F8\"},\"line\":{\"color\":\"white\"}},\"header\":{\"fill\":{\"color\":\"#C8D4E3\"},\"line\":{\"color\":\"white\"}},\"type\":\"table\"}]},\"layout\":{\"annotationdefaults\":{\"arrowcolor\":\"#2a3f5f\",\"arrowhead\":0,\"arrowwidth\":1},\"autotypenumbers\":\"strict\",\"coloraxis\":{\"colorbar\":{\"outlinewidth\":0,\"ticks\":\"\"}},\"colorscale\":{\"diverging\":[[0,\"#8e0152\"],[0.1,\"#c51b7d\"],[0.2,\"#de77ae\"],[0.3,\"#f1b6da\"],[0.4,\"#fde0ef\"],[0.5,\"#f7f7f7\"],[0.6,\"#e6f5d0\"],[0.7,\"#b8e186\"],[0.8,\"#7fbc41\"],[0.9,\"#4d9221\"],[1,\"#276419\"]],\"sequential\":[[0.0,\"#0d0887\"],[0.1111111111111111,\"#46039f\"],[0.2222222222222222,\"#7201a8\"],[0.3333333333333333,\"#9c179e\"],[0.4444444444444444,\"#bd3786\"],[0.5555555555555556,\"#d8576b\"],[0.6666666666666666,\"#ed7953\"],[0.7777777777777778,\"#fb9f3a\"],[0.8888888888888888,\"#fdca26\"],[1.0,\"#f0f921\"]],\"sequentialminus\":[[0.0,\"#0d0887\"],[0.1111111111111111,\"#46039f\"],[0.2222222222222222,\"#7201a8\"],[0.3333333333333333,\"#9c179e\"],[0.4444444444444444,\"#bd3786\"],[0.5555555555555556,\"#d8576b\"],[0.6666666666666666,\"#ed7953\"],[0.7777777777777778,\"#fb9f3a\"],[0.8888888888888888,\"#fdca26\"],[1.0,\"#f0f921\"]]},\"colorway\":[\"#636efa\",\"#EF553B\",\"#00cc96\",\"#ab63fa\",\"#FFA15A\",\"#19d3f3\",\"#FF6692\",\"#B6E880\",\"#FF97FF\",\"#FECB52\"],\"font\":{\"color\":\"#2a3f5f\"},\"geo\":{\"bgcolor\":\"white\",\"lakecolor\":\"white\",\"landcolor\":\"#E5ECF6\",\"showlakes\":true,\"showland\":true,\"subunitcolor\":\"white\"},\"hoverlabel\":{\"align\":\"left\"},\"hovermode\":\"closest\",\"mapbox\":{\"style\":\"light\"},\"paper_bgcolor\":\"white\",\"plot_bgcolor\":\"#E5ECF6\",\"polar\":{\"angularaxis\":{\"gridcolor\":\"white\",\"linecolor\":\"white\",\"ticks\":\"\"},\"bgcolor\":\"#E5ECF6\",\"radialaxis\":{\"gridcolor\":\"white\",\"linecolor\":\"white\",\"ticks\":\"\"}},\"scene\":{\"xaxis\":{\"backgroundcolor\":\"#E5ECF6\",\"gridcolor\":\"white\",\"gridwidth\":2,\"linecolor\":\"white\",\"showbackground\":true,\"ticks\":\"\",\"zerolinecolor\":\"white\"},\"yaxis\":{\"backgroundcolor\":\"#E5ECF6\",\"gridcolor\":\"white\",\"gridwidth\":2,\"linecolor\":\"white\",\"showbackground\":true,\"ticks\":\"\",\"zerolinecolor\":\"white\"},\"zaxis\":{\"backgroundcolor\":\"#E5ECF6\",\"gridcolor\":\"white\",\"gridwidth\":2,\"linecolor\":\"white\",\"showbackground\":true,\"ticks\":\"\",\"zerolinecolor\":\"white\"}},\"shapedefaults\":{\"line\":{\"color\":\"#2a3f5f\"}},\"ternary\":{\"aaxis\":{\"gridcolor\":\"white\",\"linecolor\":\"white\",\"ticks\":\"\"},\"baxis\":{\"gridcolor\":\"white\",\"linecolor\":\"white\",\"ticks\":\"\"},\"bgcolor\":\"#E5ECF6\",\"caxis\":{\"gridcolor\":\"white\",\"linecolor\":\"white\",\"ticks\":\"\"}},\"title\":{\"x\":0.05},\"xaxis\":{\"automargin\":true,\"gridcolor\":\"white\",\"linecolor\":\"white\",\"ticks\":\"\",\"title\":{\"standoff\":15},\"zerolinecolor\":\"white\",\"zerolinewidth\":2},\"yaxis\":{\"automargin\":true,\"gridcolor\":\"white\",\"linecolor\":\"white\",\"ticks\":\"\",\"title\":{\"standoff\":15},\"zerolinecolor\":\"white\",\"zerolinewidth\":2}}}},                        {\"responsive\": true}                    ).then(function(){\n",
       "                            \n",
       "var gd = document.getElementById('d4fe1277-b5d0-4233-939b-ce0a33df8bdb');\n",
       "var x = new MutationObserver(function (mutations, observer) {{\n",
       "        var display = window.getComputedStyle(gd).display;\n",
       "        if (!display || display === 'none') {{\n",
       "            console.log([gd, 'removed!']);\n",
       "            Plotly.purge(gd);\n",
       "            observer.disconnect();\n",
       "        }}\n",
       "}});\n",
       "\n",
       "// Listen for the removal of the full notebook cells\n",
       "var notebookContainer = gd.closest('#notebook-container');\n",
       "if (notebookContainer) {{\n",
       "    x.observe(notebookContainer, {childList: true});\n",
       "}}\n",
       "\n",
       "// Listen for the clearing of the current output cell\n",
       "var outputEl = gd.closest('.output');\n",
       "if (outputEl) {{\n",
       "    x.observe(outputEl, {childList: true});\n",
       "}}\n",
       "\n",
       "                        })                };                });            </script>        </div>"
      ]
     },
     "metadata": {},
     "output_type": "display_data"
    }
   ],
   "source": [
    "plot_2d(X_test, preds_test)"
   ]
  },
  {
   "cell_type": "code",
   "execution_count": 12,
   "metadata": {},
   "outputs": [
    {
     "data": {
      "application/vnd.plotly.v1+json": {
       "config": {
        "plotlyServerURL": "https://plot.ly"
       },
       "data": [
        {
         "marker": {
          "size": 5
         },
         "mode": "markers",
         "name": "Class 1",
         "type": "scatter",
         "x": [
          -0.33627919065373735,
          -0.20186436193026344,
          2.0155546650737723,
          0.661045480638333,
          -0.6986668142931015,
          0.5965530622524429,
          0.3053637203158147,
          -0.8676388010368036,
          1.9296885121454068,
          0.16790508876551224,
          -0.8888819380741568,
          -0.18651141549386974,
          -0.21588822644387257,
          0.35893728275534126,
          -0.5131615246927861,
          0.12603560968186692,
          0.8966424567273912,
          1.9179738320473916,
          -0.7020483083404337,
          -0.8679015369308284,
          0.887659082423539,
          0.0655660531851487,
          0.8495813685577093,
          -0.851804887421415,
          0.6446928014297774,
          -0.4593518378829731,
          1.0666140627645992,
          -0.6388903608881544,
          -0.32645218122126307,
          -0.07684325600225148,
          0.7561646188026558,
          -0.34222509478296836,
          -0.11925354639343175,
          2.000127163449065,
          -0.9152306434245094,
          0.8501231649502298,
          -0.8626830654979437,
          0.7919612308441234,
          0.3836708196295705,
          -0.7663894047068827,
          -0.7387066437081589,
          0.31029585747986255,
          -0.18866883340027388,
          0.45385815830095333,
          0.8092760735307122,
          -1.0203786301827042,
          -0.8132537956258388,
          1.8960410349468657,
          0.3815961440668496,
          -0.05319257367001344,
          2.0199252146812436,
          1.9577974849943225,
          -0.6993706946543808,
          0.07411143668489276,
          0.9068092845103871,
          -0.6632936088076931,
          0.0010201937245045145,
          2.052224506491266,
          -0.08181988996082014,
          1.0513798349573982,
          1.9194759925556868,
          -0.3466054751290539,
          1.0254025301583265,
          -0.042937099755724545,
          0.8767979486869173,
          0.542748895591326,
          2.1964157872368166,
          -0.8362699607077259,
          -0.7996238130922915,
          2.096469083385483,
          -0.8133442068917606,
          0.8430086896318114,
          -0.967913264051328,
          0.5088468838788228,
          0.9701614105516482,
          -0.44100356231440735,
          -0.07874605149293712,
          0.33382379302411297,
          0.6873199249589764,
          -1.0009102643876895,
          0.3826164676270121,
          1.7723791942607539,
          0.8195632573972393,
          0.640755171658989,
          0.8412128087050698,
          -0.7187578455426609,
          1.8758343783822684,
          0.5911642102346019,
          0.8272830835749243,
          1.9452480780502703,
          -0.5909412145561984,
          -0.46761852839051365,
          0.3916596652602836,
          0.9850566118074152,
          0.2940746376930902,
          0.7006320322886509,
          0.06634365743513176,
          -0.8878615639240249,
          0.8549090232061307,
          0.08613635368629728,
          -0.8147887207533534,
          0.9920907252063856,
          0.1398288507577255,
          -0.41523352599575514,
          0.372219407331368,
          -0.932043640380755,
          0.3801643523594255,
          1.0543281411824585,
          -0.3788935001770125,
          -0.8102061875038743,
          0.6249150404502569,
          -0.43523612554885094,
          0.5286173144448149,
          0.269182383818313,
          0.854193275535208,
          0.09973389965135977,
          -0.9702875933813605,
          0.31711570611622764,
          -0.7504434371976709,
          0.7649815015077723,
          0.039615817564196854,
          0.39058826242891653,
          0.8225967049827234,
          0.23924996475340113,
          0.28827094511875173,
          1.0566970718175352,
          1.9179123719193556,
          0.9473598264723424,
          0.7440951145063661,
          -0.5813405229122635,
          0.9962904694412175,
          0.8184326765354335,
          -0.7824684452301072,
          -0.2793605986446317,
          0.28454000230685716,
          0.15525211262019495,
          -0.47041659820249215,
          -0.8418362549589194,
          0.953724979140008,
          0.499730281682266,
          0.9409662137351715,
          0.5060752526647914,
          0.555964109056504,
          0.23993251956644224,
          0.0024002609267823882,
          -0.12761502908380484,
          2.0132187529652272,
          -0.9168117328147871,
          0.9754988071933668,
          0.0571918460318542,
          -0.1194890107644384,
          -0.6754719195154316,
          -0.5532962305058426,
          -1.0762491847313527,
          1.7892217488839055,
          1.8892959207618463,
          -0.8932414976910645,
          0.8951801211544995,
          0.41659438049709707,
          1.9340102249515863,
          2.169698729700954,
          2.0356428643708298,
          1.9285468369006782,
          -0.8167486379133605,
          1.0054283728007387,
          1.9253865747811747,
          -0.6739537952223175,
          -0.6833173327025059,
          0.4579992744497989,
          0.03775878844789068,
          1.7213750920638393,
          -0.053138590669970204,
          -0.10490326859815158,
          0.4694653014045257,
          1.020690923575861,
          -0.23370518526199174,
          0.8542862589170274,
          2.16708743130251,
          0.8154870525943573,
          0.8334834003926673,
          -0.26204358115766035,
          0.7785352266212465,
          0.8564201474843309,
          0.42351604686417366,
          -0.9688019167827725,
          0.2305614493474369,
          1.8629954555589279,
          -0.4951552134371216,
          2.0593046682390606,
          0.124581327282572,
          1.8558451185499127,
          0.5731000407584784,
          0.28116800952323384,
          1.949374540110659,
          -0.2789271548699712,
          2.1595101667103185,
          1.988381095843129,
          0.2925251220179237,
          -0.5545538110753567,
          0.0942351899321015,
          0.8312254499983411,
          0.9194854485685371,
          2.001641745033266,
          -0.68444653686741,
          0.8807489121523967,
          -0.19736551465547308,
          -0.721243832452736,
          0.0734867067918143,
          0.2044468914257219,
          -0.687583003836765,
          2.008532764391265,
          0.9091696664586788,
          -0.7582388023872075,
          -0.3460307830069351,
          0.2074104164516044,
          -0.13941365393499539,
          -0.9249690098441528,
          0.042773622759887,
          0.398367204384389,
          0.8985855256149725,
          1.0574980957467222,
          -0.411586418699058,
          0.2248038458988344,
          1.11036931600468,
          0.5790004995408927,
          1.063983223439776,
          -0.0680965974888216,
          0.8693463342370538,
          1.2194391634746455,
          -0.6047849397003353,
          2.080917539421587,
          0.5278142865562596,
          0.5643477861029227,
          1.883979361862842,
          -0.6289405115427096,
          -0.5182452030130564,
          0.21659969016681355,
          -0.6706043348799287,
          0.5546561133497645,
          1.8962284176203585,
          0.5138997947170032,
          0.38651957851968105,
          0.8157902314585268,
          -0.1938651599189443,
          0.17917598770733467,
          -0.16138571503202237,
          -0.4296107132887381,
          -0.870541700631953,
          0.9308660139954512,
          0.021095663842931406,
          -0.8096497612169522,
          -0.03308436579722768,
          -0.9496753055045809,
          0.8552174827019627,
          0.6207718468416268,
          -0.1591374517747068,
          1.0056168108847163,
          1.9701817161826312,
          1.9380667062138195,
          0.8242824820020576,
          0.02194585423142784,
          0.6595858629882243,
          1.901012439189467,
          2.0913379167888837,
          -0.6085469910455097,
          0.861644784247321,
          1.9846771909270897,
          2.046298390243443,
          0.8865424774989517,
          1.917033383434779,
          -0.6739683490666024,
          0.9622943565313694,
          -0.38144183252272834,
          0.5153557244270628,
          -0.5913280545504789,
          -0.594726311599799,
          -0.21645269262737915,
          -0.5547317045637594,
          0.6292646560070079,
          1.8002984114259792,
          -0.783565369046603,
          -0.6392287073360806,
          -0.002497553592518603,
          0.6722161546988511,
          0.7634490256247002,
          0.48290412495095736,
          -0.2920578425136545,
          0.9164289398464035,
          0.09805237870349154,
          1.9804916974898015,
          2.0901248437469753,
          1.9127881626580194,
          1.7789525804925526,
          -0.2707880891184231,
          -0.3842532254862778,
          -0.04264967742434471,
          -0.17427339276502968,
          -0.2609524316708132,
          -0.1591744899452225,
          1.934685482142623,
          0.702979939273689,
          0.33586804157903694,
          -0.47338791524977863,
          0.5963328412424587,
          0.8608962995512393,
          0.2286296292453292,
          0.634292528712197,
          0.42079257196296266,
          0.4419792732815676,
          -0.7357851100484338,
          1.9720448914334558,
          2.138139561665948,
          0.964046588459835,
          -0.2898982120571645,
          0.7099882975931009,
          0.967855766021338,
          -0.084251252004883,
          0.9557303965047209,
          0.8017064054013722,
          -0.8486180506436105,
          -0.8086499736942958,
          0.7196139628403166,
          -0.8925503889103872,
          -0.007755212787650803,
          -0.6085145712450011,
          -0.5678265065189813,
          -0.799683004998695,
          0.8634083407599691,
          1.0808404907337086,
          -0.15114106459408216,
          0.0590399885386349,
          -0.3712299134614705,
          0.9036524358365227,
          0.9758300289618738,
          -0.6109823948674462,
          1.8649731743547033,
          -0.23320285668257776,
          -0.7494295197029721,
          -0.557190914466178,
          0.6338153454323143,
          0.6767289923591613,
          -0.1654085169414251,
          -0.21641121658252196,
          1.9696425750294475,
          1.9494385400761478,
          0.037825431222386297,
          0.9564373878506884,
          -0.3346095100405106,
          0.3022259027995423,
          1.9999617140166979,
          -0.2623620902697018,
          -0.795636453640959,
          -0.6282022657797345,
          -0.14736404820782328,
          0.2763770113595708,
          0.12182203766745703,
          -0.831351338479652,
          2.000303572647468,
          1.8609124679820839,
          1.918962043752236,
          0.8011851996985991,
          -0.39675813063804666,
          2.021612067009034,
          -0.31973429291521427,
          0.7716163823988103,
          0.064052395111385,
          0.2381992650661934,
          -0.6200050115159338,
          0.1284175132685066,
          0.42934324766608645,
          -0.31245844214482793,
          0.5702124807179875,
          -0.09257814458332096,
          1.761997371020572,
          0.4619386045740359,
          -0.263728633961966,
          -0.8352211718908698,
          0.05899761630751065,
          0.0025002660184854355,
          -0.3711314122794858,
          0.5186532343182386,
          0.0617390641401496,
          0.9794708590658221,
          0.882874446307809,
          -0.7719409323123942,
          -0.013466973074878485,
          0.8549497533950963,
          -0.6434473176572433,
          2.0264855001404953,
          0.6860650199814342,
          -0.410032858944635,
          0.04451621263981201,
          -0.09836094485003498,
          0.929904395061907,
          2.1150199250003396,
          0.08409008989447075,
          0.6954333956026209,
          0.12168944622453819,
          0.6760056197102295,
          0.9418965276796268,
          -0.3775726483050954,
          1.961161440737956,
          0.5775509085902304,
          0.13268717430747778,
          -0.0625962971529575,
          -0.5923957563380311,
          -0.6135774246818506,
          0.8156918862859116,
          0.9848391216013848,
          -0.8533460391408756,
          -0.6853460564827467,
          0.6933561187619474,
          0.7084809358350491,
          1.836585649161275,
          -0.5743803299542688,
          -0.08462830077042455,
          0.5647007460797678,
          0.20707686275936238,
          -0.43326176788847376,
          -0.24704564419932046,
          -0.6306776239957522,
          -0.33029355849138553,
          0.8499939500570048,
          0.17121613583439096,
          -0.928414770357243,
          1.8743359034335103,
          0.49123174592607216,
          -0.6831754063420179,
          1.808506825842032,
          -0.9116263962572576,
          -0.6016172166037423,
          -0.4193252735677858,
          1.8531129014819905,
          0.11477575339096024,
          0.10278953440506593,
          -0.9308300842776523,
          -0.32687572334556536,
          1.908459290758915,
          -0.8939190327085775,
          -0.3109964753975755,
          0.04924452854844828,
          1.0879899230565684,
          0.9631289090337051,
          1.8620588728956273,
          0.7376578858754228,
          -0.8381165295429435,
          2.0431252237514443,
          0.7919875749778629,
          -0.5272638517241584,
          0.6509546854896315,
          1.8871778608284375,
          0.977194343720612,
          2.076730184454819,
          0.9373977186015032,
          2.0841322346296693,
          0.740660302115301,
          1.9415870006689373,
          0.9404663578445488,
          0.07827922106421491,
          2.0617830256007252,
          -0.12459548942832482,
          0.5904054539531463,
          -0.739466634098189,
          0.6380425231631031,
          0.5869797534180667,
          0.7593041815028219,
          0.7070120004161894,
          -0.1240801504980702,
          0.567289941454481,
          -0.051123432666792507,
          0.2864721582274134,
          0.13897916459310639,
          -1.0241323866394159,
          0.5549042041529356,
          1.0832619780050994,
          -0.6488941819599119,
          -0.8357915127729689,
          0.44291567516329966,
          -0.2708213064094853,
          0.8503954342410442,
          0.9454173087076261,
          0.5306997729476007,
          0.8184360682263697,
          2.0514940632162273,
          1.7525842404653638,
          -0.997126583321195,
          -0.700584732175493,
          1.959908646335066,
          1.9838480666466536,
          -0.5995427806955667,
          0.9351792762394473,
          0.9583245757937616,
          -0.9010400112908953,
          1.0355126349193557,
          -0.350660142308296,
          0.32768700936995043,
          -0.04016317223584159,
          0.734586109933704,
          1.0122495845329154,
          2.0442971001050556,
          -0.8910871264427973,
          -0.3018500056837781,
          -0.1906323575700967,
          -0.7114786322972874,
          0.0425441604605657,
          0.9809075748882272,
          -0.9949460233514558,
          -0.0400547993103928,
          -0.6609744577151037,
          0.3007066800247792,
          -0.8744298467098286,
          1.8311117879434176,
          -0.9424846875397891,
          0.7920689636735169,
          0.6902710888714656,
          -0.5578173089134646,
          0.07714734037785345,
          -0.09858753297919953,
          -1.0395389234324581,
          -0.8386802065409615,
          0.8554419351387067,
          -0.585000436068012,
          -0.3135774774330543,
          -0.18296185767422363,
          0.022821391451921462,
          -0.79089805000184
         ],
         "y": [
          0.9822549071575699,
          0.9048229037751274,
          0.05631694080666472,
          0.7738495251462819,
          0.8922511721638468,
          0.5375950726948494,
          0.692219405156005,
          0.5242480909919646,
          0.08739232723442511,
          1.1146413184995962,
          0.45175022927263836,
          1.1293822962572033,
          1.1306890240309244,
          1.0165394164128152,
          0.9289333208596634,
          0.9961428991188824,
          0.19149737056734215,
          0.10321851518112199,
          0.5812339938589728,
          0.7069480687581869,
          0.2104152066378292,
          0.9035353193739566,
          0.3583909220452828,
          0.36196029174261446,
          0.7856773869043517,
          1.14261722901092,
          0.4548679847830043,
          0.8783579012255007,
          0.7689716538232707,
          0.9736166422153768,
          0.6595942978884547,
          0.8498118355899794,
          0.894996426600414,
          0.48495097581222146,
          0.35404897970612953,
          0.6004796703390658,
          0.6369722263174613,
          0.5123970912365601,
          0.8907933528063234,
          0.3928101156749578,
          0.6467705713527294,
          1.04879913929362,
          1.085903086884279,
          0.9675845148093507,
          0.5817418650424417,
          0.4540928968212434,
          0.4174663351098843,
          0.22882364225197332,
          1.077014290582438,
          1.0164909680301852,
          0.34689187411458833,
          0.1365908441775824,
          0.4671057566367257,
          0.4663233443250978,
          0.3210962067439637,
          0.6735452301262901,
          1.0964472490618125,
          0.2795607666287506,
          0.45767320701916286,
          0.2972997651471223,
          0.4320566469686784,
          0.7907253128860806,
          0.35480369814309526,
          0.4215296191523841,
          0.4642075829220752,
          0.9076905092792218,
          0.42198155527990316,
          0.3585163998055548,
          0.6123224794345812,
          0.4655942779581995,
          0.6547574742308572,
          0.49645627943096193,
          0.5836918951044027,
          0.9250473004842005,
          0.1015123065487504,
          0.9124019716073178,
          0.38237380554133393,
          1.006872637986854,
          0.6385034760315458,
          0.36368060534085667,
          0.8346343390442892,
          0.18259278189025718,
          0.20955205609712818,
          0.8265587478504105,
          0.6287892576713605,
          0.8046756278065207,
          0.1361049000193027,
          0.7621838094565843,
          0.5315213069250324,
          0.21469153049116546,
          0.858929460144145,
          0.8171471541956853,
          0.7718022937956595,
          0.4320689403148781,
          0.9320094889836834,
          0.45490677181924216,
          0.9248858733702299,
          0.572991782098502,
          0.3762678425606728,
          0.9960299841880952,
          0.5514177267695407,
          0.34304956649804075,
          1.0287487385579905,
          1.090641920554707,
          0.984204485646643,
          0.3836853734007045,
          1.1140047370266188,
          0.5858504332717828,
          0.8643731812263942,
          0.4915358838038539,
          0.7588692473806384,
          0.698034146654553,
          0.9191275632641515,
          1.004205011681552,
          0.5254089635141769,
          1.0755269483454923,
          0.5106583054746783,
          1.0313850065828136,
          0.7481449246049681,
          1.0286439460321748,
          0.9757441212100094,
          1.0185245917876566,
          0.19724525451439648,
          1.002608316578085,
          0.7455703306098864,
          0.6331327984176263,
          0.1911355643809437,
          0.3059163056488233,
          0.4117147894464323,
          0.8939998152987016,
          0.17674468904140672,
          0.46222676056263257,
          0.7787922354906126,
          0.9726414177544055,
          0.9385129265571125,
          0.8469796563572628,
          0.8487633877054607,
          0.576061749621294,
          0.34141552525662794,
          0.8664579839676668,
          0.49490098653855985,
          1.0874749605024243,
          0.9154426285911992,
          1.0753869412079091,
          1.0784856091029886,
          1.0175213430318775,
          0.29197247483498306,
          0.5071503973278404,
          0.2570386588428125,
          0.41273326839467406,
          0.49759728720168145,
          0.557965871952936,
          0.7967577725248147,
          0.6462052916372527,
          0.0946300884567681,
          0.19392237537754708,
          0.6781352863480687,
          0.3332168894068407,
          0.9768618277247607,
          0.07352396933933614,
          0.5879257307825388,
          0.26596598567760354,
          0.16321001447275563,
          0.3822405634673003,
          0.5209842639913571,
          0.3972768809170282,
          0.5780223220212798,
          0.612205137405952,
          1.024501332174364,
          1.0396859728897412,
          0.15173440040047456,
          0.5013588039881599,
          0.8782426409688234,
          1.0064447185779646,
          0.19590320058670402,
          0.8241049033511452,
          0.4243148841854044,
          0.47852793105285224,
          0.6097811671476104,
          0.6065358900538679,
          0.9209997471802941,
          0.33694434117097677,
          0.6650843922285694,
          0.9316573122990164,
          0.5963798004749471,
          0.8349804413168526,
          0.40408190730764093,
          0.9422331663277249,
          0.32320762368016187,
          1.0274453643287225,
          0.5207540064108276,
          0.8154532388887875,
          1.032968865223697,
          0.5412191797744178,
          0.9355513994206468,
          0.4689415682481403,
          0.04275732291758144,
          0.9380600086510635,
          0.7362116381031216,
          0.8734130993694545,
          0.49062061252170097,
          0.3899004095880721,
          0.1704418743608323,
          0.586737037333617,
          0.563526394611758,
          1.1169556290195044,
          0.6232828341038067,
          0.9149700616206495,
          1.1529855391281612,
          0.9350700209756714,
          0.47823623740210813,
          0.18636468954024696,
          0.6115260165826947,
          0.7361484928914401,
          0.9490797313566346,
          1.191727553371186,
          0.664019765884372,
          0.37078111329719093,
          0.6642842537402468,
          0.3365478419297466,
          0.1856418311566567,
          0.9448338682771306,
          1.0121690588876098,
          0.09196274055048789,
          0.7155893500252464,
          0.40621995395732213,
          1.143151885496631,
          0.2802755861949742,
          0.3766259125988167,
          0.6774846490778345,
          0.5230193006352926,
          0.9681315342737128,
          0.8782042506716959,
          0.3864966645134199,
          0.5447230121769524,
          0.9501412665927098,
          0.9579810403448553,
          0.6451152599699185,
          0.893500233426621,
          0.1893220684068628,
          0.8292614129991908,
          0.9125935135674815,
          0.5326909642849956,
          1.0018948820834717,
          0.8855518442585144,
          1.1322973936130578,
          0.8642388407090952,
          0.8579261600927854,
          0.15520154874557887,
          1.1147270313820667,
          0.4752475500534998,
          0.3587359290195336,
          0.5512026218856795,
          0.70334335170018,
          0.736686150772422,
          0.9487152910250946,
          0.08730409261778599,
          0.5571086009035575,
          0.09359395171926467,
          0.4105439250356825,
          1.0282571933946403,
          0.5149165622091357,
          0.26386194143791486,
          0.22379687135718102,
          0.9204194632774736,
          0.5660349265616935,
          0.40225343573616046,
          0.4708864728069976,
          0.4284707953753265,
          0.30804989999063626,
          0.7326173848537305,
          0.23098694719715263,
          1.1311471422944275,
          0.8986269361187034,
          0.802738324875337,
          0.7139255328654638,
          1.1199070542138023,
          1.117122439708915,
          0.8034260711525961,
          0.14749727624119602,
          0.8475673273293076,
          0.8179716415241942,
          0.8709898180595733,
          0.4471513213644504,
          0.5365287722796735,
          0.9454821275935075,
          0.9638995051420453,
          0.5443681421483276,
          0.9921660448014442,
          0.48989475472359145,
          0.25084881259471103,
          0.09877131668700201,
          0.2328339229801346,
          0.9749464468087005,
          0.9264786189364063,
          0.9267599755677497,
          0.817408156258662,
          0.9010221832899374,
          1.0466436484822301,
          0.17831933511895554,
          0.866046097395471,
          0.9607887888143329,
          0.8984375453694561,
          0.9442049054399886,
          0.3087197551691415,
          1.1734979133995669,
          0.6820203333081072,
          0.786070009510756,
          0.9005444138500985,
          0.7371817675548691,
          0.14827519891943752,
          0.2991610678405682,
          0.3124233801080995,
          0.8382208906558626,
          0.5106113069073177,
          0.41577433141602144,
          0.46264042355695184,
          0.1237883706359743,
          0.5619960227521309,
          0.6379371139695389,
          0.6258053996891731,
          0.722964697074906,
          0.5244352231245796,
          0.8543166913761971,
          0.7295799991707731,
          0.8696530518725815,
          0.43834679264283943,
          0.7003212258432361,
          0.08786293076170652,
          1.0201510490953887,
          1.0285200988568504,
          0.9277635549816092,
          0.508833748060106,
          0.1434221647401584,
          0.7857556408646011,
          0.21681853648198834,
          0.786937740647921,
          0.7208426598618961,
          0.7094392950041575,
          0.7836253836577559,
          0.773122365479913,
          1.0182984600316471,
          0.3842464242742039,
          0.27252789699643354,
          0.058946555635135275,
          0.44196596332431903,
          0.26150199388566275,
          0.9540853483829905,
          1.0722901271988001,
          0.2600980641950314,
          0.8009256015351454,
          0.3846078008597673,
          0.7192873442222788,
          1.0315914550627436,
          0.8416541764174054,
          0.9489362454503518,
          0.655941407618541,
          0.35857791151696455,
          0.10355671960800154,
          0.28111225157549957,
          0.6595799860516327,
          0.7955249761037808,
          0.07697961138318049,
          0.7983929918707775,
          0.5996756093554767,
          0.4049118450408541,
          0.8581167669295726,
          0.7387139461129776,
          0.403120795647101,
          0.8938613563174089,
          0.915542007206323,
          0.7851966093821181,
          1.1445467541154781,
          0.35822146052563464,
          0.7302017523530339,
          0.9765843997803004,
          0.5773329270165912,
          1.1202405489074996,
          0.48634179651211307,
          0.8437024538666288,
          0.8651083378250098,
          1.0477469510325486,
          0.08499349534050843,
          0.39754617262910885,
          0.6932067877004877,
          1.1344456773925657,
          0.34285661058591627,
          0.4139090752968093,
          0.26089684690791803,
          0.7487509905492531,
          0.8832130282325312,
          0.6168327548214411,
          1.114590535149756,
          0.19459153218874475,
          0.10329572792832098,
          1.091933201564494,
          0.9226539253119874,
          1.0449188339881457,
          1.0840696708049657,
          0.3505068584968449,
          0.9467273588743573,
          0.16544383368561813,
          0.8911404761019216,
          0.4916772453861567,
          1.136869207902676,
          0.8284887149408875,
          0.7001554527684575,
          0.7661971632897764,
          0.08575522510953706,
          0.3819080424900923,
          0.5465054918372831,
          0.7332593885385613,
          0.5091832458918455,
          0.2613148974497754,
          0.904592673621985,
          0.38260827265480346,
          0.7490903235360868,
          0.7970993436719228,
          0.9438738651981043,
          0.8147053710036689,
          0.9489683246396243,
          0.9961208977559891,
          0.445341889633422,
          0.999616762671522,
          0.36935130989206877,
          0.30568613190596206,
          0.8296551074622013,
          0.8828743160720451,
          0.053634187454427884,
          0.3554459231805674,
          0.7857400986998726,
          0.8471963125921481,
          0.14875179912699285,
          0.3899919588664757,
          0.9269140639981439,
          0.47142460212562687,
          0.8577656768871139,
          0.43645038280327964,
          0.43406068187663305,
          0.8455155806177995,
          0.9530154471489818,
          0.7160841071674584,
          0.3339356394032541,
          0.6516273843833911,
          0.563198745646896,
          0.7547112266066403,
          0.1775719672002988,
          0.40171325961490234,
          0.5749360516041062,
          0.6316959995802611,
          0.44666536746088137,
          0.13521629961702464,
          0.37872778046215516,
          0.1371782403629405,
          0.11525677666820411,
          0.8099581487368429,
          0.08988241233026079,
          0.42170202326554185,
          0.4379337361769818,
          0.15997704194787027,
          0.9698553991413721,
          0.8626907985475539,
          0.9413337691881298,
          0.46887424263007904,
          0.8350104932564099,
          0.7080342274565354,
          0.5685573941029896,
          0.5164472934101387,
          0.5310809588522025,
          1.117212944793179,
          0.8270845623675193,
          0.9409375597247863,
          0.4803230184529077,
          0.8129124609154507,
          0.09311445538918961,
          0.8096494866892436,
          0.44246654502726024,
          0.8864484345120117,
          0.9781618698629954,
          0.48425339691364677,
          0.132295543611898,
          0.8059713899719186,
          0.6455899804796078,
          0.2847547521586459,
          0.07945589243947074,
          0.8132518796359277,
          0.7768822534908109,
          0.151518877928812,
          0.3605230968554292,
          0.692591375352508,
          0.2602825122601336,
          0.11174336940867566,
          0.6049973066277112,
          0.37003300666586214,
          0.9455541511015251,
          0.7434595201812386,
          0.9206511096733676,
          0.7553609054938039,
          0.22841018996591,
          0.22146492796090844,
          0.6092134017521151,
          0.9813797580523714,
          1.0671183139148601,
          0.8230986372473956,
          0.4665679943350217,
          0.44101839003152543,
          0.3890363536100899,
          0.9581358566277044,
          0.8373064646626565,
          0.9799281024178358,
          0.466093577826476,
          0.4113344395062229,
          0.6872972697616939,
          0.7038338740600414,
          0.8074515749247568,
          0.7772082901304515,
          1.100494579673538,
          0.48073233259956044,
          0.6553316780600452,
          0.37701398517608276,
          0.23338003268869043,
          0.6888970683389506,
          1.1128497788287635,
          0.8831756763636783,
          1.144345004239283,
          0.42353437870889243
         ]
        },
        {
         "marker": {
          "size": 5
         },
         "mode": "markers",
         "name": "Class 2",
         "type": "scatter",
         "x": [
          0.09477562796903743,
          0.063939949605561,
          -1.018190360702087,
          0.016375095320807654,
          0.5444994702348364,
          0.04820552819541511,
          2.160173291266628,
          -0.8785803291126939,
          1.7355368886076405,
          1.1900020599208756,
          1.7483201215723283,
          0.4835313342111107,
          -1.0464217038043513,
          0.15577501853729372,
          1.5223545238683645,
          -1.0760314762019387,
          1.267358873447407,
          1.690451742531432,
          -0.07159324668616185,
          1.3468468374072593,
          1.6986800931591914,
          1.4316704346846416,
          0.11141959815989988,
          -0.8809220044872816,
          1.8561655972344848,
          0.8075652263773391,
          1.3214986788982697,
          0.903060060763992,
          -0.891402068665554,
          -1.0908751690195952,
          1.6870200680453382,
          1.254556442178992,
          1.7311410073576423,
          0.6398615457289004,
          0.9114718704649165,
          1.167464820943974,
          0.7480632962007066,
          0.9810913116961008,
          0.09384677468757846,
          -0.8115198044979305,
          1.0126320065416152,
          2.1106267844692113,
          0.9001082722907324,
          -1.0628475959107078,
          0.7544953554869867,
          0.38730642422045974,
          1.1925969011480473,
          0.23778849553532816,
          0.43208494106925943,
          0.6948871693961778,
          1.6523297825420227,
          0.06796749160971391,
          -0.9113613196207083,
          1.8296816519972487,
          0.23647333972944878,
          0.3085205978854415,
          1.9390390210174364,
          1.691747322736228,
          1.5909694245070192,
          0.18252729457206635,
          1.8389458681267206,
          -0.9628511991044824,
          1.5132903737674015,
          0.6615751384183183,
          0.9597787170402678,
          -0.8550442274658862,
          1.3169824651290534,
          1.7747361777754083,
          0.6781858356077635,
          -0.16411450774499592,
          1.839843934902518,
          0.1989134482812208,
          0.49920057910414267,
          0.11783193946197487,
          1.4267014374386449,
          0.09968028681659154,
          0.6459441873498729,
          -0.9147391863462793,
          0.7029949956012647,
          -0.11410780794611214,
          0.012137487822318375,
          1.257185994013502,
          0.17866366595383137,
          0.1406480901126034,
          0.23733599447295253,
          0.2656204270803237,
          -0.052601954507430895,
          0.4099329092692868,
          1.5355364190283434,
          1.396899979600678,
          -0.033281464569955635,
          -0.9850808445453236,
          1.3183521818723083,
          0.2645673433122307,
          0.5605667173946647,
          1.560845281253122,
          0.8772101149717857,
          0.33043487820009065,
          -0.9017476305920097,
          0.07334195165248802,
          1.276323544305656,
          1.541108547095788,
          -0.8987052898531316,
          1.7880580921604834,
          1.07267562793669,
          -1.0274055932773343,
          1.4361368001461179,
          0.6725177013194297,
          1.877234582779642,
          1.4758638968852897,
          0.840869838140646,
          0.20220634095958417,
          -0.8449418927423359,
          1.9188664581838808,
          0.8025784867127288,
          0.25571163330843977,
          0.20798293567147463,
          0.0889344677518929,
          1.4708999889279895,
          1.2669329199566888,
          1.090202399327623,
          0.2591940621415809,
          1.0676383278941566,
          0.3500954787935012,
          0.031710430834750544,
          1.6163029597759593,
          -1.0462685217615664,
          1.7326197168823818,
          1.888175422119508,
          1.1170384882612967,
          0.378621333237093,
          0.29081388940161557,
          0.6612345020362699,
          -1.0346007807497644,
          1.6996973670305158,
          -0.09841743293513039,
          1.6233257909388628,
          -0.03953724631044643,
          0.5392453407240456,
          1.399354360709321,
          1.820878316749508,
          0.8750717688805798,
          1.1940996986895875,
          0.9982207552407435,
          0.5225378637327404,
          1.3986007872504684,
          0.9710523842247565,
          0.8797802983140307,
          0.9005521840885232,
          0.9288485783361912,
          1.3272525139102187,
          1.3803099919836912,
          0.3069392403191454,
          1.1883179538293374,
          1.3409296298242488,
          0.4251725769033501,
          0.5571589600088039,
          0.1517832409285568,
          1.6343642010560124,
          0.9426750184941881,
          1.157979718481977,
          0.7470542814046279,
          1.097350423309488,
          0.8922424172514138,
          1.573365587010463,
          0.35340570654401077,
          1.1329689761151132,
          1.762308026965557,
          0.057256657336313466,
          1.2387026248232793,
          0.9971702443808963,
          1.8829445784607906,
          0.6718666959758679,
          1.6092861838194414,
          1.4431890060030117,
          0.14835794292502952,
          1.1487879047710736,
          0.6932396494860962,
          -0.8664676581136695,
          0.3928306427702191,
          0.5225098731869396,
          1.838834479067361,
          0.22132040391510338,
          0.6839533662020271,
          1.215500213998289,
          1.1449517471856618,
          0.10068401085581187,
          0.7050731860285049,
          0.917226682243733,
          -0.005135654328909847,
          1.0153364459045147,
          0.6347642423715206,
          1.5502244688530806,
          1.1398329608025217,
          0.7987910911671069,
          1.543637299722769,
          0.6177531832318391,
          2.1650248034341795,
          0.2944043514724337,
          -1.0236133069865612,
          0.746116960044143,
          0.11603347375525597,
          0.27659454328804844,
          0.7866040403621046,
          -0.9807871930034272,
          1.6134771196420798,
          1.0012844062801318,
          0.2950024835964539,
          -0.8007932645229426,
          1.6968924470069295,
          1.702423258184596,
          -0.014053642154476981,
          0.2600748459757962,
          0.1845538525262413,
          0.16472796296802278,
          1.1366433877534992,
          0.1901643576080786,
          0.39174689859419337,
          -1.0046253193308974,
          1.3684971593033886,
          -1.180544067365991,
          0.5099377210544365,
          0.7686453165545392,
          1.0943953907451023,
          0.9415417227080517,
          1.5079851778717261,
          1.5192489837071625,
          0.27103913050557976,
          0.011543082752271172,
          1.4201825454895807,
          -0.8246006923182715,
          1.1590277925337291,
          -0.7581951756306766,
          1.0375057283011544,
          -0.8321567702096728,
          1.8191781837251813,
          0.26550828037185725,
          1.160238525981432,
          0.9079981991650109,
          1.57995026578518,
          -0.8110288762243899,
          0.11163419782042715,
          0.30471954173312804,
          0.1258751385947271,
          0.9381038748871668,
          1.1920520699736976,
          0.2470066688668756,
          -0.01719280443128529,
          1.966462926805192,
          0.5762542813971698,
          0.6248879210110367,
          0.5272119024734762,
          0.10689425791012852,
          1.3851960487126924,
          -0.9521839425621148,
          -1.0695073602643013,
          0.991519003891426,
          0.46783805599311706,
          0.6143560035895185,
          0.29975838122801224,
          0.16322229786195178,
          -0.7292689526737042,
          1.0887613107320708,
          0.7355136716992001,
          0.1402269153745922,
          0.8832890836568095,
          1.9930006494053674,
          1.651309716719182,
          0.24318336722355183,
          -0.9034498023546976,
          0.3906712442105742,
          0.3888088857084369,
          0.5087484923888264,
          1.7978093852337538,
          0.9870905259096594,
          0.14003358563672566,
          1.0521631817640047,
          -0.9578602711127364,
          0.94655881889757,
          -1.1040016633028646,
          1.5745841350948773,
          1.6203804168607379,
          1.0230272140526189,
          1.6488936611980813,
          -1.0350521195375584,
          1.0601275558491716,
          2.1173551050025643,
          -0.2161140516668565,
          1.8548143416169487,
          -0.09599397640666968,
          1.6963525583933416,
          1.2695688176654805,
          -0.04982147034367636,
          0.2555296543023894,
          1.6000310106476998,
          1.5297254031446958,
          0.9663665448540857,
          0.614745849421296,
          0.8180016074266431,
          0.015605763123920702,
          1.8713397000669356,
          1.3253903564595486,
          -1.0380991494905056,
          0.4729368839282737,
          0.13755442714313226,
          1.7532718478730684,
          1.583408431290598,
          0.1910910539642115,
          0.15804254540424478,
          0.37825310525179034,
          0.9695167800661638,
          0.3363698012442188,
          0.3186500712141917,
          0.5445700257264955,
          -0.9058282351255861,
          0.5700219433597954,
          1.8172559747270238,
          -0.9732297156062272,
          -0.9749298913380535,
          1.292817034080452,
          0.10690277565810355,
          0.3669983132638698,
          1.2650210942732778,
          0.5819280601456926,
          -0.8861715737091869,
          0.7743123406818653,
          1.5556896790583532,
          0.2716809772358816,
          1.6520026206324647,
          1.9120746172393157,
          0.4865479362129849,
          0.31448727949611494,
          0.46729792559441696,
          1.0525639255555452,
          1.1462252580790155,
          1.6273689260057376,
          1.5513776131611627,
          1.5238294833857886,
          0.8505318115479831,
          0.8499562833570202,
          1.0092686838508294,
          1.2204636932453221,
          1.726619915439255,
          1.419765617972486,
          1.456486991009975,
          -0.9157611312496877,
          -1.1086652322843984,
          0.8567445612336809,
          0.21874599707945863,
          0.8193133250702751,
          0.3534566275247975,
          0.20653558303996733,
          1.1666093282630265,
          -0.8183566650431977,
          0.8455720014137138,
          1.622846519524403,
          1.4715524686345842,
          1.8204662079094565,
          0.20456413609586457,
          1.198350121561327,
          0.8799937001707098,
          0.5533639519825475,
          0.1067289034819092,
          0.3749587065285942,
          1.7914939782136574,
          -0.9038924629348262,
          0.37591193241021803,
          0.2084298954340238,
          1.5765987349344202,
          0.38128945303904915,
          0.15209199748815727,
          0.8083759991789612,
          1.101412809591312,
          0.1520788056241618,
          1.8065305520395558,
          0.653453873263645,
          1.381451046066554,
          -0.9250658312715272,
          0.19392253560523715,
          0.6093086924846841,
          0.17488085764581277,
          1.488994140865542,
          -1.0358928588612484,
          1.6127873550632492,
          1.7621876021507565,
          0.06908329986831424,
          1.2533239111630796,
          0.8944574745539288,
          0.180262609508001,
          0.46293676092494795,
          0.3035556144895747,
          0.45563013625102045,
          1.6987860255944391,
          0.3029268859873504,
          1.584481156741579,
          1.015672641706944,
          0.08799561339586497,
          1.6603269404953438,
          -0.9308306999091178,
          1.4230486519002155,
          0.06658611487294384,
          1.3920740936402414,
          1.8711869432585,
          1.2318412607269749,
          0.19452806962329477,
          -0.9403577672717643,
          1.1289321994178445,
          1.8429652567972388,
          0.3079030319312982,
          1.9868545470888017,
          1.4255161675628625,
          1.1460922987269817,
          0.46293513544803283,
          0.811632726332328,
          -1.045004449249689,
          0.7600506926200432,
          -0.06870621293276091,
          1.8554638804769041,
          0.35412450730358036,
          0.05019131452933265,
          0.819838479461812,
          -0.9450121217306359,
          1.576020898948935,
          0.8515524000339552,
          0.6005210593194417,
          0.3557735747899901,
          0.9276009705523894,
          1.340473649754186,
          -0.918859617121998,
          0.807846939935297,
          -0.7918199963121605,
          1.0252896295176281,
          1.1330598934253937,
          -0.053557162116059834,
          0.26586126066849736,
          0.09325173180170927,
          0.23812725523065878,
          -0.0313055707536192,
          0.17732059710965742,
          0.15094373478104628,
          0.16181194164960538,
          0.01133746195056097,
          0.14315976665613678,
          1.3583575629940166,
          0.49880223008974833,
          1.5242958389493575,
          0.05889234193479991,
          1.679541791304831,
          0.1236002089394033,
          1.6204486060258385,
          1.576435100897165,
          1.0204865338228724,
          0.21715582950668322,
          -0.7963657548939416
         ],
         "y": [
          0.14923023969523552,
          0.013940660665675762,
          0.11907660557003555,
          0.34482198677103615,
          -0.5157270750854873,
          0.10252563309485478,
          -2.5169219672660503e-05,
          0.31224570463852824,
          -0.5375226309890648,
          -0.642232433528312,
          -0.08774907499480136,
          -0.4098000081068081,
          0.14933309021842642,
          -0.07178561639098403,
          -0.3040333417275684,
          0.16369593164453844,
          -0.32660906644585486,
          -0.24690251466106675,
          -0.0011128341413057102,
          -0.4639872127317194,
          -0.29411818291208447,
          -0.3396827899459264,
          0.23739845858261674,
          0.07181355839780051,
          -0.09089220756992276,
          -0.4771950398033283,
          -0.4300509128945553,
          -0.5255451457251874,
          0.16013836983422494,
          -0.02613692316125891,
          -0.2462937094347606,
          -0.31722099541195214,
          -0.28503584669068993,
          -0.4472119372782632,
          -0.5050126327139184,
          -0.48283588239420416,
          -0.2695106996878023,
          -0.3431414129165028,
          0.15393519067940165,
          0.3035597360181084,
          -0.006532613514394589,
          -0.19447183522043626,
          -0.24038109532685387,
          0.09171639434065751,
          -0.591899048865644,
          -0.31561399879898916,
          -0.5417006854411671,
          -0.00014453224742655424,
          -0.1708260928184298,
          -0.31299648521031354,
          -0.13878606600403995,
          0.1942138186721349,
          0.24038642856574294,
          0.04097931100041438,
          -0.16091110378572826,
          -0.3953821398406436,
          -0.16918865637964361,
          -0.28587389843885275,
          -0.5865857164417033,
          0.3374798020521677,
          -0.22409064739178208,
          0.0948042740195339,
          -0.30830488726764826,
          -0.4752372416350539,
          -0.5225291027182517,
          0.07384462921704224,
          -0.47457987724914785,
          -0.5231818729323499,
          -0.39911033404337437,
          0.2884864039246948,
          -0.2923333986168524,
          0.047838688021465334,
          -0.4395545585478299,
          0.06375725970719998,
          -0.33749179729078443,
          -0.13360979371819315,
          -0.16477723528282184,
          0.20721875808873705,
          -0.39996525589725873,
          0.21577942509828363,
          -0.0357521898960399,
          -0.6029704649992014,
          -0.06032219550949368,
          0.20738668926220724,
          0.10540856168543092,
          -0.23577903372587927,
          0.2441542141759305,
          -0.3028591810200271,
          -0.5186575804537786,
          -0.5488513852845646,
          0.2821120153548414,
          0.16473362163593158,
          -0.45208588743292155,
          -0.003961655996669387,
          -0.399690420334813,
          -0.32054146116551663,
          -0.5389820232211788,
          -0.0001428126565790333,
          -0.1715329846426732,
          0.03617490052832267,
          -0.4539248599082802,
          -0.3910758021965512,
          0.13350844824256947,
          -0.13786042746982116,
          -0.4398994214968719,
          0.01993995243595453,
          -0.2394967574618413,
          -0.60347129965143,
          -0.3005688828658164,
          -0.19267149950619789,
          -0.5198903219829518,
          0.10515249758297542,
          0.26920233611784494,
          0.00516265490710506,
          -0.48504422776191863,
          -0.16211929116974227,
          0.1101029594881218,
          0.10086670574035998,
          -0.23079053114944864,
          -0.4249058622481973,
          -0.37843379143091294,
          0.01695766405758123,
          -0.5114897658218159,
          -0.08390255131693213,
          0.07445204921641645,
          -0.025318682157969452,
          0.1900853915163622,
          -0.3738411051000727,
          0.013252659591216923,
          -0.487434786977572,
          -0.3521710611649506,
          -0.33678406186216464,
          -0.42073586665186447,
          -0.07472909268140751,
          -0.23873552083156052,
          0.31028964053316976,
          -0.11374731730619014,
          0.1524460387441986,
          -0.452073979417003,
          -0.30864119096803616,
          -0.3738034872002537,
          -0.5753388905799247,
          -0.3019909563265129,
          -0.40638919916364463,
          -0.30620528636869127,
          -0.4227592581525477,
          -0.41581689296395674,
          -0.3314709414061276,
          -0.03445313671531615,
          -0.48354839794470095,
          -0.4549264510677625,
          -0.33947595875956826,
          -0.11065817733690714,
          -0.41073386673457013,
          -0.3316156691586303,
          -0.39278610488309695,
          -0.333063344833272,
          -0.2500037352048792,
          -0.10908758117193597,
          -0.42115732546813556,
          -0.3933540984206957,
          -0.5095079123984306,
          0.027558723065472635,
          -0.5052970447339236,
          -0.4649452611538161,
          -0.13860790640233797,
          -0.5418611173553982,
          -0.07439459094414448,
          0.16806438440870106,
          -0.48830303416529836,
          -0.5382585369622968,
          -0.11598637085759331,
          -0.5677453051462871,
          -0.35121059563216234,
          -0.37697883083885075,
          0.02468793040130577,
          -0.6055474805105443,
          -0.41553048319501373,
          0.27159257984287233,
          -0.48579456868636556,
          -0.29210429649742287,
          -0.02678321473560727,
          -0.026675483633033445,
          -0.5008886661305665,
          -0.6127846968793487,
          -0.4030234489429793,
          0.3204287657999168,
          -0.4362831871572468,
          -0.5137316464365155,
          0.2990022233266702,
          -0.6086758396631857,
          -0.34861998367767016,
          -0.4466369989934935,
          0.03798009054966073,
          -0.5186420360097719,
          -0.44983539196424516,
          -0.5410502777224774,
          -0.013707084533886013,
          -0.45468199050280467,
          0.13875932447414888,
          -0.31759684048110015,
          -0.2380929011507877,
          -0.17717721152650223,
          -0.43693595068820523,
          -0.08530113769184072,
          -0.364129663508726,
          -0.5882870648084942,
          -0.11456768764348747,
          0.3342148992917382,
          -0.17649855294992436,
          -0.1440664970579216,
          0.33658412962749235,
          -0.31057876332962187,
          0.23699670748832063,
          0.0821050592908119,
          -0.3864291826487122,
          0.2596657401889749,
          -0.2854068969894665,
          -0.020545188968072947,
          -0.37174518204232293,
          0.054191361282280914,
          -0.38527502557344845,
          -0.5667137433259453,
          0.009419212227182616,
          -0.6577486053023981,
          -0.13351406376755992,
          -0.4558077667735271,
          -0.1097635560716291,
          0.2974941045606119,
          -0.4444789261330784,
          0.06467853835047639,
          -0.4782683364391595,
          0.16257365788165762,
          -0.03444916318051384,
          0.16843997033131197,
          -0.1321261240214746,
          -0.21562286781586937,
          -0.43309036610181223,
          -0.10835631419880658,
          -0.3351216721393686,
          0.17442747387898516,
          -0.03726834798573628,
          -0.25873878733262556,
          0.18961054257926302,
          -0.5203340919298982,
          -0.4148488391352502,
          -0.11547960177231756,
          0.21920310410637028,
          -0.273880277644967,
          -0.5035184810116758,
          -0.3797200851381378,
          -0.30492261421177846,
          0.27868590929038206,
          -0.5592782318066382,
          0.17792249708436497,
          0.09872994319393513,
          -0.010798764661605231,
          -0.27085147547947835,
          -0.6057744710665149,
          -0.29385175600068386,
          -0.01866177214896758,
          0.19366382613882935,
          -0.4442444021937063,
          -0.6499726555759007,
          -0.19662275004899615,
          -0.5127890088085557,
          0.04048741263919335,
          -0.22064838111058654,
          -0.1440851975407258,
          0.2882583174123693,
          -0.07100867470021124,
          -0.17332888521448284,
          -0.35265346382959084,
          -0.05826162078807487,
          -0.5573839144180922,
          -0.1749741233079894,
          -0.47753066137183986,
          0.297732014838165,
          -0.3998572494467904,
          0.06752040628375683,
          -0.34522530531935935,
          -0.1939281650147373,
          -0.712751326510594,
          -0.20329051693238892,
          0.19243483004664874,
          -0.41432661514894464,
          -0.08892161537899197,
          0.30210316063586595,
          -0.28333466877834146,
          0.260235490168624,
          0.036569026901648816,
          -0.2606192740971155,
          0.34323986235845144,
          -0.3778810459313696,
          -0.3045517537954221,
          -0.35394525065154403,
          -0.2983372503495333,
          -0.4155205254207447,
          -0.4034338237756841,
          0.10434252611832882,
          -0.022583379181874808,
          -0.29277259880379425,
          0.11434467622239647,
          -0.2522647331162464,
          0.20490938337806866,
          -0.4348383164607681,
          -0.19581421141053804,
          -0.08867220725287966,
          0.21569766608063812,
          0.1061151237770106,
          -0.41971974181618604,
          -0.09940306498554369,
          -0.1266612204560404,
          -0.4627674643813427,
          0.3052011530202909,
          -0.23472995646441946,
          -0.2739841984982064,
          -0.1532949732274595,
          0.26883165936389164,
          -0.29367350442038803,
          -0.12449652086946161,
          -0.2135467589262814,
          -0.45913935523256005,
          -0.4166035940146057,
          0.15141466732127878,
          -0.5693922065542244,
          -0.23970730520317424,
          -0.15245395258272565,
          -0.0934582976924608,
          -0.14988834653601554,
          -0.3347694553436417,
          -0.17737545012253314,
          -0.5193792090405124,
          -0.13812266667536982,
          -0.5111795926554249,
          -0.10361986017798464,
          -0.22385311315993198,
          -0.4739068937708934,
          -0.48589913629064585,
          -0.2551491760555385,
          -0.05232965417148534,
          -0.47737697012308133,
          -0.4032190021777816,
          -0.2726585538844629,
          -0.32145894362567706,
          0.31981083893223683,
          0.13944756215190945,
          -0.4642754422069754,
          -0.016341774073533197,
          -0.579537527171378,
          -0.37484263692158626,
          -0.24548608104877856,
          -0.08538688650956047,
          0.284252760381604,
          -0.6665990271399224,
          -0.42266779939519405,
          -0.3962350261273377,
          -0.24272068570615418,
          0.07709302053956213,
          -0.5031931974430363,
          0.03180639449125322,
          -0.34234611442677354,
          0.14847299003714443,
          -0.2442734945067049,
          -0.15444560766166307,
          0.16584856991975713,
          -0.18780788696260545,
          0.03492138273638279,
          -0.3632239678783688,
          -0.34619874401827067,
          -0.2796241296344709,
          -0.5129288158197658,
          -0.6037371539590445,
          0.3234463817033639,
          -0.058556565802096325,
          -0.7082747812402832,
          -0.35646581561064583,
          0.2278270968091229,
          -0.16137227154874947,
          -0.5185570588540437,
          -0.22076178953943898,
          -0.5280203932167837,
          0.2247987826217719,
          -0.27625173392056135,
          -0.13913310735450665,
          0.10578051182627818,
          -0.4877707503120928,
          -0.5353238441429066,
          -0.1686785483418342,
          -0.40975623097200076,
          -0.3528847812641663,
          -0.30014918891097314,
          -0.04082334459304576,
          0.028969281173670036,
          -0.3372257569524072,
          -0.4670953902974343,
          0.15331301921942833,
          -0.10202109120951369,
          0.18204960865924144,
          -0.4464938480083915,
          0.20741666494080385,
          -0.5582059424577119,
          -0.05278450005072814,
          -0.40092355979391264,
          -0.2549713204543741,
          0.2739980130554581,
          -0.6923127187069631,
          -0.16355836866725865,
          -0.12307716752856825,
          0.02801519739588393,
          -0.4122871882894019,
          -0.6438738504181376,
          -0.27463532722331835,
          0.1354726477168957,
          0.09448049159513887,
          -0.3476307716679946,
          0.06149002242898462,
          -0.27078703788665437,
          0.0008606552998645413,
          0.160797415291926,
          -0.41388438182284,
          0.00017490499144343086,
          -0.24436058123427912,
          0.06187760694193545,
          -0.5019989929860339,
          -0.10735066403967908,
          -0.4902031450807139,
          -0.4284837907592485,
          0.22957484281949514,
          -0.4582832973045756,
          -0.07678508349193197,
          -0.2944548164358294,
          -0.6235235186884918,
          0.2735238192263706,
          0.0250536947461224,
          0.06865631590678223,
          -0.2619817318430558,
          0.011511074169616546,
          -0.18879164916485155,
          0.15676882019532154,
          -0.26378319438814163,
          0.01159332881412399,
          -0.20810718867711767,
          -0.5100677365332522,
          -0.14431292246862643,
          -0.4528597576997119,
          0.34207280762207715,
          -0.33295994066187207,
          0.12946326020264237,
          -0.19382442729695004,
          -0.05702981887840519,
          -0.6320587906507107,
          0.1947169735352577,
          0.17309576877926314
         ]
        }
       ],
       "layout": {
        "template": {
         "data": {
          "bar": [
           {
            "error_x": {
             "color": "#2a3f5f"
            },
            "error_y": {
             "color": "#2a3f5f"
            },
            "marker": {
             "line": {
              "color": "#E5ECF6",
              "width": 0.5
             },
             "pattern": {
              "fillmode": "overlay",
              "size": 10,
              "solidity": 0.2
             }
            },
            "type": "bar"
           }
          ],
          "barpolar": [
           {
            "marker": {
             "line": {
              "color": "#E5ECF6",
              "width": 0.5
             },
             "pattern": {
              "fillmode": "overlay",
              "size": 10,
              "solidity": 0.2
             }
            },
            "type": "barpolar"
           }
          ],
          "carpet": [
           {
            "aaxis": {
             "endlinecolor": "#2a3f5f",
             "gridcolor": "white",
             "linecolor": "white",
             "minorgridcolor": "white",
             "startlinecolor": "#2a3f5f"
            },
            "baxis": {
             "endlinecolor": "#2a3f5f",
             "gridcolor": "white",
             "linecolor": "white",
             "minorgridcolor": "white",
             "startlinecolor": "#2a3f5f"
            },
            "type": "carpet"
           }
          ],
          "choropleth": [
           {
            "colorbar": {
             "outlinewidth": 0,
             "ticks": ""
            },
            "type": "choropleth"
           }
          ],
          "contour": [
           {
            "colorbar": {
             "outlinewidth": 0,
             "ticks": ""
            },
            "colorscale": [
             [
              0,
              "#0d0887"
             ],
             [
              0.1111111111111111,
              "#46039f"
             ],
             [
              0.2222222222222222,
              "#7201a8"
             ],
             [
              0.3333333333333333,
              "#9c179e"
             ],
             [
              0.4444444444444444,
              "#bd3786"
             ],
             [
              0.5555555555555556,
              "#d8576b"
             ],
             [
              0.6666666666666666,
              "#ed7953"
             ],
             [
              0.7777777777777778,
              "#fb9f3a"
             ],
             [
              0.8888888888888888,
              "#fdca26"
             ],
             [
              1,
              "#f0f921"
             ]
            ],
            "type": "contour"
           }
          ],
          "contourcarpet": [
           {
            "colorbar": {
             "outlinewidth": 0,
             "ticks": ""
            },
            "type": "contourcarpet"
           }
          ],
          "heatmap": [
           {
            "colorbar": {
             "outlinewidth": 0,
             "ticks": ""
            },
            "colorscale": [
             [
              0,
              "#0d0887"
             ],
             [
              0.1111111111111111,
              "#46039f"
             ],
             [
              0.2222222222222222,
              "#7201a8"
             ],
             [
              0.3333333333333333,
              "#9c179e"
             ],
             [
              0.4444444444444444,
              "#bd3786"
             ],
             [
              0.5555555555555556,
              "#d8576b"
             ],
             [
              0.6666666666666666,
              "#ed7953"
             ],
             [
              0.7777777777777778,
              "#fb9f3a"
             ],
             [
              0.8888888888888888,
              "#fdca26"
             ],
             [
              1,
              "#f0f921"
             ]
            ],
            "type": "heatmap"
           }
          ],
          "heatmapgl": [
           {
            "colorbar": {
             "outlinewidth": 0,
             "ticks": ""
            },
            "colorscale": [
             [
              0,
              "#0d0887"
             ],
             [
              0.1111111111111111,
              "#46039f"
             ],
             [
              0.2222222222222222,
              "#7201a8"
             ],
             [
              0.3333333333333333,
              "#9c179e"
             ],
             [
              0.4444444444444444,
              "#bd3786"
             ],
             [
              0.5555555555555556,
              "#d8576b"
             ],
             [
              0.6666666666666666,
              "#ed7953"
             ],
             [
              0.7777777777777778,
              "#fb9f3a"
             ],
             [
              0.8888888888888888,
              "#fdca26"
             ],
             [
              1,
              "#f0f921"
             ]
            ],
            "type": "heatmapgl"
           }
          ],
          "histogram": [
           {
            "marker": {
             "pattern": {
              "fillmode": "overlay",
              "size": 10,
              "solidity": 0.2
             }
            },
            "type": "histogram"
           }
          ],
          "histogram2d": [
           {
            "colorbar": {
             "outlinewidth": 0,
             "ticks": ""
            },
            "colorscale": [
             [
              0,
              "#0d0887"
             ],
             [
              0.1111111111111111,
              "#46039f"
             ],
             [
              0.2222222222222222,
              "#7201a8"
             ],
             [
              0.3333333333333333,
              "#9c179e"
             ],
             [
              0.4444444444444444,
              "#bd3786"
             ],
             [
              0.5555555555555556,
              "#d8576b"
             ],
             [
              0.6666666666666666,
              "#ed7953"
             ],
             [
              0.7777777777777778,
              "#fb9f3a"
             ],
             [
              0.8888888888888888,
              "#fdca26"
             ],
             [
              1,
              "#f0f921"
             ]
            ],
            "type": "histogram2d"
           }
          ],
          "histogram2dcontour": [
           {
            "colorbar": {
             "outlinewidth": 0,
             "ticks": ""
            },
            "colorscale": [
             [
              0,
              "#0d0887"
             ],
             [
              0.1111111111111111,
              "#46039f"
             ],
             [
              0.2222222222222222,
              "#7201a8"
             ],
             [
              0.3333333333333333,
              "#9c179e"
             ],
             [
              0.4444444444444444,
              "#bd3786"
             ],
             [
              0.5555555555555556,
              "#d8576b"
             ],
             [
              0.6666666666666666,
              "#ed7953"
             ],
             [
              0.7777777777777778,
              "#fb9f3a"
             ],
             [
              0.8888888888888888,
              "#fdca26"
             ],
             [
              1,
              "#f0f921"
             ]
            ],
            "type": "histogram2dcontour"
           }
          ],
          "mesh3d": [
           {
            "colorbar": {
             "outlinewidth": 0,
             "ticks": ""
            },
            "type": "mesh3d"
           }
          ],
          "parcoords": [
           {
            "line": {
             "colorbar": {
              "outlinewidth": 0,
              "ticks": ""
             }
            },
            "type": "parcoords"
           }
          ],
          "pie": [
           {
            "automargin": true,
            "type": "pie"
           }
          ],
          "scatter": [
           {
            "marker": {
             "colorbar": {
              "outlinewidth": 0,
              "ticks": ""
             }
            },
            "type": "scatter"
           }
          ],
          "scatter3d": [
           {
            "line": {
             "colorbar": {
              "outlinewidth": 0,
              "ticks": ""
             }
            },
            "marker": {
             "colorbar": {
              "outlinewidth": 0,
              "ticks": ""
             }
            },
            "type": "scatter3d"
           }
          ],
          "scattercarpet": [
           {
            "marker": {
             "colorbar": {
              "outlinewidth": 0,
              "ticks": ""
             }
            },
            "type": "scattercarpet"
           }
          ],
          "scattergeo": [
           {
            "marker": {
             "colorbar": {
              "outlinewidth": 0,
              "ticks": ""
             }
            },
            "type": "scattergeo"
           }
          ],
          "scattergl": [
           {
            "marker": {
             "colorbar": {
              "outlinewidth": 0,
              "ticks": ""
             }
            },
            "type": "scattergl"
           }
          ],
          "scattermapbox": [
           {
            "marker": {
             "colorbar": {
              "outlinewidth": 0,
              "ticks": ""
             }
            },
            "type": "scattermapbox"
           }
          ],
          "scatterpolar": [
           {
            "marker": {
             "colorbar": {
              "outlinewidth": 0,
              "ticks": ""
             }
            },
            "type": "scatterpolar"
           }
          ],
          "scatterpolargl": [
           {
            "marker": {
             "colorbar": {
              "outlinewidth": 0,
              "ticks": ""
             }
            },
            "type": "scatterpolargl"
           }
          ],
          "scatterternary": [
           {
            "marker": {
             "colorbar": {
              "outlinewidth": 0,
              "ticks": ""
             }
            },
            "type": "scatterternary"
           }
          ],
          "surface": [
           {
            "colorbar": {
             "outlinewidth": 0,
             "ticks": ""
            },
            "colorscale": [
             [
              0,
              "#0d0887"
             ],
             [
              0.1111111111111111,
              "#46039f"
             ],
             [
              0.2222222222222222,
              "#7201a8"
             ],
             [
              0.3333333333333333,
              "#9c179e"
             ],
             [
              0.4444444444444444,
              "#bd3786"
             ],
             [
              0.5555555555555556,
              "#d8576b"
             ],
             [
              0.6666666666666666,
              "#ed7953"
             ],
             [
              0.7777777777777778,
              "#fb9f3a"
             ],
             [
              0.8888888888888888,
              "#fdca26"
             ],
             [
              1,
              "#f0f921"
             ]
            ],
            "type": "surface"
           }
          ],
          "table": [
           {
            "cells": {
             "fill": {
              "color": "#EBF0F8"
             },
             "line": {
              "color": "white"
             }
            },
            "header": {
             "fill": {
              "color": "#C8D4E3"
             },
             "line": {
              "color": "white"
             }
            },
            "type": "table"
           }
          ]
         },
         "layout": {
          "annotationdefaults": {
           "arrowcolor": "#2a3f5f",
           "arrowhead": 0,
           "arrowwidth": 1
          },
          "autotypenumbers": "strict",
          "coloraxis": {
           "colorbar": {
            "outlinewidth": 0,
            "ticks": ""
           }
          },
          "colorscale": {
           "diverging": [
            [
             0,
             "#8e0152"
            ],
            [
             0.1,
             "#c51b7d"
            ],
            [
             0.2,
             "#de77ae"
            ],
            [
             0.3,
             "#f1b6da"
            ],
            [
             0.4,
             "#fde0ef"
            ],
            [
             0.5,
             "#f7f7f7"
            ],
            [
             0.6,
             "#e6f5d0"
            ],
            [
             0.7,
             "#b8e186"
            ],
            [
             0.8,
             "#7fbc41"
            ],
            [
             0.9,
             "#4d9221"
            ],
            [
             1,
             "#276419"
            ]
           ],
           "sequential": [
            [
             0,
             "#0d0887"
            ],
            [
             0.1111111111111111,
             "#46039f"
            ],
            [
             0.2222222222222222,
             "#7201a8"
            ],
            [
             0.3333333333333333,
             "#9c179e"
            ],
            [
             0.4444444444444444,
             "#bd3786"
            ],
            [
             0.5555555555555556,
             "#d8576b"
            ],
            [
             0.6666666666666666,
             "#ed7953"
            ],
            [
             0.7777777777777778,
             "#fb9f3a"
            ],
            [
             0.8888888888888888,
             "#fdca26"
            ],
            [
             1,
             "#f0f921"
            ]
           ],
           "sequentialminus": [
            [
             0,
             "#0d0887"
            ],
            [
             0.1111111111111111,
             "#46039f"
            ],
            [
             0.2222222222222222,
             "#7201a8"
            ],
            [
             0.3333333333333333,
             "#9c179e"
            ],
            [
             0.4444444444444444,
             "#bd3786"
            ],
            [
             0.5555555555555556,
             "#d8576b"
            ],
            [
             0.6666666666666666,
             "#ed7953"
            ],
            [
             0.7777777777777778,
             "#fb9f3a"
            ],
            [
             0.8888888888888888,
             "#fdca26"
            ],
            [
             1,
             "#f0f921"
            ]
           ]
          },
          "colorway": [
           "#636efa",
           "#EF553B",
           "#00cc96",
           "#ab63fa",
           "#FFA15A",
           "#19d3f3",
           "#FF6692",
           "#B6E880",
           "#FF97FF",
           "#FECB52"
          ],
          "font": {
           "color": "#2a3f5f"
          },
          "geo": {
           "bgcolor": "white",
           "lakecolor": "white",
           "landcolor": "#E5ECF6",
           "showlakes": true,
           "showland": true,
           "subunitcolor": "white"
          },
          "hoverlabel": {
           "align": "left"
          },
          "hovermode": "closest",
          "mapbox": {
           "style": "light"
          },
          "paper_bgcolor": "white",
          "plot_bgcolor": "#E5ECF6",
          "polar": {
           "angularaxis": {
            "gridcolor": "white",
            "linecolor": "white",
            "ticks": ""
           },
           "bgcolor": "#E5ECF6",
           "radialaxis": {
            "gridcolor": "white",
            "linecolor": "white",
            "ticks": ""
           }
          },
          "scene": {
           "xaxis": {
            "backgroundcolor": "#E5ECF6",
            "gridcolor": "white",
            "gridwidth": 2,
            "linecolor": "white",
            "showbackground": true,
            "ticks": "",
            "zerolinecolor": "white"
           },
           "yaxis": {
            "backgroundcolor": "#E5ECF6",
            "gridcolor": "white",
            "gridwidth": 2,
            "linecolor": "white",
            "showbackground": true,
            "ticks": "",
            "zerolinecolor": "white"
           },
           "zaxis": {
            "backgroundcolor": "#E5ECF6",
            "gridcolor": "white",
            "gridwidth": 2,
            "linecolor": "white",
            "showbackground": true,
            "ticks": "",
            "zerolinecolor": "white"
           }
          },
          "shapedefaults": {
           "line": {
            "color": "#2a3f5f"
           }
          },
          "ternary": {
           "aaxis": {
            "gridcolor": "white",
            "linecolor": "white",
            "ticks": ""
           },
           "baxis": {
            "gridcolor": "white",
            "linecolor": "white",
            "ticks": ""
           },
           "bgcolor": "#E5ECF6",
           "caxis": {
            "gridcolor": "white",
            "linecolor": "white",
            "ticks": ""
           }
          },
          "title": {
           "x": 0.05
          },
          "xaxis": {
           "automargin": true,
           "gridcolor": "white",
           "linecolor": "white",
           "ticks": "",
           "title": {
            "standoff": 15
           },
           "zerolinecolor": "white",
           "zerolinewidth": 2
          },
          "yaxis": {
           "automargin": true,
           "gridcolor": "white",
           "linecolor": "white",
           "ticks": "",
           "title": {
            "standoff": 15
           },
           "zerolinecolor": "white",
           "zerolinewidth": 2
          }
         }
        }
       }
      },
      "text/html": [
       "<div>                            <div id=\"f57d7382-353c-465f-becf-c2d90f2792e0\" class=\"plotly-graph-div\" style=\"height:525px; width:100%;\"></div>            <script type=\"text/javascript\">                require([\"plotly\"], function(Plotly) {                    window.PLOTLYENV=window.PLOTLYENV || {};                                    if (document.getElementById(\"f57d7382-353c-465f-becf-c2d90f2792e0\")) {                    Plotly.newPlot(                        \"f57d7382-353c-465f-becf-c2d90f2792e0\",                        [{\"marker\":{\"size\":5},\"mode\":\"markers\",\"name\":\"Class 1\",\"type\":\"scatter\",\"x\":[-0.33627919065373735,-0.20186436193026344,2.0155546650737723,0.661045480638333,-0.6986668142931015,0.5965530622524429,0.3053637203158147,-0.8676388010368036,1.9296885121454068,0.16790508876551224,-0.8888819380741568,-0.18651141549386974,-0.21588822644387257,0.35893728275534126,-0.5131615246927861,0.12603560968186692,0.8966424567273912,1.9179738320473916,-0.7020483083404337,-0.8679015369308284,0.887659082423539,0.0655660531851487,0.8495813685577093,-0.851804887421415,0.6446928014297774,-0.4593518378829731,1.0666140627645992,-0.6388903608881544,-0.32645218122126307,-0.07684325600225148,0.7561646188026558,-0.34222509478296836,-0.11925354639343175,2.000127163449065,-0.9152306434245094,0.8501231649502298,-0.8626830654979437,0.7919612308441234,0.3836708196295705,-0.7663894047068827,-0.7387066437081589,0.31029585747986255,-0.18866883340027388,0.45385815830095333,0.8092760735307122,-1.0203786301827042,-0.8132537956258388,1.8960410349468657,0.3815961440668496,-0.05319257367001344,2.0199252146812436,1.9577974849943225,-0.6993706946543808,0.07411143668489276,0.9068092845103871,-0.6632936088076931,0.0010201937245045145,2.052224506491266,-0.08181988996082014,1.0513798349573982,1.9194759925556868,-0.3466054751290539,1.0254025301583265,-0.042937099755724545,0.8767979486869173,0.542748895591326,2.1964157872368166,-0.8362699607077259,-0.7996238130922915,2.096469083385483,-0.8133442068917606,0.8430086896318114,-0.967913264051328,0.5088468838788228,0.9701614105516482,-0.44100356231440735,-0.07874605149293712,0.33382379302411297,0.6873199249589764,-1.0009102643876895,0.3826164676270121,1.7723791942607539,0.8195632573972393,0.640755171658989,0.8412128087050698,-0.7187578455426609,1.8758343783822684,0.5911642102346019,0.8272830835749243,1.9452480780502703,-0.5909412145561984,-0.46761852839051365,0.3916596652602836,0.9850566118074152,0.2940746376930902,0.7006320322886509,0.06634365743513176,-0.8878615639240249,0.8549090232061307,0.08613635368629728,-0.8147887207533534,0.9920907252063856,0.1398288507577255,-0.41523352599575514,0.372219407331368,-0.932043640380755,0.3801643523594255,1.0543281411824585,-0.3788935001770125,-0.8102061875038743,0.6249150404502569,-0.43523612554885094,0.5286173144448149,0.269182383818313,0.854193275535208,0.09973389965135977,-0.9702875933813605,0.31711570611622764,-0.7504434371976709,0.7649815015077723,0.039615817564196854,0.39058826242891653,0.8225967049827234,0.23924996475340113,0.28827094511875173,1.0566970718175352,1.9179123719193556,0.9473598264723424,0.7440951145063661,-0.5813405229122635,0.9962904694412175,0.8184326765354335,-0.7824684452301072,-0.2793605986446317,0.28454000230685716,0.15525211262019495,-0.47041659820249215,-0.8418362549589194,0.953724979140008,0.499730281682266,0.9409662137351715,0.5060752526647914,0.555964109056504,0.23993251956644224,0.0024002609267823882,-0.12761502908380484,2.0132187529652272,-0.9168117328147871,0.9754988071933668,0.0571918460318542,-0.1194890107644384,-0.6754719195154316,-0.5532962305058426,-1.0762491847313527,1.7892217488839055,1.8892959207618463,-0.8932414976910645,0.8951801211544995,0.41659438049709707,1.9340102249515863,2.169698729700954,2.0356428643708298,1.9285468369006782,-0.8167486379133605,1.0054283728007387,1.9253865747811747,-0.6739537952223175,-0.6833173327025059,0.4579992744497989,0.03775878844789068,1.7213750920638393,-0.053138590669970204,-0.10490326859815158,0.4694653014045257,1.020690923575861,-0.23370518526199174,0.8542862589170274,2.16708743130251,0.8154870525943573,0.8334834003926673,-0.26204358115766035,0.7785352266212465,0.8564201474843309,0.42351604686417366,-0.9688019167827725,0.2305614493474369,1.8629954555589279,-0.4951552134371216,2.0593046682390606,0.124581327282572,1.8558451185499127,0.5731000407584784,0.28116800952323384,1.949374540110659,-0.2789271548699712,2.1595101667103185,1.988381095843129,0.2925251220179237,-0.5545538110753567,0.0942351899321015,0.8312254499983411,0.9194854485685371,2.001641745033266,-0.68444653686741,0.8807489121523967,-0.19736551465547308,-0.721243832452736,0.0734867067918143,0.2044468914257219,-0.687583003836765,2.008532764391265,0.9091696664586788,-0.7582388023872075,-0.3460307830069351,0.2074104164516044,-0.13941365393499539,-0.9249690098441528,0.042773622759887,0.398367204384389,0.8985855256149725,1.0574980957467222,-0.411586418699058,0.2248038458988344,1.11036931600468,0.5790004995408927,1.063983223439776,-0.0680965974888216,0.8693463342370538,1.2194391634746455,-0.6047849397003353,2.080917539421587,0.5278142865562596,0.5643477861029227,1.883979361862842,-0.6289405115427096,-0.5182452030130564,0.21659969016681355,-0.6706043348799287,0.5546561133497645,1.8962284176203585,0.5138997947170032,0.38651957851968105,0.8157902314585268,-0.1938651599189443,0.17917598770733467,-0.16138571503202237,-0.4296107132887381,-0.870541700631953,0.9308660139954512,0.021095663842931406,-0.8096497612169522,-0.03308436579722768,-0.9496753055045809,0.8552174827019627,0.6207718468416268,-0.1591374517747068,1.0056168108847163,1.9701817161826312,1.9380667062138195,0.8242824820020576,0.02194585423142784,0.6595858629882243,1.901012439189467,2.0913379167888837,-0.6085469910455097,0.861644784247321,1.9846771909270897,2.046298390243443,0.8865424774989517,1.917033383434779,-0.6739683490666024,0.9622943565313694,-0.38144183252272834,0.5153557244270628,-0.5913280545504789,-0.594726311599799,-0.21645269262737915,-0.5547317045637594,0.6292646560070079,1.8002984114259792,-0.783565369046603,-0.6392287073360806,-0.002497553592518603,0.6722161546988511,0.7634490256247002,0.48290412495095736,-0.2920578425136545,0.9164289398464035,0.09805237870349154,1.9804916974898015,2.0901248437469753,1.9127881626580194,1.7789525804925526,-0.2707880891184231,-0.3842532254862778,-0.04264967742434471,-0.17427339276502968,-0.2609524316708132,-0.1591744899452225,1.934685482142623,0.702979939273689,0.33586804157903694,-0.47338791524977863,0.5963328412424587,0.8608962995512393,0.2286296292453292,0.634292528712197,0.42079257196296266,0.4419792732815676,-0.7357851100484338,1.9720448914334558,2.138139561665948,0.964046588459835,-0.2898982120571645,0.7099882975931009,0.967855766021338,-0.084251252004883,0.9557303965047209,0.8017064054013722,-0.8486180506436105,-0.8086499736942958,0.7196139628403166,-0.8925503889103872,-0.007755212787650803,-0.6085145712450011,-0.5678265065189813,-0.799683004998695,0.8634083407599691,1.0808404907337086,-0.15114106459408216,0.0590399885386349,-0.3712299134614705,0.9036524358365227,0.9758300289618738,-0.6109823948674462,1.8649731743547033,-0.23320285668257776,-0.7494295197029721,-0.557190914466178,0.6338153454323143,0.6767289923591613,-0.1654085169414251,-0.21641121658252196,1.9696425750294475,1.9494385400761478,0.037825431222386297,0.9564373878506884,-0.3346095100405106,0.3022259027995423,1.9999617140166979,-0.2623620902697018,-0.795636453640959,-0.6282022657797345,-0.14736404820782328,0.2763770113595708,0.12182203766745703,-0.831351338479652,2.000303572647468,1.8609124679820839,1.918962043752236,0.8011851996985991,-0.39675813063804666,2.021612067009034,-0.31973429291521427,0.7716163823988103,0.064052395111385,0.2381992650661934,-0.6200050115159338,0.1284175132685066,0.42934324766608645,-0.31245844214482793,0.5702124807179875,-0.09257814458332096,1.761997371020572,0.4619386045740359,-0.263728633961966,-0.8352211718908698,0.05899761630751065,0.0025002660184854355,-0.3711314122794858,0.5186532343182386,0.0617390641401496,0.9794708590658221,0.882874446307809,-0.7719409323123942,-0.013466973074878485,0.8549497533950963,-0.6434473176572433,2.0264855001404953,0.6860650199814342,-0.410032858944635,0.04451621263981201,-0.09836094485003498,0.929904395061907,2.1150199250003396,0.08409008989447075,0.6954333956026209,0.12168944622453819,0.6760056197102295,0.9418965276796268,-0.3775726483050954,1.961161440737956,0.5775509085902304,0.13268717430747778,-0.0625962971529575,-0.5923957563380311,-0.6135774246818506,0.8156918862859116,0.9848391216013848,-0.8533460391408756,-0.6853460564827467,0.6933561187619474,0.7084809358350491,1.836585649161275,-0.5743803299542688,-0.08462830077042455,0.5647007460797678,0.20707686275936238,-0.43326176788847376,-0.24704564419932046,-0.6306776239957522,-0.33029355849138553,0.8499939500570048,0.17121613583439096,-0.928414770357243,1.8743359034335103,0.49123174592607216,-0.6831754063420179,1.808506825842032,-0.9116263962572576,-0.6016172166037423,-0.4193252735677858,1.8531129014819905,0.11477575339096024,0.10278953440506593,-0.9308300842776523,-0.32687572334556536,1.908459290758915,-0.8939190327085775,-0.3109964753975755,0.04924452854844828,1.0879899230565684,0.9631289090337051,1.8620588728956273,0.7376578858754228,-0.8381165295429435,2.0431252237514443,0.7919875749778629,-0.5272638517241584,0.6509546854896315,1.8871778608284375,0.977194343720612,2.076730184454819,0.9373977186015032,2.0841322346296693,0.740660302115301,1.9415870006689373,0.9404663578445488,0.07827922106421491,2.0617830256007252,-0.12459548942832482,0.5904054539531463,-0.739466634098189,0.6380425231631031,0.5869797534180667,0.7593041815028219,0.7070120004161894,-0.1240801504980702,0.567289941454481,-0.051123432666792507,0.2864721582274134,0.13897916459310639,-1.0241323866394159,0.5549042041529356,1.0832619780050994,-0.6488941819599119,-0.8357915127729689,0.44291567516329966,-0.2708213064094853,0.8503954342410442,0.9454173087076261,0.5306997729476007,0.8184360682263697,2.0514940632162273,1.7525842404653638,-0.997126583321195,-0.700584732175493,1.959908646335066,1.9838480666466536,-0.5995427806955667,0.9351792762394473,0.9583245757937616,-0.9010400112908953,1.0355126349193557,-0.350660142308296,0.32768700936995043,-0.04016317223584159,0.734586109933704,1.0122495845329154,2.0442971001050556,-0.8910871264427973,-0.3018500056837781,-0.1906323575700967,-0.7114786322972874,0.0425441604605657,0.9809075748882272,-0.9949460233514558,-0.0400547993103928,-0.6609744577151037,0.3007066800247792,-0.8744298467098286,1.8311117879434176,-0.9424846875397891,0.7920689636735169,0.6902710888714656,-0.5578173089134646,0.07714734037785345,-0.09858753297919953,-1.0395389234324581,-0.8386802065409615,0.8554419351387067,-0.585000436068012,-0.3135774774330543,-0.18296185767422363,0.022821391451921462,-0.79089805000184],\"y\":[0.9822549071575699,0.9048229037751274,0.05631694080666472,0.7738495251462819,0.8922511721638468,0.5375950726948494,0.692219405156005,0.5242480909919646,0.08739232723442511,1.1146413184995962,0.45175022927263836,1.1293822962572033,1.1306890240309244,1.0165394164128152,0.9289333208596634,0.9961428991188824,0.19149737056734215,0.10321851518112199,0.5812339938589728,0.7069480687581869,0.2104152066378292,0.9035353193739566,0.3583909220452828,0.36196029174261446,0.7856773869043517,1.14261722901092,0.4548679847830043,0.8783579012255007,0.7689716538232707,0.9736166422153768,0.6595942978884547,0.8498118355899794,0.894996426600414,0.48495097581222146,0.35404897970612953,0.6004796703390658,0.6369722263174613,0.5123970912365601,0.8907933528063234,0.3928101156749578,0.6467705713527294,1.04879913929362,1.085903086884279,0.9675845148093507,0.5817418650424417,0.4540928968212434,0.4174663351098843,0.22882364225197332,1.077014290582438,1.0164909680301852,0.34689187411458833,0.1365908441775824,0.4671057566367257,0.4663233443250978,0.3210962067439637,0.6735452301262901,1.0964472490618125,0.2795607666287506,0.45767320701916286,0.2972997651471223,0.4320566469686784,0.7907253128860806,0.35480369814309526,0.4215296191523841,0.4642075829220752,0.9076905092792218,0.42198155527990316,0.3585163998055548,0.6123224794345812,0.4655942779581995,0.6547574742308572,0.49645627943096193,0.5836918951044027,0.9250473004842005,0.1015123065487504,0.9124019716073178,0.38237380554133393,1.006872637986854,0.6385034760315458,0.36368060534085667,0.8346343390442892,0.18259278189025718,0.20955205609712818,0.8265587478504105,0.6287892576713605,0.8046756278065207,0.1361049000193027,0.7621838094565843,0.5315213069250324,0.21469153049116546,0.858929460144145,0.8171471541956853,0.7718022937956595,0.4320689403148781,0.9320094889836834,0.45490677181924216,0.9248858733702299,0.572991782098502,0.3762678425606728,0.9960299841880952,0.5514177267695407,0.34304956649804075,1.0287487385579905,1.090641920554707,0.984204485646643,0.3836853734007045,1.1140047370266188,0.5858504332717828,0.8643731812263942,0.4915358838038539,0.7588692473806384,0.698034146654553,0.9191275632641515,1.004205011681552,0.5254089635141769,1.0755269483454923,0.5106583054746783,1.0313850065828136,0.7481449246049681,1.0286439460321748,0.9757441212100094,1.0185245917876566,0.19724525451439648,1.002608316578085,0.7455703306098864,0.6331327984176263,0.1911355643809437,0.3059163056488233,0.4117147894464323,0.8939998152987016,0.17674468904140672,0.46222676056263257,0.7787922354906126,0.9726414177544055,0.9385129265571125,0.8469796563572628,0.8487633877054607,0.576061749621294,0.34141552525662794,0.8664579839676668,0.49490098653855985,1.0874749605024243,0.9154426285911992,1.0753869412079091,1.0784856091029886,1.0175213430318775,0.29197247483498306,0.5071503973278404,0.2570386588428125,0.41273326839467406,0.49759728720168145,0.557965871952936,0.7967577725248147,0.6462052916372527,0.0946300884567681,0.19392237537754708,0.6781352863480687,0.3332168894068407,0.9768618277247607,0.07352396933933614,0.5879257307825388,0.26596598567760354,0.16321001447275563,0.3822405634673003,0.5209842639913571,0.3972768809170282,0.5780223220212798,0.612205137405952,1.024501332174364,1.0396859728897412,0.15173440040047456,0.5013588039881599,0.8782426409688234,1.0064447185779646,0.19590320058670402,0.8241049033511452,0.4243148841854044,0.47852793105285224,0.6097811671476104,0.6065358900538679,0.9209997471802941,0.33694434117097677,0.6650843922285694,0.9316573122990164,0.5963798004749471,0.8349804413168526,0.40408190730764093,0.9422331663277249,0.32320762368016187,1.0274453643287225,0.5207540064108276,0.8154532388887875,1.032968865223697,0.5412191797744178,0.9355513994206468,0.4689415682481403,0.04275732291758144,0.9380600086510635,0.7362116381031216,0.8734130993694545,0.49062061252170097,0.3899004095880721,0.1704418743608323,0.586737037333617,0.563526394611758,1.1169556290195044,0.6232828341038067,0.9149700616206495,1.1529855391281612,0.9350700209756714,0.47823623740210813,0.18636468954024696,0.6115260165826947,0.7361484928914401,0.9490797313566346,1.191727553371186,0.664019765884372,0.37078111329719093,0.6642842537402468,0.3365478419297466,0.1856418311566567,0.9448338682771306,1.0121690588876098,0.09196274055048789,0.7155893500252464,0.40621995395732213,1.143151885496631,0.2802755861949742,0.3766259125988167,0.6774846490778345,0.5230193006352926,0.9681315342737128,0.8782042506716959,0.3864966645134199,0.5447230121769524,0.9501412665927098,0.9579810403448553,0.6451152599699185,0.893500233426621,0.1893220684068628,0.8292614129991908,0.9125935135674815,0.5326909642849956,1.0018948820834717,0.8855518442585144,1.1322973936130578,0.8642388407090952,0.8579261600927854,0.15520154874557887,1.1147270313820667,0.4752475500534998,0.3587359290195336,0.5512026218856795,0.70334335170018,0.736686150772422,0.9487152910250946,0.08730409261778599,0.5571086009035575,0.09359395171926467,0.4105439250356825,1.0282571933946403,0.5149165622091357,0.26386194143791486,0.22379687135718102,0.9204194632774736,0.5660349265616935,0.40225343573616046,0.4708864728069976,0.4284707953753265,0.30804989999063626,0.7326173848537305,0.23098694719715263,1.1311471422944275,0.8986269361187034,0.802738324875337,0.7139255328654638,1.1199070542138023,1.117122439708915,0.8034260711525961,0.14749727624119602,0.8475673273293076,0.8179716415241942,0.8709898180595733,0.4471513213644504,0.5365287722796735,0.9454821275935075,0.9638995051420453,0.5443681421483276,0.9921660448014442,0.48989475472359145,0.25084881259471103,0.09877131668700201,0.2328339229801346,0.9749464468087005,0.9264786189364063,0.9267599755677497,0.817408156258662,0.9010221832899374,1.0466436484822301,0.17831933511895554,0.866046097395471,0.9607887888143329,0.8984375453694561,0.9442049054399886,0.3087197551691415,1.1734979133995669,0.6820203333081072,0.786070009510756,0.9005444138500985,0.7371817675548691,0.14827519891943752,0.2991610678405682,0.3124233801080995,0.8382208906558626,0.5106113069073177,0.41577433141602144,0.46264042355695184,0.1237883706359743,0.5619960227521309,0.6379371139695389,0.6258053996891731,0.722964697074906,0.5244352231245796,0.8543166913761971,0.7295799991707731,0.8696530518725815,0.43834679264283943,0.7003212258432361,0.08786293076170652,1.0201510490953887,1.0285200988568504,0.9277635549816092,0.508833748060106,0.1434221647401584,0.7857556408646011,0.21681853648198834,0.786937740647921,0.7208426598618961,0.7094392950041575,0.7836253836577559,0.773122365479913,1.0182984600316471,0.3842464242742039,0.27252789699643354,0.058946555635135275,0.44196596332431903,0.26150199388566275,0.9540853483829905,1.0722901271988001,0.2600980641950314,0.8009256015351454,0.3846078008597673,0.7192873442222788,1.0315914550627436,0.8416541764174054,0.9489362454503518,0.655941407618541,0.35857791151696455,0.10355671960800154,0.28111225157549957,0.6595799860516327,0.7955249761037808,0.07697961138318049,0.7983929918707775,0.5996756093554767,0.4049118450408541,0.8581167669295726,0.7387139461129776,0.403120795647101,0.8938613563174089,0.915542007206323,0.7851966093821181,1.1445467541154781,0.35822146052563464,0.7302017523530339,0.9765843997803004,0.5773329270165912,1.1202405489074996,0.48634179651211307,0.8437024538666288,0.8651083378250098,1.0477469510325486,0.08499349534050843,0.39754617262910885,0.6932067877004877,1.1344456773925657,0.34285661058591627,0.4139090752968093,0.26089684690791803,0.7487509905492531,0.8832130282325312,0.6168327548214411,1.114590535149756,0.19459153218874475,0.10329572792832098,1.091933201564494,0.9226539253119874,1.0449188339881457,1.0840696708049657,0.3505068584968449,0.9467273588743573,0.16544383368561813,0.8911404761019216,0.4916772453861567,1.136869207902676,0.8284887149408875,0.7001554527684575,0.7661971632897764,0.08575522510953706,0.3819080424900923,0.5465054918372831,0.7332593885385613,0.5091832458918455,0.2613148974497754,0.904592673621985,0.38260827265480346,0.7490903235360868,0.7970993436719228,0.9438738651981043,0.8147053710036689,0.9489683246396243,0.9961208977559891,0.445341889633422,0.999616762671522,0.36935130989206877,0.30568613190596206,0.8296551074622013,0.8828743160720451,0.053634187454427884,0.3554459231805674,0.7857400986998726,0.8471963125921481,0.14875179912699285,0.3899919588664757,0.9269140639981439,0.47142460212562687,0.8577656768871139,0.43645038280327964,0.43406068187663305,0.8455155806177995,0.9530154471489818,0.7160841071674584,0.3339356394032541,0.6516273843833911,0.563198745646896,0.7547112266066403,0.1775719672002988,0.40171325961490234,0.5749360516041062,0.6316959995802611,0.44666536746088137,0.13521629961702464,0.37872778046215516,0.1371782403629405,0.11525677666820411,0.8099581487368429,0.08988241233026079,0.42170202326554185,0.4379337361769818,0.15997704194787027,0.9698553991413721,0.8626907985475539,0.9413337691881298,0.46887424263007904,0.8350104932564099,0.7080342274565354,0.5685573941029896,0.5164472934101387,0.5310809588522025,1.117212944793179,0.8270845623675193,0.9409375597247863,0.4803230184529077,0.8129124609154507,0.09311445538918961,0.8096494866892436,0.44246654502726024,0.8864484345120117,0.9781618698629954,0.48425339691364677,0.132295543611898,0.8059713899719186,0.6455899804796078,0.2847547521586459,0.07945589243947074,0.8132518796359277,0.7768822534908109,0.151518877928812,0.3605230968554292,0.692591375352508,0.2602825122601336,0.11174336940867566,0.6049973066277112,0.37003300666586214,0.9455541511015251,0.7434595201812386,0.9206511096733676,0.7553609054938039,0.22841018996591,0.22146492796090844,0.6092134017521151,0.9813797580523714,1.0671183139148601,0.8230986372473956,0.4665679943350217,0.44101839003152543,0.3890363536100899,0.9581358566277044,0.8373064646626565,0.9799281024178358,0.466093577826476,0.4113344395062229,0.6872972697616939,0.7038338740600414,0.8074515749247568,0.7772082901304515,1.100494579673538,0.48073233259956044,0.6553316780600452,0.37701398517608276,0.23338003268869043,0.6888970683389506,1.1128497788287635,0.8831756763636783,1.144345004239283,0.42353437870889243]},{\"marker\":{\"size\":5},\"mode\":\"markers\",\"name\":\"Class 2\",\"type\":\"scatter\",\"x\":[0.09477562796903743,0.063939949605561,-1.018190360702087,0.016375095320807654,0.5444994702348364,0.04820552819541511,2.160173291266628,-0.8785803291126939,1.7355368886076405,1.1900020599208756,1.7483201215723283,0.4835313342111107,-1.0464217038043513,0.15577501853729372,1.5223545238683645,-1.0760314762019387,1.267358873447407,1.690451742531432,-0.07159324668616185,1.3468468374072593,1.6986800931591914,1.4316704346846416,0.11141959815989988,-0.8809220044872816,1.8561655972344848,0.8075652263773391,1.3214986788982697,0.903060060763992,-0.891402068665554,-1.0908751690195952,1.6870200680453382,1.254556442178992,1.7311410073576423,0.6398615457289004,0.9114718704649165,1.167464820943974,0.7480632962007066,0.9810913116961008,0.09384677468757846,-0.8115198044979305,1.0126320065416152,2.1106267844692113,0.9001082722907324,-1.0628475959107078,0.7544953554869867,0.38730642422045974,1.1925969011480473,0.23778849553532816,0.43208494106925943,0.6948871693961778,1.6523297825420227,0.06796749160971391,-0.9113613196207083,1.8296816519972487,0.23647333972944878,0.3085205978854415,1.9390390210174364,1.691747322736228,1.5909694245070192,0.18252729457206635,1.8389458681267206,-0.9628511991044824,1.5132903737674015,0.6615751384183183,0.9597787170402678,-0.8550442274658862,1.3169824651290534,1.7747361777754083,0.6781858356077635,-0.16411450774499592,1.839843934902518,0.1989134482812208,0.49920057910414267,0.11783193946197487,1.4267014374386449,0.09968028681659154,0.6459441873498729,-0.9147391863462793,0.7029949956012647,-0.11410780794611214,0.012137487822318375,1.257185994013502,0.17866366595383137,0.1406480901126034,0.23733599447295253,0.2656204270803237,-0.052601954507430895,0.4099329092692868,1.5355364190283434,1.396899979600678,-0.033281464569955635,-0.9850808445453236,1.3183521818723083,0.2645673433122307,0.5605667173946647,1.560845281253122,0.8772101149717857,0.33043487820009065,-0.9017476305920097,0.07334195165248802,1.276323544305656,1.541108547095788,-0.8987052898531316,1.7880580921604834,1.07267562793669,-1.0274055932773343,1.4361368001461179,0.6725177013194297,1.877234582779642,1.4758638968852897,0.840869838140646,0.20220634095958417,-0.8449418927423359,1.9188664581838808,0.8025784867127288,0.25571163330843977,0.20798293567147463,0.0889344677518929,1.4708999889279895,1.2669329199566888,1.090202399327623,0.2591940621415809,1.0676383278941566,0.3500954787935012,0.031710430834750544,1.6163029597759593,-1.0462685217615664,1.7326197168823818,1.888175422119508,1.1170384882612967,0.378621333237093,0.29081388940161557,0.6612345020362699,-1.0346007807497644,1.6996973670305158,-0.09841743293513039,1.6233257909388628,-0.03953724631044643,0.5392453407240456,1.399354360709321,1.820878316749508,0.8750717688805798,1.1940996986895875,0.9982207552407435,0.5225378637327404,1.3986007872504684,0.9710523842247565,0.8797802983140307,0.9005521840885232,0.9288485783361912,1.3272525139102187,1.3803099919836912,0.3069392403191454,1.1883179538293374,1.3409296298242488,0.4251725769033501,0.5571589600088039,0.1517832409285568,1.6343642010560124,0.9426750184941881,1.157979718481977,0.7470542814046279,1.097350423309488,0.8922424172514138,1.573365587010463,0.35340570654401077,1.1329689761151132,1.762308026965557,0.057256657336313466,1.2387026248232793,0.9971702443808963,1.8829445784607906,0.6718666959758679,1.6092861838194414,1.4431890060030117,0.14835794292502952,1.1487879047710736,0.6932396494860962,-0.8664676581136695,0.3928306427702191,0.5225098731869396,1.838834479067361,0.22132040391510338,0.6839533662020271,1.215500213998289,1.1449517471856618,0.10068401085581187,0.7050731860285049,0.917226682243733,-0.005135654328909847,1.0153364459045147,0.6347642423715206,1.5502244688530806,1.1398329608025217,0.7987910911671069,1.543637299722769,0.6177531832318391,2.1650248034341795,0.2944043514724337,-1.0236133069865612,0.746116960044143,0.11603347375525597,0.27659454328804844,0.7866040403621046,-0.9807871930034272,1.6134771196420798,1.0012844062801318,0.2950024835964539,-0.8007932645229426,1.6968924470069295,1.702423258184596,-0.014053642154476981,0.2600748459757962,0.1845538525262413,0.16472796296802278,1.1366433877534992,0.1901643576080786,0.39174689859419337,-1.0046253193308974,1.3684971593033886,-1.180544067365991,0.5099377210544365,0.7686453165545392,1.0943953907451023,0.9415417227080517,1.5079851778717261,1.5192489837071625,0.27103913050557976,0.011543082752271172,1.4201825454895807,-0.8246006923182715,1.1590277925337291,-0.7581951756306766,1.0375057283011544,-0.8321567702096728,1.8191781837251813,0.26550828037185725,1.160238525981432,0.9079981991650109,1.57995026578518,-0.8110288762243899,0.11163419782042715,0.30471954173312804,0.1258751385947271,0.9381038748871668,1.1920520699736976,0.2470066688668756,-0.01719280443128529,1.966462926805192,0.5762542813971698,0.6248879210110367,0.5272119024734762,0.10689425791012852,1.3851960487126924,-0.9521839425621148,-1.0695073602643013,0.991519003891426,0.46783805599311706,0.6143560035895185,0.29975838122801224,0.16322229786195178,-0.7292689526737042,1.0887613107320708,0.7355136716992001,0.1402269153745922,0.8832890836568095,1.9930006494053674,1.651309716719182,0.24318336722355183,-0.9034498023546976,0.3906712442105742,0.3888088857084369,0.5087484923888264,1.7978093852337538,0.9870905259096594,0.14003358563672566,1.0521631817640047,-0.9578602711127364,0.94655881889757,-1.1040016633028646,1.5745841350948773,1.6203804168607379,1.0230272140526189,1.6488936611980813,-1.0350521195375584,1.0601275558491716,2.1173551050025643,-0.2161140516668565,1.8548143416169487,-0.09599397640666968,1.6963525583933416,1.2695688176654805,-0.04982147034367636,0.2555296543023894,1.6000310106476998,1.5297254031446958,0.9663665448540857,0.614745849421296,0.8180016074266431,0.015605763123920702,1.8713397000669356,1.3253903564595486,-1.0380991494905056,0.4729368839282737,0.13755442714313226,1.7532718478730684,1.583408431290598,0.1910910539642115,0.15804254540424478,0.37825310525179034,0.9695167800661638,0.3363698012442188,0.3186500712141917,0.5445700257264955,-0.9058282351255861,0.5700219433597954,1.8172559747270238,-0.9732297156062272,-0.9749298913380535,1.292817034080452,0.10690277565810355,0.3669983132638698,1.2650210942732778,0.5819280601456926,-0.8861715737091869,0.7743123406818653,1.5556896790583532,0.2716809772358816,1.6520026206324647,1.9120746172393157,0.4865479362129849,0.31448727949611494,0.46729792559441696,1.0525639255555452,1.1462252580790155,1.6273689260057376,1.5513776131611627,1.5238294833857886,0.8505318115479831,0.8499562833570202,1.0092686838508294,1.2204636932453221,1.726619915439255,1.419765617972486,1.456486991009975,-0.9157611312496877,-1.1086652322843984,0.8567445612336809,0.21874599707945863,0.8193133250702751,0.3534566275247975,0.20653558303996733,1.1666093282630265,-0.8183566650431977,0.8455720014137138,1.622846519524403,1.4715524686345842,1.8204662079094565,0.20456413609586457,1.198350121561327,0.8799937001707098,0.5533639519825475,0.1067289034819092,0.3749587065285942,1.7914939782136574,-0.9038924629348262,0.37591193241021803,0.2084298954340238,1.5765987349344202,0.38128945303904915,0.15209199748815727,0.8083759991789612,1.101412809591312,0.1520788056241618,1.8065305520395558,0.653453873263645,1.381451046066554,-0.9250658312715272,0.19392253560523715,0.6093086924846841,0.17488085764581277,1.488994140865542,-1.0358928588612484,1.6127873550632492,1.7621876021507565,0.06908329986831424,1.2533239111630796,0.8944574745539288,0.180262609508001,0.46293676092494795,0.3035556144895747,0.45563013625102045,1.6987860255944391,0.3029268859873504,1.584481156741579,1.015672641706944,0.08799561339586497,1.6603269404953438,-0.9308306999091178,1.4230486519002155,0.06658611487294384,1.3920740936402414,1.8711869432585,1.2318412607269749,0.19452806962329477,-0.9403577672717643,1.1289321994178445,1.8429652567972388,0.3079030319312982,1.9868545470888017,1.4255161675628625,1.1460922987269817,0.46293513544803283,0.811632726332328,-1.045004449249689,0.7600506926200432,-0.06870621293276091,1.8554638804769041,0.35412450730358036,0.05019131452933265,0.819838479461812,-0.9450121217306359,1.576020898948935,0.8515524000339552,0.6005210593194417,0.3557735747899901,0.9276009705523894,1.340473649754186,-0.918859617121998,0.807846939935297,-0.7918199963121605,1.0252896295176281,1.1330598934253937,-0.053557162116059834,0.26586126066849736,0.09325173180170927,0.23812725523065878,-0.0313055707536192,0.17732059710965742,0.15094373478104628,0.16181194164960538,0.01133746195056097,0.14315976665613678,1.3583575629940166,0.49880223008974833,1.5242958389493575,0.05889234193479991,1.679541791304831,0.1236002089394033,1.6204486060258385,1.576435100897165,1.0204865338228724,0.21715582950668322,-0.7963657548939416],\"y\":[0.14923023969523552,0.013940660665675762,0.11907660557003555,0.34482198677103615,-0.5157270750854873,0.10252563309485478,-2.5169219672660503e-05,0.31224570463852824,-0.5375226309890648,-0.642232433528312,-0.08774907499480136,-0.4098000081068081,0.14933309021842642,-0.07178561639098403,-0.3040333417275684,0.16369593164453844,-0.32660906644585486,-0.24690251466106675,-0.0011128341413057102,-0.4639872127317194,-0.29411818291208447,-0.3396827899459264,0.23739845858261674,0.07181355839780051,-0.09089220756992276,-0.4771950398033283,-0.4300509128945553,-0.5255451457251874,0.16013836983422494,-0.02613692316125891,-0.2462937094347606,-0.31722099541195214,-0.28503584669068993,-0.4472119372782632,-0.5050126327139184,-0.48283588239420416,-0.2695106996878023,-0.3431414129165028,0.15393519067940165,0.3035597360181084,-0.006532613514394589,-0.19447183522043626,-0.24038109532685387,0.09171639434065751,-0.591899048865644,-0.31561399879898916,-0.5417006854411671,-0.00014453224742655424,-0.1708260928184298,-0.31299648521031354,-0.13878606600403995,0.1942138186721349,0.24038642856574294,0.04097931100041438,-0.16091110378572826,-0.3953821398406436,-0.16918865637964361,-0.28587389843885275,-0.5865857164417033,0.3374798020521677,-0.22409064739178208,0.0948042740195339,-0.30830488726764826,-0.4752372416350539,-0.5225291027182517,0.07384462921704224,-0.47457987724914785,-0.5231818729323499,-0.39911033404337437,0.2884864039246948,-0.2923333986168524,0.047838688021465334,-0.4395545585478299,0.06375725970719998,-0.33749179729078443,-0.13360979371819315,-0.16477723528282184,0.20721875808873705,-0.39996525589725873,0.21577942509828363,-0.0357521898960399,-0.6029704649992014,-0.06032219550949368,0.20738668926220724,0.10540856168543092,-0.23577903372587927,0.2441542141759305,-0.3028591810200271,-0.5186575804537786,-0.5488513852845646,0.2821120153548414,0.16473362163593158,-0.45208588743292155,-0.003961655996669387,-0.399690420334813,-0.32054146116551663,-0.5389820232211788,-0.0001428126565790333,-0.1715329846426732,0.03617490052832267,-0.4539248599082802,-0.3910758021965512,0.13350844824256947,-0.13786042746982116,-0.4398994214968719,0.01993995243595453,-0.2394967574618413,-0.60347129965143,-0.3005688828658164,-0.19267149950619789,-0.5198903219829518,0.10515249758297542,0.26920233611784494,0.00516265490710506,-0.48504422776191863,-0.16211929116974227,0.1101029594881218,0.10086670574035998,-0.23079053114944864,-0.4249058622481973,-0.37843379143091294,0.01695766405758123,-0.5114897658218159,-0.08390255131693213,0.07445204921641645,-0.025318682157969452,0.1900853915163622,-0.3738411051000727,0.013252659591216923,-0.487434786977572,-0.3521710611649506,-0.33678406186216464,-0.42073586665186447,-0.07472909268140751,-0.23873552083156052,0.31028964053316976,-0.11374731730619014,0.1524460387441986,-0.452073979417003,-0.30864119096803616,-0.3738034872002537,-0.5753388905799247,-0.3019909563265129,-0.40638919916364463,-0.30620528636869127,-0.4227592581525477,-0.41581689296395674,-0.3314709414061276,-0.03445313671531615,-0.48354839794470095,-0.4549264510677625,-0.33947595875956826,-0.11065817733690714,-0.41073386673457013,-0.3316156691586303,-0.39278610488309695,-0.333063344833272,-0.2500037352048792,-0.10908758117193597,-0.42115732546813556,-0.3933540984206957,-0.5095079123984306,0.027558723065472635,-0.5052970447339236,-0.4649452611538161,-0.13860790640233797,-0.5418611173553982,-0.07439459094414448,0.16806438440870106,-0.48830303416529836,-0.5382585369622968,-0.11598637085759331,-0.5677453051462871,-0.35121059563216234,-0.37697883083885075,0.02468793040130577,-0.6055474805105443,-0.41553048319501373,0.27159257984287233,-0.48579456868636556,-0.29210429649742287,-0.02678321473560727,-0.026675483633033445,-0.5008886661305665,-0.6127846968793487,-0.4030234489429793,0.3204287657999168,-0.4362831871572468,-0.5137316464365155,0.2990022233266702,-0.6086758396631857,-0.34861998367767016,-0.4466369989934935,0.03798009054966073,-0.5186420360097719,-0.44983539196424516,-0.5410502777224774,-0.013707084533886013,-0.45468199050280467,0.13875932447414888,-0.31759684048110015,-0.2380929011507877,-0.17717721152650223,-0.43693595068820523,-0.08530113769184072,-0.364129663508726,-0.5882870648084942,-0.11456768764348747,0.3342148992917382,-0.17649855294992436,-0.1440664970579216,0.33658412962749235,-0.31057876332962187,0.23699670748832063,0.0821050592908119,-0.3864291826487122,0.2596657401889749,-0.2854068969894665,-0.020545188968072947,-0.37174518204232293,0.054191361282280914,-0.38527502557344845,-0.5667137433259453,0.009419212227182616,-0.6577486053023981,-0.13351406376755992,-0.4558077667735271,-0.1097635560716291,0.2974941045606119,-0.4444789261330784,0.06467853835047639,-0.4782683364391595,0.16257365788165762,-0.03444916318051384,0.16843997033131197,-0.1321261240214746,-0.21562286781586937,-0.43309036610181223,-0.10835631419880658,-0.3351216721393686,0.17442747387898516,-0.03726834798573628,-0.25873878733262556,0.18961054257926302,-0.5203340919298982,-0.4148488391352502,-0.11547960177231756,0.21920310410637028,-0.273880277644967,-0.5035184810116758,-0.3797200851381378,-0.30492261421177846,0.27868590929038206,-0.5592782318066382,0.17792249708436497,0.09872994319393513,-0.010798764661605231,-0.27085147547947835,-0.6057744710665149,-0.29385175600068386,-0.01866177214896758,0.19366382613882935,-0.4442444021937063,-0.6499726555759007,-0.19662275004899615,-0.5127890088085557,0.04048741263919335,-0.22064838111058654,-0.1440851975407258,0.2882583174123693,-0.07100867470021124,-0.17332888521448284,-0.35265346382959084,-0.05826162078807487,-0.5573839144180922,-0.1749741233079894,-0.47753066137183986,0.297732014838165,-0.3998572494467904,0.06752040628375683,-0.34522530531935935,-0.1939281650147373,-0.712751326510594,-0.20329051693238892,0.19243483004664874,-0.41432661514894464,-0.08892161537899197,0.30210316063586595,-0.28333466877834146,0.260235490168624,0.036569026901648816,-0.2606192740971155,0.34323986235845144,-0.3778810459313696,-0.3045517537954221,-0.35394525065154403,-0.2983372503495333,-0.4155205254207447,-0.4034338237756841,0.10434252611832882,-0.022583379181874808,-0.29277259880379425,0.11434467622239647,-0.2522647331162464,0.20490938337806866,-0.4348383164607681,-0.19581421141053804,-0.08867220725287966,0.21569766608063812,0.1061151237770106,-0.41971974181618604,-0.09940306498554369,-0.1266612204560404,-0.4627674643813427,0.3052011530202909,-0.23472995646441946,-0.2739841984982064,-0.1532949732274595,0.26883165936389164,-0.29367350442038803,-0.12449652086946161,-0.2135467589262814,-0.45913935523256005,-0.4166035940146057,0.15141466732127878,-0.5693922065542244,-0.23970730520317424,-0.15245395258272565,-0.0934582976924608,-0.14988834653601554,-0.3347694553436417,-0.17737545012253314,-0.5193792090405124,-0.13812266667536982,-0.5111795926554249,-0.10361986017798464,-0.22385311315993198,-0.4739068937708934,-0.48589913629064585,-0.2551491760555385,-0.05232965417148534,-0.47737697012308133,-0.4032190021777816,-0.2726585538844629,-0.32145894362567706,0.31981083893223683,0.13944756215190945,-0.4642754422069754,-0.016341774073533197,-0.579537527171378,-0.37484263692158626,-0.24548608104877856,-0.08538688650956047,0.284252760381604,-0.6665990271399224,-0.42266779939519405,-0.3962350261273377,-0.24272068570615418,0.07709302053956213,-0.5031931974430363,0.03180639449125322,-0.34234611442677354,0.14847299003714443,-0.2442734945067049,-0.15444560766166307,0.16584856991975713,-0.18780788696260545,0.03492138273638279,-0.3632239678783688,-0.34619874401827067,-0.2796241296344709,-0.5129288158197658,-0.6037371539590445,0.3234463817033639,-0.058556565802096325,-0.7082747812402832,-0.35646581561064583,0.2278270968091229,-0.16137227154874947,-0.5185570588540437,-0.22076178953943898,-0.5280203932167837,0.2247987826217719,-0.27625173392056135,-0.13913310735450665,0.10578051182627818,-0.4877707503120928,-0.5353238441429066,-0.1686785483418342,-0.40975623097200076,-0.3528847812641663,-0.30014918891097314,-0.04082334459304576,0.028969281173670036,-0.3372257569524072,-0.4670953902974343,0.15331301921942833,-0.10202109120951369,0.18204960865924144,-0.4464938480083915,0.20741666494080385,-0.5582059424577119,-0.05278450005072814,-0.40092355979391264,-0.2549713204543741,0.2739980130554581,-0.6923127187069631,-0.16355836866725865,-0.12307716752856825,0.02801519739588393,-0.4122871882894019,-0.6438738504181376,-0.27463532722331835,0.1354726477168957,0.09448049159513887,-0.3476307716679946,0.06149002242898462,-0.27078703788665437,0.0008606552998645413,0.160797415291926,-0.41388438182284,0.00017490499144343086,-0.24436058123427912,0.06187760694193545,-0.5019989929860339,-0.10735066403967908,-0.4902031450807139,-0.4284837907592485,0.22957484281949514,-0.4582832973045756,-0.07678508349193197,-0.2944548164358294,-0.6235235186884918,0.2735238192263706,0.0250536947461224,0.06865631590678223,-0.2619817318430558,0.011511074169616546,-0.18879164916485155,0.15676882019532154,-0.26378319438814163,0.01159332881412399,-0.20810718867711767,-0.5100677365332522,-0.14431292246862643,-0.4528597576997119,0.34207280762207715,-0.33295994066187207,0.12946326020264237,-0.19382442729695004,-0.05702981887840519,-0.6320587906507107,0.1947169735352577,0.17309576877926314]}],                        {\"template\":{\"data\":{\"bar\":[{\"error_x\":{\"color\":\"#2a3f5f\"},\"error_y\":{\"color\":\"#2a3f5f\"},\"marker\":{\"line\":{\"color\":\"#E5ECF6\",\"width\":0.5},\"pattern\":{\"fillmode\":\"overlay\",\"size\":10,\"solidity\":0.2}},\"type\":\"bar\"}],\"barpolar\":[{\"marker\":{\"line\":{\"color\":\"#E5ECF6\",\"width\":0.5},\"pattern\":{\"fillmode\":\"overlay\",\"size\":10,\"solidity\":0.2}},\"type\":\"barpolar\"}],\"carpet\":[{\"aaxis\":{\"endlinecolor\":\"#2a3f5f\",\"gridcolor\":\"white\",\"linecolor\":\"white\",\"minorgridcolor\":\"white\",\"startlinecolor\":\"#2a3f5f\"},\"baxis\":{\"endlinecolor\":\"#2a3f5f\",\"gridcolor\":\"white\",\"linecolor\":\"white\",\"minorgridcolor\":\"white\",\"startlinecolor\":\"#2a3f5f\"},\"type\":\"carpet\"}],\"choropleth\":[{\"colorbar\":{\"outlinewidth\":0,\"ticks\":\"\"},\"type\":\"choropleth\"}],\"contour\":[{\"colorbar\":{\"outlinewidth\":0,\"ticks\":\"\"},\"colorscale\":[[0.0,\"#0d0887\"],[0.1111111111111111,\"#46039f\"],[0.2222222222222222,\"#7201a8\"],[0.3333333333333333,\"#9c179e\"],[0.4444444444444444,\"#bd3786\"],[0.5555555555555556,\"#d8576b\"],[0.6666666666666666,\"#ed7953\"],[0.7777777777777778,\"#fb9f3a\"],[0.8888888888888888,\"#fdca26\"],[1.0,\"#f0f921\"]],\"type\":\"contour\"}],\"contourcarpet\":[{\"colorbar\":{\"outlinewidth\":0,\"ticks\":\"\"},\"type\":\"contourcarpet\"}],\"heatmap\":[{\"colorbar\":{\"outlinewidth\":0,\"ticks\":\"\"},\"colorscale\":[[0.0,\"#0d0887\"],[0.1111111111111111,\"#46039f\"],[0.2222222222222222,\"#7201a8\"],[0.3333333333333333,\"#9c179e\"],[0.4444444444444444,\"#bd3786\"],[0.5555555555555556,\"#d8576b\"],[0.6666666666666666,\"#ed7953\"],[0.7777777777777778,\"#fb9f3a\"],[0.8888888888888888,\"#fdca26\"],[1.0,\"#f0f921\"]],\"type\":\"heatmap\"}],\"heatmapgl\":[{\"colorbar\":{\"outlinewidth\":0,\"ticks\":\"\"},\"colorscale\":[[0.0,\"#0d0887\"],[0.1111111111111111,\"#46039f\"],[0.2222222222222222,\"#7201a8\"],[0.3333333333333333,\"#9c179e\"],[0.4444444444444444,\"#bd3786\"],[0.5555555555555556,\"#d8576b\"],[0.6666666666666666,\"#ed7953\"],[0.7777777777777778,\"#fb9f3a\"],[0.8888888888888888,\"#fdca26\"],[1.0,\"#f0f921\"]],\"type\":\"heatmapgl\"}],\"histogram\":[{\"marker\":{\"pattern\":{\"fillmode\":\"overlay\",\"size\":10,\"solidity\":0.2}},\"type\":\"histogram\"}],\"histogram2d\":[{\"colorbar\":{\"outlinewidth\":0,\"ticks\":\"\"},\"colorscale\":[[0.0,\"#0d0887\"],[0.1111111111111111,\"#46039f\"],[0.2222222222222222,\"#7201a8\"],[0.3333333333333333,\"#9c179e\"],[0.4444444444444444,\"#bd3786\"],[0.5555555555555556,\"#d8576b\"],[0.6666666666666666,\"#ed7953\"],[0.7777777777777778,\"#fb9f3a\"],[0.8888888888888888,\"#fdca26\"],[1.0,\"#f0f921\"]],\"type\":\"histogram2d\"}],\"histogram2dcontour\":[{\"colorbar\":{\"outlinewidth\":0,\"ticks\":\"\"},\"colorscale\":[[0.0,\"#0d0887\"],[0.1111111111111111,\"#46039f\"],[0.2222222222222222,\"#7201a8\"],[0.3333333333333333,\"#9c179e\"],[0.4444444444444444,\"#bd3786\"],[0.5555555555555556,\"#d8576b\"],[0.6666666666666666,\"#ed7953\"],[0.7777777777777778,\"#fb9f3a\"],[0.8888888888888888,\"#fdca26\"],[1.0,\"#f0f921\"]],\"type\":\"histogram2dcontour\"}],\"mesh3d\":[{\"colorbar\":{\"outlinewidth\":0,\"ticks\":\"\"},\"type\":\"mesh3d\"}],\"parcoords\":[{\"line\":{\"colorbar\":{\"outlinewidth\":0,\"ticks\":\"\"}},\"type\":\"parcoords\"}],\"pie\":[{\"automargin\":true,\"type\":\"pie\"}],\"scatter\":[{\"marker\":{\"colorbar\":{\"outlinewidth\":0,\"ticks\":\"\"}},\"type\":\"scatter\"}],\"scatter3d\":[{\"line\":{\"colorbar\":{\"outlinewidth\":0,\"ticks\":\"\"}},\"marker\":{\"colorbar\":{\"outlinewidth\":0,\"ticks\":\"\"}},\"type\":\"scatter3d\"}],\"scattercarpet\":[{\"marker\":{\"colorbar\":{\"outlinewidth\":0,\"ticks\":\"\"}},\"type\":\"scattercarpet\"}],\"scattergeo\":[{\"marker\":{\"colorbar\":{\"outlinewidth\":0,\"ticks\":\"\"}},\"type\":\"scattergeo\"}],\"scattergl\":[{\"marker\":{\"colorbar\":{\"outlinewidth\":0,\"ticks\":\"\"}},\"type\":\"scattergl\"}],\"scattermapbox\":[{\"marker\":{\"colorbar\":{\"outlinewidth\":0,\"ticks\":\"\"}},\"type\":\"scattermapbox\"}],\"scatterpolar\":[{\"marker\":{\"colorbar\":{\"outlinewidth\":0,\"ticks\":\"\"}},\"type\":\"scatterpolar\"}],\"scatterpolargl\":[{\"marker\":{\"colorbar\":{\"outlinewidth\":0,\"ticks\":\"\"}},\"type\":\"scatterpolargl\"}],\"scatterternary\":[{\"marker\":{\"colorbar\":{\"outlinewidth\":0,\"ticks\":\"\"}},\"type\":\"scatterternary\"}],\"surface\":[{\"colorbar\":{\"outlinewidth\":0,\"ticks\":\"\"},\"colorscale\":[[0.0,\"#0d0887\"],[0.1111111111111111,\"#46039f\"],[0.2222222222222222,\"#7201a8\"],[0.3333333333333333,\"#9c179e\"],[0.4444444444444444,\"#bd3786\"],[0.5555555555555556,\"#d8576b\"],[0.6666666666666666,\"#ed7953\"],[0.7777777777777778,\"#fb9f3a\"],[0.8888888888888888,\"#fdca26\"],[1.0,\"#f0f921\"]],\"type\":\"surface\"}],\"table\":[{\"cells\":{\"fill\":{\"color\":\"#EBF0F8\"},\"line\":{\"color\":\"white\"}},\"header\":{\"fill\":{\"color\":\"#C8D4E3\"},\"line\":{\"color\":\"white\"}},\"type\":\"table\"}]},\"layout\":{\"annotationdefaults\":{\"arrowcolor\":\"#2a3f5f\",\"arrowhead\":0,\"arrowwidth\":1},\"autotypenumbers\":\"strict\",\"coloraxis\":{\"colorbar\":{\"outlinewidth\":0,\"ticks\":\"\"}},\"colorscale\":{\"diverging\":[[0,\"#8e0152\"],[0.1,\"#c51b7d\"],[0.2,\"#de77ae\"],[0.3,\"#f1b6da\"],[0.4,\"#fde0ef\"],[0.5,\"#f7f7f7\"],[0.6,\"#e6f5d0\"],[0.7,\"#b8e186\"],[0.8,\"#7fbc41\"],[0.9,\"#4d9221\"],[1,\"#276419\"]],\"sequential\":[[0.0,\"#0d0887\"],[0.1111111111111111,\"#46039f\"],[0.2222222222222222,\"#7201a8\"],[0.3333333333333333,\"#9c179e\"],[0.4444444444444444,\"#bd3786\"],[0.5555555555555556,\"#d8576b\"],[0.6666666666666666,\"#ed7953\"],[0.7777777777777778,\"#fb9f3a\"],[0.8888888888888888,\"#fdca26\"],[1.0,\"#f0f921\"]],\"sequentialminus\":[[0.0,\"#0d0887\"],[0.1111111111111111,\"#46039f\"],[0.2222222222222222,\"#7201a8\"],[0.3333333333333333,\"#9c179e\"],[0.4444444444444444,\"#bd3786\"],[0.5555555555555556,\"#d8576b\"],[0.6666666666666666,\"#ed7953\"],[0.7777777777777778,\"#fb9f3a\"],[0.8888888888888888,\"#fdca26\"],[1.0,\"#f0f921\"]]},\"colorway\":[\"#636efa\",\"#EF553B\",\"#00cc96\",\"#ab63fa\",\"#FFA15A\",\"#19d3f3\",\"#FF6692\",\"#B6E880\",\"#FF97FF\",\"#FECB52\"],\"font\":{\"color\":\"#2a3f5f\"},\"geo\":{\"bgcolor\":\"white\",\"lakecolor\":\"white\",\"landcolor\":\"#E5ECF6\",\"showlakes\":true,\"showland\":true,\"subunitcolor\":\"white\"},\"hoverlabel\":{\"align\":\"left\"},\"hovermode\":\"closest\",\"mapbox\":{\"style\":\"light\"},\"paper_bgcolor\":\"white\",\"plot_bgcolor\":\"#E5ECF6\",\"polar\":{\"angularaxis\":{\"gridcolor\":\"white\",\"linecolor\":\"white\",\"ticks\":\"\"},\"bgcolor\":\"#E5ECF6\",\"radialaxis\":{\"gridcolor\":\"white\",\"linecolor\":\"white\",\"ticks\":\"\"}},\"scene\":{\"xaxis\":{\"backgroundcolor\":\"#E5ECF6\",\"gridcolor\":\"white\",\"gridwidth\":2,\"linecolor\":\"white\",\"showbackground\":true,\"ticks\":\"\",\"zerolinecolor\":\"white\"},\"yaxis\":{\"backgroundcolor\":\"#E5ECF6\",\"gridcolor\":\"white\",\"gridwidth\":2,\"linecolor\":\"white\",\"showbackground\":true,\"ticks\":\"\",\"zerolinecolor\":\"white\"},\"zaxis\":{\"backgroundcolor\":\"#E5ECF6\",\"gridcolor\":\"white\",\"gridwidth\":2,\"linecolor\":\"white\",\"showbackground\":true,\"ticks\":\"\",\"zerolinecolor\":\"white\"}},\"shapedefaults\":{\"line\":{\"color\":\"#2a3f5f\"}},\"ternary\":{\"aaxis\":{\"gridcolor\":\"white\",\"linecolor\":\"white\",\"ticks\":\"\"},\"baxis\":{\"gridcolor\":\"white\",\"linecolor\":\"white\",\"ticks\":\"\"},\"bgcolor\":\"#E5ECF6\",\"caxis\":{\"gridcolor\":\"white\",\"linecolor\":\"white\",\"ticks\":\"\"}},\"title\":{\"x\":0.05},\"xaxis\":{\"automargin\":true,\"gridcolor\":\"white\",\"linecolor\":\"white\",\"ticks\":\"\",\"title\":{\"standoff\":15},\"zerolinecolor\":\"white\",\"zerolinewidth\":2},\"yaxis\":{\"automargin\":true,\"gridcolor\":\"white\",\"linecolor\":\"white\",\"ticks\":\"\",\"title\":{\"standoff\":15},\"zerolinecolor\":\"white\",\"zerolinewidth\":2}}}},                        {\"responsive\": true}                    ).then(function(){\n",
       "                            \n",
       "var gd = document.getElementById('f57d7382-353c-465f-becf-c2d90f2792e0');\n",
       "var x = new MutationObserver(function (mutations, observer) {{\n",
       "        var display = window.getComputedStyle(gd).display;\n",
       "        if (!display || display === 'none') {{\n",
       "            console.log([gd, 'removed!']);\n",
       "            Plotly.purge(gd);\n",
       "            observer.disconnect();\n",
       "        }}\n",
       "}});\n",
       "\n",
       "// Listen for the removal of the full notebook cells\n",
       "var notebookContainer = gd.closest('#notebook-container');\n",
       "if (notebookContainer) {{\n",
       "    x.observe(notebookContainer, {childList: true});\n",
       "}}\n",
       "\n",
       "// Listen for the clearing of the current output cell\n",
       "var outputEl = gd.closest('.output');\n",
       "if (outputEl) {{\n",
       "    x.observe(outputEl, {childList: true});\n",
       "}}\n",
       "\n",
       "                        })                };                });            </script>        </div>"
      ]
     },
     "metadata": {},
     "output_type": "display_data"
    }
   ],
   "source": [
    "plot_2d(X_test, preds)"
   ]
  }
 ],
 "metadata": {
  "kernelspec": {
   "display_name": "Python 3",
   "language": "python",
   "name": "python3"
  },
  "language_info": {
   "codemirror_mode": {
    "name": "ipython",
    "version": 3
   },
   "file_extension": ".py",
   "mimetype": "text/x-python",
   "name": "python",
   "nbconvert_exporter": "python",
   "pygments_lexer": "ipython3",
   "version": "3.6.8"
  }
 },
 "nbformat": 4,
 "nbformat_minor": 4
}
