{
 "cells": [
  {
   "cell_type": "code",
   "execution_count": 1,
   "metadata": {},
   "outputs": [],
   "source": [
    "import numpy as np\n",
    "import pandas as pd\n",
    "import matplotlib.pyplot as plt\n",
    "import pickle as pkl\n",
    "import os\n",
    "from SamBA.samba import NeighborHoodClassifier\n",
    "from sklearn.tree import DecisionTreeClassifier\n",
    "from sklearn.model_selection import train_test_split\n",
    "from sklearn.metrics import accuracy_score\n",
    "from random_scm.random_scm_classifier import RandomScmClassifier\n",
    "from summit.multiview_platform.monoview_classifiers.scm import SCM\n",
    "from sklearn.ensemble import RandomForestClassifier\n",
    "\n",
    "rs = np.random.RandomState(42)\n",
    "\n",
    "splits = 100\n",
    "\n",
    "def best_feats(importances, limit=5):\n",
    "    best_inds = np.argsort(-importances)\n",
    "    return dict((str(ind), np.round(importances[ind], 2)) for ind in best_inds[:limit])\n",
    "\n",
    "def benchmark(X, y, n_splits=10, train_size=0.6):\n",
    "    neigh_clf = NeighborHoodClassifier(\n",
    "                     base_estimator=DecisionTreeClassifier(max_depth=1,\n",
    "                                                           splitter='best',\n",
    "                                                           criterion='gini'),\n",
    "                     n_estimators=10,\n",
    "                    vote_compensate=False)\n",
    "    rscm_clf = RandomScmClassifier(n_estimators=10, max_rules=10,\n",
    "                     p_options=[1.0],\n",
    "                     model_type=\"conjunction\",\n",
    "                     random_state=rs)\n",
    "    scm_clf = SCM(\n",
    "                random_state=rs,\n",
    "                model_type=\"conjunction\",\n",
    "                max_rules=10,\n",
    "                p=1.0)\n",
    "    rf_clf = RandomForestClassifier(n_estimators=10, random_state=rs, max_depth=3)\n",
    "\n",
    "    accuracies = np.zeros((n_splits, 4))\n",
    "    n_feats = np.zeros((n_splits, 4))\n",
    "    feature_importances = np.zeros((X.shape[1], n_splits, 4))\n",
    "    for i in range(n_splits):\n",
    "        X_train, X_test, y_train, y_test = train_test_split(X, y, shuffle=True, \n",
    "                                                            random_state=rs, train_size=train_size, stratify=y)\n",
    "        neigh_clf.fit(X_train, y_train)\n",
    "        neigh_clf_preds = neigh_clf.predict(X_test)\n",
    "        accuracies[i, 0] = accuracy_score(neigh_clf_preds, y_test)\n",
    "        feature_importances[:, i, 0] = neigh_clf.feature_importances_\n",
    "        n_feats[i, 0]= len(np.where(neigh_clf.feature_importances_!=0)[0])\n",
    "        \n",
    "        try:\n",
    "            rscm_clf.fit(X_train, y_train)\n",
    "            rscm_clf_preds = rscm_clf.predict(X_test)\n",
    "            accuracies[i, 1] = accuracy_score(rscm_clf_preds, y_test)\n",
    "            feature_importances[:, i, 1] = rscm_clf.feature_importances_\n",
    "            n_feats[i, 1]= len(np.where(rscm_clf.feature_importances_!=0)[0])\n",
    "        except ValueError:\n",
    "            accuracies[i, 1] = 0\n",
    "            n_feats[i, 1] = 0\n",
    "            feature_importances[:, i, 1] = np.zeros(X.shape[1])\n",
    "            \n",
    "        scm_clf.fit(X_train, y_train)\n",
    "        scm_clf_preds = scm_clf.predict(X_test)\n",
    "        accuracies[i, 2] = accuracy_score(scm_clf_preds, y_test)\n",
    "        feature_importances[:, i, 2] = scm_clf.feature_importances_\n",
    "        n_feats[i, 2]= len(np.where(scm_clf.feature_importances_!=0)[0])\n",
    "        \n",
    "        rf_clf.fit(X_train, y_train)\n",
    "        rf_clf_preds = rf_clf.predict(X_test)\n",
    "        accuracies[i, 3] = accuracy_score(rf_clf_preds, y_test)        \n",
    "        feature_importances[:, i, 3] = rf_clf.feature_importances_       \n",
    "        n_feats[i, 3]= len(np.where(rf_clf.feature_importances_!=0)[0])\n",
    "\n",
    "    mean_accs = np.round(np.mean(accuracies, axis=0), 2)\n",
    "    stds_accs = np.round(np.std(accuracies, axis=0), 2)\n",
    "    mean_n_feats = np.round(np.mean(n_feats, axis=0), 2)\n",
    "    mean_feature_importances = np.round(np.mean(feature_importances, axis=1),2)\n",
    "    \n",
    "    print(\"NeighborHoodClassifier has a mean accuracy of \\n\\t{} +/-{}, relying on \\n\\t{} features \\n\\t {} \".format(mean_accs[0], stds_accs[0], mean_n_feats[0], best_feats(mean_feature_importances[:,0])))\n",
    "    print(\"RandomSCM has a mean accuracy of \\n\\t{} +/-{}, relying on \\n\\t{} features \\n\\t {} \".format(mean_accs[1], stds_accs[1], mean_n_feats[1], best_feats(mean_feature_importances[:,1])))\n",
    "    print(\"VanillaSCM has a mean accuracy of \\n\\t{} +/-{}, relying on \\n\\t{} features \\n\\t {} \".format(mean_accs[2], stds_accs[2], mean_n_feats[2], best_feats(mean_feature_importances[:,2])))\n",
    "    print(\"RandomForest has a mean accuracy of \\n\\t{} +/-{}, relying on \\n\\t{} features \\n\\t {} \".format(mean_accs[3], stds_accs[3], mean_n_feats[3], best_feats(mean_feature_importances[:,3])))\n",
    "    \n",
    "    return accuracies, n_feats"
   ]
  },
  {
   "cell_type": "markdown",
   "metadata": {},
   "source": [
    "# Biological experiments with Neighborhood classifier\n",
    "\n",
    "## Recover dataset\n",
    "\n",
    "Task : predict the persitency of covid symptoms with proteomics, and metabolomics.\n",
    "To extract the data, we use a script, slightly modified. \n",
    "\n",
    "First, let's extract the metadata that will provide the classification labels :"
   ]
  },
  {
   "cell_type": "code",
   "execution_count": 2,
   "metadata": {},
   "outputs": [
    {
     "name": "stdout",
     "output_type": "stream",
     "text": [
      "labels metadata : ['S', 'S', 'S', 'S', 'S', 'S', 'S', 'S', 'S', 'S', 'S', 'S', 'S', 'S', 'S', 'S', 'S', 'S', 'S', 'S', 'S', 'S', 'S', 'S', 'S', 'S', 'S', 'S', 'S', 'S', 'S', 'S', 'S', 'S', 'S', 'S', 'S', 'S', 'S', 'S', 'S', 'S', 'S', 'S', 'S', 'S', 'S', 'S', 'S', 'S', 'NS', 'NS', 'NS', 'NS', 'NS', 'NS', 'NS', 'NS', 'NS', 'NS', 'NS', 'NS', 'NS', 'NS', 'NS', 'NS', 'NS', 'NS', 'NS', 'NS', 'NS', 'NS', 'NS', 'NS', 'NS', 'NS', 'NS', 'NS', 'NS', 'NS', 'NS', 'NS', 'NS', 'NS', 'NS', 'NS', 'NS', 'NS', 'NS', 'NS', 'NS', 'NS', 'NS', 'NS', 'NS', 'NS', 'NS', 'NS', 'NS', 'NS']\n"
     ]
    }
   ],
   "source": [
    "data_path = '/home/baptiste/Documents/Datasets/recover'\n",
    "\n",
    "metadata_filename = os.path.join(data_path, 'metadata.csv')\n",
    "meta_df = pd.read_csv(metadata_filename)\n",
    "meta_df.columns = ['#', 'plate', '-', 'symptoms'] + list(meta_df)[4:]\n",
    "print('labels metadata :', meta_df['symptoms'].to_list())\n",
    "meta_idx = meta_df['ID'].to_list()\n",
    "meta_label = meta_df['symptoms'].to_list()\n",
    "meta_id_label_dict = {str(k): 1 if v=='S' else 0 for k, v in zip(meta_idx, meta_label)}"
   ]
  },
  {
   "cell_type": "markdown",
   "metadata": {},
   "source": [
    "Then, we extract the first proteomic features"
   ]
  },
  {
   "cell_type": "code",
   "execution_count": 3,
   "metadata": {},
   "outputs": [
    {
     "name": "stdout",
     "output_type": "stream",
     "text": [
      "proteomics data :\n",
      "# of samples :  100\n",
      "# of features :  184\n",
      "labels: [1, 0]\n"
     ]
    }
   ],
   "source": [
    "proteomics_data_filename = os.path.join(data_path, 'proteomics.csv')\n",
    "\n",
    "dim_df = pd.read_csv(proteomics_data_filename, nrows=1)\n",
    "dim = len(list(dim_df))\n",
    "all_cols = [i for i in range(dim)]\n",
    "feat_cols = all_cols[1:-4]\n",
    "samplesidx_col = [0]\n",
    "\n",
    "feat_df = pd.read_csv(proteomics_data_filename, skiprows=4, nrows=1, dtype=str, usecols=feat_cols)\n",
    "features = list(feat_df)\n",
    "\n",
    "idx_df = pd.read_csv(proteomics_data_filename, skiprows=6, index_col=0, skipfooter=4, usecols=[0], engine='python')\n",
    "idx = list(idx_df.index.values)\n",
    "\n",
    "df1 = pd.read_csv(proteomics_data_filename, skiprows=6, dtype=np.float32, skipfooter=4, usecols=feat_cols, engine='python')\n",
    "assert df1.shape[0] == len(idx)\n",
    "assert df1.shape[1] == len(features)\n",
    "\n",
    "df1['idx'] = idx\n",
    "df1.set_index('idx', inplace=True)\n",
    "df1.columns = features\n",
    "\n",
    "#clean data of samples that are not in metadata :\n",
    "idx = df1.index.values\n",
    "y = []\n",
    "for k in range(len(idx)):\n",
    "    id = idx[k]\n",
    "    if id in meta_id_label_dict:\n",
    "        y.append(meta_id_label_dict[id])\n",
    "    else:\n",
    "        # we will not put this sample in the dataset\n",
    "        #print('sample to remove because of unknown label:', k, id)\n",
    "        y.append('to_remove')\n",
    "df1['label'] = y\n",
    "df1 = df1[df1.label != 'to_remove']\n",
    "\n",
    "#create X and y matrices for ML :\n",
    "y = list(df1['label'])\n",
    "del df1['label']\n",
    "X = df1.to_numpy()\n",
    "print('proteomics data :')\n",
    "print('# of samples : ', df1.shape[0])\n",
    "print('# of features : ', df1.shape[1])\n",
    "print('labels:', list(dict.fromkeys(y)))"
   ]
  },
  {
   "cell_type": "markdown",
   "metadata": {},
   "source": [
    "Let's run the neighborhood classifier on this data with several train/test splits : "
   ]
  },
  {
   "cell_type": "code",
   "execution_count": 4,
   "metadata": {},
   "outputs": [
    {
     "name": "stdout",
     "output_type": "stream",
     "text": [
      "NeighborHoodClassifier has a mean accuracy of \n",
      "\t0.5 +/-0.06, relying on \n",
      "\t2.18 features \n",
      "\t {'86': 0.06, '122': 0.06, '84': 0.06, '39': 0.05, '37': 0.04} \n",
      "RandomSCM has a mean accuracy of \n",
      "\t0.52 +/-0.06, relying on \n",
      "\t21.53 features \n",
      "\t {'86': 0.04, '37': 0.03, '39': 0.03, '67': 0.03, '53': 0.02} \n",
      "VanillaSCM has a mean accuracy of \n",
      "\t0.51 +/-0.07, relying on \n",
      "\t3.51 features \n",
      "\t {'86': 0.06, '5': 0.05, '0': 0.04, '17': 0.03, '37': 0.03} \n",
      "RandomForest has a mean accuracy of \n",
      "\t0.53 +/-0.07, relying on \n",
      "\t43.16 features \n",
      "\t {'67': 0.02, '37': 0.02, '39': 0.02, '0': 0.01, '108': 0.01} \n"
     ]
    }
   ],
   "source": [
    "accuracies_prot_1, n_feats_prot_1 = benchmark(X, y, n_splits=splits)"
   ]
  },
  {
   "cell_type": "markdown",
   "metadata": {},
   "source": [
    "Let's chek the second proteomic group of features "
   ]
  },
  {
   "cell_type": "code",
   "execution_count": 5,
   "metadata": {},
   "outputs": [
    {
     "name": "stdout",
     "output_type": "stream",
     "text": [
      "\n",
      "PROTEOMICS CYTOKINES DATA :\n",
      "# of samples :  100\n",
      "# of features :  45\n"
     ]
    }
   ],
   "source": [
    "print('\\nPROTEOMICS CYTOKINES DATA :')\n",
    "proteomics_cyt_data_filename = os.path.join(data_path, 'proteomics_cyt.csv')\n",
    "\n",
    "dim_df = pd.read_csv(proteomics_cyt_data_filename, nrows=1)\n",
    "dim = len(list(dim_df))\n",
    "all_cols = [i for i in range(dim)]\n",
    "feat_cols = all_cols[1:-2]\n",
    "samplesidx_col = [0]\n",
    "\n",
    "feat_df = pd.read_csv(proteomics_cyt_data_filename, skiprows=4, nrows=1, dtype=str, usecols=feat_cols)\n",
    "features = list(feat_df)\n",
    "\n",
    "idx_df = pd.read_csv(proteomics_cyt_data_filename, skiprows=7, index_col=0, skipfooter=14, usecols=[0], engine='python')\n",
    "idx = list(idx_df.index.values)\n",
    "\n",
    "df2 = pd.read_csv(proteomics_cyt_data_filename, skiprows=7, dtype=np.float32, skipfooter=14, usecols=feat_cols, na_values=['> ULOQ'], engine='python')\n",
    "assert df2.shape[0] == len(idx)\n",
    "assert df2.shape[1] == len(features)\n",
    "\n",
    "df2['idx'] = idx\n",
    "df2.set_index('idx', inplace=True)\n",
    "df2.columns = features\n",
    "\n",
    "#clean data of samples that are not in metadata :\n",
    "idx = df2.index.values\n",
    "y = []\n",
    "for k in range(len(idx)):\n",
    "    id = idx[k]\n",
    "    if id in meta_id_label_dict:\n",
    "        y.append(meta_id_label_dict[id])\n",
    "    else:\n",
    "        # we will not put this sample in the dataset\n",
    "        #print('sample to remove because of unknown label:', k, id)\n",
    "        y.append('to_remove')\n",
    "df2['label'] = y\n",
    "df2 = df2[df2.label != 'to_remove']\n",
    "\n",
    "for col in list(df2):\n",
    "   df2[col].fillna(int(df2[col].mean()), inplace=True)\n",
    "\n",
    "\n",
    "#create X and y matrices for ML :\n",
    "y = list(df2['label'])\n",
    "del df2['label']\n",
    "X = df2.to_numpy()\n",
    "print('# of samples : ', df2.shape[0])\n",
    "print('# of features : ', df2.shape[1])\n"
   ]
  },
  {
   "cell_type": "code",
   "execution_count": 6,
   "metadata": {},
   "outputs": [
    {
     "name": "stderr",
     "output_type": "stream",
     "text": [
      "/home/baptiste/Documents/venvs/develop/lib/python3.6/site-packages/samba-0.0.dev0-py3.6.egg/SamBA/distances.py:35: RuntimeWarning:\n",
      "\n",
      "overflow encountered in exp\n",
      "\n",
      "/home/baptiste/Documents/venvs/develop/lib/python3.6/site-packages/samba-0.0.dev0-py3.6.egg/SamBA/samba.py:164: RuntimeWarning:\n",
      "\n",
      "divide by zero encountered in true_divide\n",
      "\n",
      "/home/baptiste/Documents/venvs/develop/lib/python3.6/site-packages/numpy/core/fromnumeric.py:90: RuntimeWarning:\n",
      "\n",
      "invalid value encountered in reduce\n",
      "\n"
     ]
    },
    {
     "ename": "ValueError",
     "evalue": "Input contains NaN, infinity or a value too large for dtype('float64').",
     "output_type": "error",
     "traceback": [
      "\u001b[0;31m---------------------------------------------------------------------------\u001b[0m",
      "\u001b[0;31mValueError\u001b[0m                                Traceback (most recent call last)",
      "\u001b[0;32m<ipython-input-6-f80ddb566e65>\u001b[0m in \u001b[0;36m<module>\u001b[0;34m\u001b[0m\n\u001b[0;32m----> 1\u001b[0;31m \u001b[0maccuracies_prot_2\u001b[0m\u001b[0;34m,\u001b[0m \u001b[0mn_feats_prot_2\u001b[0m \u001b[0;34m=\u001b[0m \u001b[0mbenchmark\u001b[0m\u001b[0;34m(\u001b[0m\u001b[0mX\u001b[0m\u001b[0;34m,\u001b[0m \u001b[0my\u001b[0m\u001b[0;34m,\u001b[0m \u001b[0mn_splits\u001b[0m\u001b[0;34m=\u001b[0m\u001b[0msplits\u001b[0m\u001b[0;34m)\u001b[0m\u001b[0;34m\u001b[0m\u001b[0;34m\u001b[0m\u001b[0m\n\u001b[0m",
      "\u001b[0;32m<ipython-input-1-b568532f89e4>\u001b[0m in \u001b[0;36mbenchmark\u001b[0;34m(X, y, n_splits, train_size)\u001b[0m\n\u001b[1;32m     45\u001b[0m                                                             random_state=rs, train_size=train_size, stratify=y)\n\u001b[1;32m     46\u001b[0m         \u001b[0mneigh_clf\u001b[0m\u001b[0;34m.\u001b[0m\u001b[0mfit\u001b[0m\u001b[0;34m(\u001b[0m\u001b[0mX_train\u001b[0m\u001b[0;34m,\u001b[0m \u001b[0my_train\u001b[0m\u001b[0;34m)\u001b[0m\u001b[0;34m\u001b[0m\u001b[0;34m\u001b[0m\u001b[0m\n\u001b[0;32m---> 47\u001b[0;31m         \u001b[0mneigh_clf_preds\u001b[0m \u001b[0;34m=\u001b[0m \u001b[0mneigh_clf\u001b[0m\u001b[0;34m.\u001b[0m\u001b[0mpredict\u001b[0m\u001b[0;34m(\u001b[0m\u001b[0mX_test\u001b[0m\u001b[0;34m)\u001b[0m\u001b[0;34m\u001b[0m\u001b[0;34m\u001b[0m\u001b[0m\n\u001b[0m\u001b[1;32m     48\u001b[0m         \u001b[0maccuracies\u001b[0m\u001b[0;34m[\u001b[0m\u001b[0mi\u001b[0m\u001b[0;34m,\u001b[0m \u001b[0;36m0\u001b[0m\u001b[0;34m]\u001b[0m \u001b[0;34m=\u001b[0m \u001b[0maccuracy_score\u001b[0m\u001b[0;34m(\u001b[0m\u001b[0mneigh_clf_preds\u001b[0m\u001b[0;34m,\u001b[0m \u001b[0my_test\u001b[0m\u001b[0;34m)\u001b[0m\u001b[0;34m\u001b[0m\u001b[0;34m\u001b[0m\u001b[0m\n\u001b[1;32m     49\u001b[0m         \u001b[0mfeature_importances\u001b[0m\u001b[0;34m[\u001b[0m\u001b[0;34m:\u001b[0m\u001b[0;34m,\u001b[0m \u001b[0mi\u001b[0m\u001b[0;34m,\u001b[0m \u001b[0;36m0\u001b[0m\u001b[0;34m]\u001b[0m \u001b[0;34m=\u001b[0m \u001b[0mneigh_clf\u001b[0m\u001b[0;34m.\u001b[0m\u001b[0mfeature_importances_\u001b[0m\u001b[0;34m\u001b[0m\u001b[0;34m\u001b[0m\u001b[0m\n",
      "\u001b[0;32m~/Documents/venvs/develop/lib/python3.6/site-packages/samba-0.0.dev0-py3.6.egg/SamBA/samba.py\u001b[0m in \u001b[0;36mpredict\u001b[0;34m(self, X)\u001b[0m\n\u001b[1;32m    112\u001b[0m     \u001b[0;32mdef\u001b[0m \u001b[0mpredict\u001b[0m\u001b[0;34m(\u001b[0m\u001b[0mself\u001b[0m\u001b[0;34m,\u001b[0m \u001b[0mX\u001b[0m\u001b[0;34m)\u001b[0m\u001b[0;34m:\u001b[0m\u001b[0;34m\u001b[0m\u001b[0;34m\u001b[0m\u001b[0m\n\u001b[1;32m    113\u001b[0m         \u001b[0mvote\u001b[0m \u001b[0;34m=\u001b[0m \u001b[0mself\u001b[0m\u001b[0;34m.\u001b[0m\u001b[0m_predict_vote\u001b[0m\u001b[0;34m(\u001b[0m\u001b[0mX\u001b[0m\u001b[0;34m)\u001b[0m\u001b[0;34m\u001b[0m\u001b[0;34m\u001b[0m\u001b[0m\n\u001b[0;32m--> 114\u001b[0;31m         \u001b[0;32mreturn\u001b[0m \u001b[0mself\u001b[0m\u001b[0;34m.\u001b[0m\u001b[0mzero_binarizer\u001b[0m\u001b[0;34m.\u001b[0m\u001b[0mfit_transform\u001b[0m\u001b[0;34m(\u001b[0m\u001b[0mnp\u001b[0m\u001b[0;34m.\u001b[0m\u001b[0msign\u001b[0m\u001b[0;34m(\u001b[0m\u001b[0mvote\u001b[0m\u001b[0;34m)\u001b[0m\u001b[0;34m)\u001b[0m\u001b[0;34m.\u001b[0m\u001b[0mreshape\u001b[0m\u001b[0;34m(\u001b[0m\u001b[0mX\u001b[0m\u001b[0;34m.\u001b[0m\u001b[0mshape\u001b[0m\u001b[0;34m[\u001b[0m\u001b[0;36m0\u001b[0m\u001b[0;34m]\u001b[0m\u001b[0;34m)\u001b[0m\u001b[0;34m\u001b[0m\u001b[0;34m\u001b[0m\u001b[0m\n\u001b[0m\u001b[1;32m    115\u001b[0m \u001b[0;34m\u001b[0m\u001b[0m\n\u001b[1;32m    116\u001b[0m     \u001b[0;32mdef\u001b[0m \u001b[0mpredict_proba\u001b[0m\u001b[0;34m(\u001b[0m\u001b[0mself\u001b[0m\u001b[0;34m,\u001b[0m \u001b[0mX\u001b[0m\u001b[0;34m)\u001b[0m\u001b[0;34m:\u001b[0m\u001b[0;34m\u001b[0m\u001b[0;34m\u001b[0m\u001b[0m\n",
      "\u001b[0;32m~/Documents/venvs/develop/lib/python3.6/site-packages/sklearn/preprocessing/_label.py\u001b[0m in \u001b[0;36mfit_transform\u001b[0;34m(self, y)\u001b[0m\n\u001b[1;32m    319\u001b[0m             \u001b[0mwill\u001b[0m \u001b[0mbe\u001b[0m \u001b[0mof\u001b[0m \u001b[0mCSR\u001b[0m \u001b[0mformat\u001b[0m\u001b[0;34m.\u001b[0m\u001b[0;34m\u001b[0m\u001b[0;34m\u001b[0m\u001b[0m\n\u001b[1;32m    320\u001b[0m         \"\"\"\n\u001b[0;32m--> 321\u001b[0;31m         \u001b[0;32mreturn\u001b[0m \u001b[0mself\u001b[0m\u001b[0;34m.\u001b[0m\u001b[0mfit\u001b[0m\u001b[0;34m(\u001b[0m\u001b[0my\u001b[0m\u001b[0;34m)\u001b[0m\u001b[0;34m.\u001b[0m\u001b[0mtransform\u001b[0m\u001b[0;34m(\u001b[0m\u001b[0my\u001b[0m\u001b[0;34m)\u001b[0m\u001b[0;34m\u001b[0m\u001b[0;34m\u001b[0m\u001b[0m\n\u001b[0m\u001b[1;32m    322\u001b[0m \u001b[0;34m\u001b[0m\u001b[0m\n\u001b[1;32m    323\u001b[0m     \u001b[0;32mdef\u001b[0m \u001b[0mtransform\u001b[0m\u001b[0;34m(\u001b[0m\u001b[0mself\u001b[0m\u001b[0;34m,\u001b[0m \u001b[0my\u001b[0m\u001b[0;34m)\u001b[0m\u001b[0;34m:\u001b[0m\u001b[0;34m\u001b[0m\u001b[0;34m\u001b[0m\u001b[0m\n",
      "\u001b[0;32m~/Documents/venvs/develop/lib/python3.6/site-packages/sklearn/preprocessing/_label.py\u001b[0m in \u001b[0;36mfit\u001b[0;34m(self, y)\u001b[0m\n\u001b[1;32m    287\u001b[0m         \u001b[0mself\u001b[0m \u001b[0;34m:\u001b[0m \u001b[0mreturns\u001b[0m \u001b[0man\u001b[0m \u001b[0minstance\u001b[0m \u001b[0mof\u001b[0m \u001b[0mself\u001b[0m\u001b[0;34m.\u001b[0m\u001b[0;34m\u001b[0m\u001b[0;34m\u001b[0m\u001b[0m\n\u001b[1;32m    288\u001b[0m         \"\"\"\n\u001b[0;32m--> 289\u001b[0;31m         \u001b[0mself\u001b[0m\u001b[0;34m.\u001b[0m\u001b[0my_type_\u001b[0m \u001b[0;34m=\u001b[0m \u001b[0mtype_of_target\u001b[0m\u001b[0;34m(\u001b[0m\u001b[0my\u001b[0m\u001b[0;34m)\u001b[0m\u001b[0;34m\u001b[0m\u001b[0;34m\u001b[0m\u001b[0m\n\u001b[0m\u001b[1;32m    290\u001b[0m         \u001b[0;32mif\u001b[0m \u001b[0;34m'multioutput'\u001b[0m \u001b[0;32min\u001b[0m \u001b[0mself\u001b[0m\u001b[0;34m.\u001b[0m\u001b[0my_type_\u001b[0m\u001b[0;34m:\u001b[0m\u001b[0;34m\u001b[0m\u001b[0;34m\u001b[0m\u001b[0m\n\u001b[1;32m    291\u001b[0m             raise ValueError(\"Multioutput target data is not supported with \"\n",
      "\u001b[0;32m~/Documents/venvs/develop/lib/python3.6/site-packages/sklearn/utils/multiclass.py\u001b[0m in \u001b[0;36mtype_of_target\u001b[0;34m(y)\u001b[0m\n\u001b[1;32m    301\u001b[0m     \u001b[0;32mif\u001b[0m \u001b[0my\u001b[0m\u001b[0;34m.\u001b[0m\u001b[0mdtype\u001b[0m\u001b[0;34m.\u001b[0m\u001b[0mkind\u001b[0m \u001b[0;34m==\u001b[0m \u001b[0;34m'f'\u001b[0m \u001b[0;32mand\u001b[0m \u001b[0mnp\u001b[0m\u001b[0;34m.\u001b[0m\u001b[0many\u001b[0m\u001b[0;34m(\u001b[0m\u001b[0my\u001b[0m \u001b[0;34m!=\u001b[0m \u001b[0my\u001b[0m\u001b[0;34m.\u001b[0m\u001b[0mastype\u001b[0m\u001b[0;34m(\u001b[0m\u001b[0mint\u001b[0m\u001b[0;34m)\u001b[0m\u001b[0;34m)\u001b[0m\u001b[0;34m:\u001b[0m\u001b[0;34m\u001b[0m\u001b[0;34m\u001b[0m\u001b[0m\n\u001b[1;32m    302\u001b[0m         \u001b[0;31m# [.1, .2, 3] or [[.1, .2, 3]] or [[1., .2]] and not [1., 2., 3.]\u001b[0m\u001b[0;34m\u001b[0m\u001b[0;34m\u001b[0m\u001b[0;34m\u001b[0m\u001b[0m\n\u001b[0;32m--> 303\u001b[0;31m         \u001b[0m_assert_all_finite\u001b[0m\u001b[0;34m(\u001b[0m\u001b[0my\u001b[0m\u001b[0;34m)\u001b[0m\u001b[0;34m\u001b[0m\u001b[0;34m\u001b[0m\u001b[0m\n\u001b[0m\u001b[1;32m    304\u001b[0m         \u001b[0;32mreturn\u001b[0m \u001b[0;34m'continuous'\u001b[0m \u001b[0;34m+\u001b[0m \u001b[0msuffix\u001b[0m\u001b[0;34m\u001b[0m\u001b[0;34m\u001b[0m\u001b[0m\n\u001b[1;32m    305\u001b[0m \u001b[0;34m\u001b[0m\u001b[0m\n",
      "\u001b[0;32m~/Documents/venvs/develop/lib/python3.6/site-packages/sklearn/utils/validation.py\u001b[0m in \u001b[0;36m_assert_all_finite\u001b[0;34m(X, allow_nan, msg_dtype)\u001b[0m\n\u001b[1;32m    104\u001b[0m                     \u001b[0mmsg_err\u001b[0m\u001b[0;34m.\u001b[0m\u001b[0mformat\u001b[0m\u001b[0;34m\u001b[0m\u001b[0;34m\u001b[0m\u001b[0m\n\u001b[1;32m    105\u001b[0m                     (type_err,\n\u001b[0;32m--> 106\u001b[0;31m                      msg_dtype if msg_dtype is not None else X.dtype)\n\u001b[0m\u001b[1;32m    107\u001b[0m             )\n\u001b[1;32m    108\u001b[0m     \u001b[0;31m# for object dtype data, we only check for NaNs (GH-13254)\u001b[0m\u001b[0;34m\u001b[0m\u001b[0;34m\u001b[0m\u001b[0;34m\u001b[0m\u001b[0m\n",
      "\u001b[0;31mValueError\u001b[0m: Input contains NaN, infinity or a value too large for dtype('float64')."
     ]
    }
   ],
   "source": [
    "accuracies_prot_2, n_feats_prot_2 = benchmark(X, y, n_splits=splits)"
   ]
  },
  {
   "cell_type": "markdown",
   "metadata": {},
   "source": [
    "Now with the meatbolomics : "
   ]
  },
  {
   "cell_type": "code",
   "execution_count": null,
   "metadata": {},
   "outputs": [],
   "source": [
    "print('\\nMETABOLOMICS DATA :')\n",
    "metabolomics_data_filename = os.path.join(data_path, 'metabolomics.csv')\n",
    "feat_df = pd.read_csv(metabolomics_data_filename, index_col=0, skiprows=[0], dtype=str, usecols=[0])\n",
    "features = list(feat_df.index.values)\n",
    "\n",
    "idx_df = pd.read_csv(metabolomics_data_filename, header=1, nrows=1)\n",
    "idx = list(idx_df)[1:]\n",
    "idx = [l[17:22] for l in idx]\n",
    "\n",
    "labels_df = pd.read_csv(metabolomics_data_filename, nrows=1)\n",
    "labels = list(labels_df)[1:]\n",
    "\n",
    "cols_df = pd.read_csv(metabolomics_data_filename, header=1, nrows=1)\n",
    "cols_list = list(cols_df)\n",
    "\n",
    "df3 = pd.read_csv(metabolomics_data_filename, header=1, dtype=np.float32, na_values=['#DIV/0!'], usecols=cols_list[1:])\n",
    "df3 = df3.T\n",
    "df3['idx'] = idx\n",
    "df3.set_index('idx', inplace=True)\n",
    "df3.columns = features\n",
    "df3 = df3.dropna(axis=1)\n",
    "\n",
    "#clean data of samples that are not in metadata :\n",
    "idx = df3.index.values\n",
    "y = []\n",
    "for k in range(len(idx)):\n",
    "    id = idx[k]\n",
    "    if id in meta_id_label_dict:\n",
    "        y.append(meta_id_label_dict[id])\n",
    "    else:\n",
    "        # we will not put this sample in the dataset\n",
    "        #print('sample to remove because of unknown label:', k, id)\n",
    "        y.append('to_remove')\n",
    "df3['label'] = y\n",
    "df3 = df3[df3.label != 'to_remove']\n",
    "\n",
    "#create X and y matrices for ML :\n",
    "y = list(df3['label'])\n",
    "del df3['label']\n",
    "X = df3.to_numpy()\n",
    "\n",
    "print('metabolomics data :')\n",
    "print('# of samples : ', df3.shape[0])\n",
    "print('# of features : ', df3.shape[1])\n"
   ]
  },
  {
   "cell_type": "code",
   "execution_count": null,
   "metadata": {
    "scrolled": false
   },
   "outputs": [],
   "source": [
    "accuracies_meta, n_feats_meta = benchmark(X, y, n_splits=splits)"
   ]
  },
  {
   "cell_type": "markdown",
   "metadata": {},
   "source": [
    "Now if we try to aggregate some of the views : "
   ]
  },
  {
   "cell_type": "code",
   "execution_count": null,
   "metadata": {},
   "outputs": [],
   "source": [
    "\n",
    "df_1_2 = pd.concat([df1, df2], axis=1)\n",
    "X = df_1_2.to_numpy()\n",
    "print(df_1_2.columns[189], df_1_2.columns[190])\n",
    "print('Full proteomic data :')\n",
    "print('# of samples : ', df_1_2.shape[0])\n",
    "print('# of features : ', df_1_2.shape[1])\n",
    "\n",
    "accuracies_prot_f, n_feats_prot_f = benchmark(X, y, n_splits=splits)"
   ]
  },
  {
   "cell_type": "markdown",
   "metadata": {},
   "source": [
    "Now on the three types of data :"
   ]
  },
  {
   "cell_type": "code",
   "execution_count": null,
   "metadata": {},
   "outputs": [],
   "source": [
    "df = pd.concat([df_1_2, df3], axis=1)\n",
    "df = df.dropna(axis=0)\n",
    "print('Multi-omics df :')\n",
    "print('# of samples : ', df.shape[0])\n",
    "print('# of features : ', df.shape[1])\n",
    "X = df.to_numpy()\n",
    "\n",
    "accuracies_f, n_feats_f = benchmark(X, y, n_splits=splits)"
   ]
  },
  {
   "cell_type": "code",
   "execution_count": null,
   "metadata": {},
   "outputs": [],
   "source": [
    "%matplotlib inline\n",
    "import matplotlib.pyplot as plt\n",
    "import numpy as np\n",
    "\n",
    "from matplotlib.patches import Patch\n",
    "from matplotlib.lines import Line2D\n",
    "\n",
    "plt_1 = plt.figure(figsize=(15, 15))\n",
    "\n",
    "legend_elements = [Line2D([], [], marker='o', color='k', label='Metabo',markersize=10, linestyle='None'),\n",
    "                   Line2D([], [], marker='^', color='k', label='Multiomic',markersize=10, linestyle='None'),\n",
    "                   Line2D([], [], marker='s', color='k', label='Proteo full',markersize=10, linestyle='None'),\n",
    "                   Line2D([], [], marker='*', color='k', label='Proteo1',markersize=10, linestyle='None'),\n",
    "                   Line2D([], [], marker='D', color='k', label='Proteo2',markersize=10, linestyle='None'),\n",
    "                   Patch(facecolor='b', label='R-SCM'),\n",
    "                   Patch(facecolor='g', label='SCM'),\n",
    "                   Patch(facecolor='r', label='RF')]\n",
    "markersize=20\n",
    "alpha=0.5\n",
    "plt.scatter(accuracies_f[:,0], accuracies_f[:,1], marker='^', color=\"b\", s=markersize, alpha=alpha)\n",
    "plt.scatter(accuracies_f[:,0], accuracies_f[:,2], marker='^', color=\"g\", s=markersize, alpha=alpha)\n",
    "plt.scatter(accuracies_f[:,0], accuracies_f[:,3], marker='^', color=\"r\", s=markersize, alpha=alpha)\n",
    "plt.scatter(accuracies_meta[:,0], accuracies_meta[:,1], marker='o', color=\"b\", s=markersize, alpha=alpha)\n",
    "plt.scatter(accuracies_meta[:,0], accuracies_meta[:,2], marker='o', color=\"g\", s=markersize, alpha=alpha)\n",
    "plt.scatter(accuracies_meta[:,0], accuracies_meta[:,3], marker='o', color=\"r\", s=markersize, alpha=alpha)\n",
    "plt.scatter(accuracies_prot_f[:,0], accuracies_prot_f[:,1], marker='s', color=\"b\", s=markersize, alpha=alpha)\n",
    "plt.scatter(accuracies_prot_f[:,0], accuracies_prot_f[:,2], marker='s', color=\"g\", s=markersize, alpha=alpha)\n",
    "plt.scatter(accuracies_prot_f[:,0], accuracies_prot_f[:,3], marker='s', color=\"r\", s=markersize, alpha=alpha)\n",
    "plt.scatter(accuracies_prot_1[:,0], accuracies_prot_1[:,1], marker='*', color=\"b\", s=markersize, alpha=alpha)\n",
    "plt.scatter(accuracies_prot_1[:,0], accuracies_prot_1[:,2], marker='*', color=\"g\", s=markersize, alpha=alpha)\n",
    "plt.scatter(accuracies_prot_1[:,0], accuracies_prot_1[:,3], marker='*', color=\"r\", s=markersize, alpha=alpha)\n",
    "plt.scatter(accuracies_prot_2[:,0], accuracies_prot_2[:,1], marker='D', color=\"b\", s=markersize, alpha=alpha)\n",
    "plt.scatter(accuracies_prot_2[:,0], accuracies_prot_2[:,2], marker='D', color=\"g\", s=markersize, alpha=alpha)\n",
    "plt.scatter(accuracies_prot_2[:,0], accuracies_prot_2[:,3], marker='D', color=\"r\", s=markersize, alpha=alpha)\n",
    "\n",
    "# Show the boundary between the regions:\n",
    "theta = np.arange(0, 1, 0.01)\n",
    "plt.plot(theta, theta)\n",
    "plt.ylabel(\"Other algorithms accuracies\")\n",
    "plt.xlabel(\"Neighborhood classifier accuracies\")\n",
    "plt.legend(handles=legend_elements)\n",
    "plt.show()"
   ]
  },
  {
   "cell_type": "code",
   "execution_count": null,
   "metadata": {},
   "outputs": [],
   "source": [
    "plt_1 = plt.figure(figsize=(15, 15))\n",
    "\n",
    "legend_elements = [Line2D([], [], marker='o', color='k', label='Metabo',markersize=10, linestyle='None'),\n",
    "                   Line2D([], [], marker='^', color='k', label='Multiomic',markersize=10, linestyle='None'),\n",
    "                   Line2D([], [], marker='s', color='k', label='Proteo full',markersize=10, linestyle='None'),\n",
    "                   Line2D([], [], marker='*', color='k', label='Proteo1',markersize=10, linestyle='None'),\n",
    "                   Line2D([], [], marker='D', color='k', label='Proteo2',markersize=10, linestyle='None'),\n",
    "                   Patch(facecolor='b', label='R-SCM'),\n",
    "                   Patch(facecolor='g', label='SCM'),\n",
    "                   Patch(facecolor='r', label='RF')]\n",
    "markersize=20\n",
    "alpha=0.5\n",
    "plt.scatter(n_feats_f[:,0], n_feats_f[:,1], marker='^', color=\"b\", s=markersize, alpha=alpha)\n",
    "plt.scatter(n_feats_f[:,0], n_feats_f[:,2], marker='^', color=\"g\", s=markersize, alpha=alpha)\n",
    "plt.scatter(n_feats_f[:,0], n_feats_f[:,3], marker='^', color=\"r\", s=markersize, alpha=alpha)\n",
    "plt.scatter(n_feats_meta[:,0], n_feats_meta[:,1], marker='o', color=\"b\", s=markersize, alpha=alpha)\n",
    "plt.scatter(n_feats_meta[:,0], n_feats_meta[:,2], marker='o', color=\"g\", s=markersize, alpha=alpha)\n",
    "plt.scatter(n_feats_meta[:,0], n_feats_meta[:,3], marker='o', color=\"r\", s=markersize, alpha=alpha)\n",
    "plt.scatter(n_feats_prot_f[:,0], n_feats_prot_f[:,1], marker='s', color=\"b\", s=markersize, alpha=alpha)\n",
    "plt.scatter(n_feats_prot_f[:,0], n_feats_prot_f[:,2], marker='s', color=\"g\", s=markersize, alpha=alpha)\n",
    "plt.scatter(n_feats_prot_f[:,0], n_feats_prot_f[:,3], marker='s', color=\"r\", s=markersize, alpha=alpha)\n",
    "plt.scatter(n_feats_prot_1[:,0], n_feats_prot_1[:,1], marker='*', color=\"b\", s=markersize, alpha=alpha)\n",
    "plt.scatter(n_feats_prot_1[:,0], n_feats_prot_1[:,2], marker='*', color=\"g\", s=markersize, alpha=alpha)\n",
    "plt.scatter(n_feats_prot_1[:,0], n_feats_prot_1[:,3], marker='*', color=\"r\", s=markersize, alpha=alpha)\n",
    "plt.scatter(n_feats_prot_2[:,0], n_feats_prot_2[:,1], marker='D', color=\"b\", s=markersize, alpha=alpha)\n",
    "plt.scatter(n_feats_prot_2[:,0], n_feats_prot_2[:,2], marker='D', color=\"g\", s=markersize, alpha=alpha)\n",
    "plt.scatter(n_feats_prot_2[:,0], n_feats_prot_2[:,3], marker='D', color=\"r\", s=markersize, alpha=alpha)\n",
    "\n",
    "# Show the boundary between the regions:\n",
    "theta = np.arange(0, 50, 0.01)\n",
    "plt.plot(theta, theta)\n",
    "plt.ylabel(\"Other algorithms n_feat\")\n",
    "plt.xlabel(\"Neighborhood classifier n_feat\")\n",
    "plt.legend(handles=legend_elements)\n",
    "plt.show()"
   ]
  },
  {
   "cell_type": "code",
   "execution_count": null,
   "metadata": {},
   "outputs": [],
   "source": [
    "plt_1 = plt.figure(figsize=(15, 15))\n",
    "\n",
    "markersize=50\n",
    "alpha=0.7\n",
    "plt.scatter(X[:,1078], X[:,1103], marker='^', c=y, s=markersize, alpha=alpha, cmap=\"bwr\")\n",
    "plt.ylabel(\"7.47_525.8156n\")\n",
    "plt.xlabel(\"3.93_182.1901m/z\")\n",
    "plt.show()"
   ]
  },
  {
   "cell_type": "code",
   "execution_count": null,
   "metadata": {},
   "outputs": [],
   "source": [
    "plt_1 = plt.figure(figsize=(15, 15))\n",
    "print(df.columns[3100], df.columns[1245])\n",
    "markersize=50\n",
    "alpha=0.7\n",
    "plt.scatter(X[:,1078], X[:,3100], marker='^', c=y, s=markersize, alpha=alpha, cmap=\"bwr\")\n",
    "plt.ylabel(\"9.25_382.3062n\")\n",
    "plt.xlabel(\"3.93_182.1901m/z\")\n",
    "plt.show()"
   ]
  },
  {
   "cell_type": "code",
   "execution_count": null,
   "metadata": {},
   "outputs": [],
   "source": [
    "plt_1 = plt.figure(figsize=(15, 15))\n",
    "\n",
    "markersize=50\n",
    "alpha=0.7\n",
    "plt.scatter(X[:,1078], X[:,1245], marker='^', c=y, s=markersize, alpha=alpha, cmap=\"bwr\")\n",
    "plt.ylabel(\"6.55_561.8297n\")\n",
    "plt.xlabel(\"3.93_182.1901m/z\")\n",
    "plt.show()"
   ]
  },
  {
   "cell_type": "code",
   "execution_count": null,
   "metadata": {},
   "outputs": [],
   "source": [
    "plt_1 = plt.figure(figsize=(15, 15))\n",
    "\n",
    "df_1_2 = pd.concat([df1, df2], axis=1)\n",
    "X = df_1_2.to_numpy()\n",
    "\n",
    "markersize=50\n",
    "alpha=0.7\n",
    "plt.scatter(X[:,189], X[:,211], marker='^', c=y, s=markersize, alpha=alpha, cmap=\"bwr\")\n",
    "plt.ylabel(\"Proteo 211\")\n",
    "plt.xlabel(\"IL2\")\n",
    "plt.show()"
   ]
  }
 ],
 "metadata": {
  "kernelspec": {
   "display_name": "Python 3",
   "language": "python",
   "name": "python3"
  },
  "language_info": {
   "codemirror_mode": {
    "name": "ipython",
    "version": 3
   },
   "file_extension": ".py",
   "mimetype": "text/x-python",
   "name": "python",
   "nbconvert_exporter": "python",
   "pygments_lexer": "ipython3",
   "version": "3.6.8"
  }
 },
 "nbformat": 4,
 "nbformat_minor": 4
}
