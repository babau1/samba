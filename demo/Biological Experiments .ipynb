{
 "cells": [
  {
   "cell_type": "code",
   "execution_count": 1,
   "metadata": {},
   "outputs": [],
   "source": [
    "import numpy as np\n",
    "import pandas as pd\n",
    "import matplotlib.pyplot as plt\n",
    "import pickle as pkl\n",
    "import os\n",
    "from SamBA.samba import NeighborHoodClassifier\n",
    "from sklearn.tree import DecisionTreeClassifier\n",
    "from sklearn.model_selection import train_test_split\n",
    "from sklearn.metrics import accuracy_score\n",
    "from random_scm.random_scm_classifier import RandomScmClassifier\n",
    "from summit.multiview_platform.monoview_classifiers.scm import SCM\n",
    "from sklearn.ensemble import RandomForestClassifier\n",
    "\n",
    "rs = np.random.RandomState(42)\n",
    "\n",
    "splits = 100\n",
    "\n",
    "def best_feats(importances, limit=5):\n",
    "    best_inds = np.argsort(-importances)\n",
    "    return dict((str(ind), np.round(importances[ind], 2)) for ind in best_inds[:limit])\n",
    "\n",
    "def benchmark(X, y, n_splits=10, train_size=0.75):\n",
    "    neigh_clf = NeighborHoodClassifier(\n",
    "                     base_estimator=DecisionTreeClassifier(max_depth=1,\n",
    "                                                           splitter='best',\n",
    "                                                           criterion='gini'),\n",
    "                     n_estimators=10)\n",
    "    rscm_clf = RandomScmClassifier(n_estimators=10, max_rules=10,\n",
    "                     p_options=[1.0],\n",
    "                     model_type=\"conjunction\",\n",
    "                     random_state=rs)\n",
    "    scm_clf = SCM(\n",
    "                random_state=rs,\n",
    "                model_type=\"conjunction\",\n",
    "                max_rules=10,\n",
    "                p=1.0)\n",
    "    rf_clf = RandomForestClassifier(n_estimators=10, random_state=rs, max_depth=3)\n",
    "\n",
    "    accuracies = np.zeros((n_splits, 4))\n",
    "    n_feats = np.zeros((n_splits, 4))\n",
    "    feature_importances = np.zeros((X.shape[1], n_splits, 4))\n",
    "    for i in range(n_splits):\n",
    "        X_train, X_test, y_train, y_test = train_test_split(X, y, shuffle=True, random_state=rs, train_size=train_size)\n",
    "        neigh_clf.fit(X_train, y_train)\n",
    "        rscm_clf.fit(X_train, y_train)\n",
    "        scm_clf.fit(X_train, y_train)\n",
    "        rf_clf.fit(X_train, y_train)\n",
    "\n",
    "        neigh_clf_preds = neigh_clf.predict(X_test)\n",
    "        rscm_clf_preds = rscm_clf.predict(X_test)\n",
    "        scm_clf_preds = scm_clf.predict(X_test)\n",
    "        rf_clf_preds = rf_clf.predict(X_test)\n",
    "\n",
    "        accuracies[i, 0] = accuracy_score(neigh_clf_preds, y_test)\n",
    "        accuracies[i, 1] = accuracy_score(rscm_clf_preds, y_test)\n",
    "        accuracies[i, 2] = accuracy_score(scm_clf_preds, y_test)\n",
    "        accuracies[i, 3] = accuracy_score(rf_clf_preds, y_test)\n",
    "\n",
    "        feature_importances[:, i, 0] = neigh_clf.feature_importances_\n",
    "        feature_importances[:, i, 1] = rscm_clf.feature_importances_\n",
    "        feature_importances[:, i, 2] = scm_clf.feature_importances_\n",
    "        feature_importances[:, i, 3] = rf_clf.feature_importances_\n",
    "\n",
    "        n_feats[i, 0]= len(np.where(neigh_clf.feature_importances_!=0)[0])\n",
    "        n_feats[i, 1]= len(np.where(rscm_clf.feature_importances_!=0)[0])\n",
    "        n_feats[i, 2]= len(np.where(scm_clf.feature_importances_!=0)[0])\n",
    "        n_feats[i, 3]= len(np.where(rf_clf.feature_importances_!=0)[0])\n",
    "\n",
    "    mean_accs = np.round(np.mean(accuracies, axis=0), 2)\n",
    "    stds_accs = np.round(np.std(accuracies, axis=0), 2)\n",
    "    mean_n_feats = np.round(np.mean(n_feats, axis=0), 2)\n",
    "    mean_feature_importances = np.round(np.mean(feature_importances, axis=1),2)\n",
    "    \n",
    "    print(\"NeighborHoodClassifier has a mean accuracy of \\n\\t{} +/-{}, relying on \\n\\t{} features \\n\\t {} \".format(mean_accs[0], stds_accs[0], mean_n_feats[0], best_feats(mean_feature_importances[:,0])))\n",
    "    print(\"RandomSCM has a mean accuracy of \\n\\t{} +/-{}, relying on \\n\\t{} features \\n\\t {} \".format(mean_accs[1], stds_accs[1], mean_n_feats[1], best_feats(mean_feature_importances[:,1])))\n",
    "    print(\"VanillaSCM has a mean accuracy of \\n\\t{} +/-{}, relying on \\n\\t{} features \\n\\t {} \".format(mean_accs[2], stds_accs[2], mean_n_feats[2], best_feats(mean_feature_importances[:,2])))\n",
    "    print(\"RandomForest has a mean accuracy of \\n\\t{} +/-{}, relying on \\n\\t{} features \\n\\t {} \".format(mean_accs[3], stds_accs[3], mean_n_feats[3], best_feats(mean_feature_importances[:,3])))"
   ]
  },
  {
   "cell_type": "markdown",
   "metadata": {},
   "source": [
    "# Biological experiments with Neighborhood classifier\n",
    "\n",
    "## Recover dataset\n",
    "\n",
    "Task : predict the persitency of covid symptoms with proteomics, and metabolomics.\n",
    "To extract the data, we use a script, slightly modified. \n",
    "\n",
    "First, let's extract the metadata that will provide the classification labels :"
   ]
  },
  {
   "cell_type": "code",
   "execution_count": 2,
   "metadata": {},
   "outputs": [
    {
     "name": "stdout",
     "output_type": "stream",
     "text": [
      "labels metadata : ['S', 'S', 'S', 'S', 'S', 'S', 'S', 'S', 'S', 'S', 'S', 'S', 'S', 'S', 'S', 'S', 'S', 'S', 'S', 'S', 'S', 'S', 'S', 'S', 'S', 'S', 'S', 'S', 'S', 'S', 'S', 'S', 'S', 'S', 'S', 'S', 'S', 'S', 'S', 'S', 'S', 'S', 'S', 'S', 'S', 'S', 'S', 'S', 'S', 'S', 'NS', 'NS', 'NS', 'NS', 'NS', 'NS', 'NS', 'NS', 'NS', 'NS', 'NS', 'NS', 'NS', 'NS', 'NS', 'NS', 'NS', 'NS', 'NS', 'NS', 'NS', 'NS', 'NS', 'NS', 'NS', 'NS', 'NS', 'NS', 'NS', 'NS', 'NS', 'NS', 'NS', 'NS', 'NS', 'NS', 'NS', 'NS', 'NS', 'NS', 'NS', 'NS', 'NS', 'NS', 'NS', 'NS', 'NS', 'NS', 'NS', 'NS']\n"
     ]
    }
   ],
   "source": [
    "data_path = '/home/baptiste/Documents/Datasets/recover'\n",
    "\n",
    "metadata_filename = os.path.join(data_path, 'metadata.csv')\n",
    "meta_df = pd.read_csv(metadata_filename)\n",
    "meta_df.columns = ['#', 'plate', '-', 'symptoms'] + list(meta_df)[4:]\n",
    "print('labels metadata :', meta_df['symptoms'].to_list())\n",
    "meta_idx = meta_df['ID'].to_list()\n",
    "meta_label = meta_df['symptoms'].to_list()\n",
    "meta_id_label_dict = {str(k): 1 if v=='S' else 0 for k, v in zip(meta_idx, meta_label)}"
   ]
  },
  {
   "cell_type": "markdown",
   "metadata": {},
   "source": [
    "Then, we extract the first proteomic features"
   ]
  },
  {
   "cell_type": "code",
   "execution_count": 3,
   "metadata": {},
   "outputs": [
    {
     "name": "stdout",
     "output_type": "stream",
     "text": [
      "proteomics data :\n",
      "# of samples :  100\n",
      "# of features :  184\n",
      "labels: [1, 0]\n"
     ]
    }
   ],
   "source": [
    "proteomics_data_filename = os.path.join(data_path, 'proteomics.csv')\n",
    "\n",
    "dim_df = pd.read_csv(proteomics_data_filename, nrows=1)\n",
    "dim = len(list(dim_df))\n",
    "all_cols = [i for i in range(dim)]\n",
    "feat_cols = all_cols[1:-4]\n",
    "samplesidx_col = [0]\n",
    "\n",
    "feat_df = pd.read_csv(proteomics_data_filename, skiprows=4, nrows=1, dtype=str, usecols=feat_cols)\n",
    "features = list(feat_df)\n",
    "\n",
    "idx_df = pd.read_csv(proteomics_data_filename, skiprows=6, index_col=0, skipfooter=4, usecols=[0], engine='python')\n",
    "idx = list(idx_df.index.values)\n",
    "\n",
    "df1 = pd.read_csv(proteomics_data_filename, skiprows=6, dtype=np.float32, skipfooter=4, usecols=feat_cols, engine='python')\n",
    "assert df1.shape[0] == len(idx)\n",
    "assert df1.shape[1] == len(features)\n",
    "\n",
    "df1['idx'] = idx\n",
    "df1.set_index('idx', inplace=True)\n",
    "df1.columns = features\n",
    "\n",
    "#clean data of samples that are not in metadata :\n",
    "idx = df1.index.values\n",
    "y = []\n",
    "for k in range(len(idx)):\n",
    "    id = idx[k]\n",
    "    if id in meta_id_label_dict:\n",
    "        y.append(meta_id_label_dict[id])\n",
    "    else:\n",
    "        # we will not put this sample in the dataset\n",
    "        #print('sample to remove because of unknown label:', k, id)\n",
    "        y.append('to_remove')\n",
    "df1['label'] = y\n",
    "df1 = df1[df1.label != 'to_remove']\n",
    "\n",
    "#create X and y matrices for ML :\n",
    "y = list(df1['label'])\n",
    "del df1['label']\n",
    "X = df1.to_numpy()\n",
    "print('proteomics data :')\n",
    "print('# of samples : ', df1.shape[0])\n",
    "print('# of features : ', df1.shape[1])\n",
    "print('labels:', list(dict.fromkeys(y)))"
   ]
  },
  {
   "cell_type": "markdown",
   "metadata": {},
   "source": [
    "Let's run the neighborhood classifier on this data with several train/test splits : "
   ]
  },
  {
   "cell_type": "code",
   "execution_count": 4,
   "metadata": {},
   "outputs": [
    {
     "name": "stdout",
     "output_type": "stream",
     "text": [
      "NeighborHoodClassifier has a mean accuracy of \n",
      "\t0.51 +/-0.09, relying on \n",
      "\t3.26 features \n",
      "\t {'86': 0.16, '84': 0.12, '37': 0.06, '67': 0.05, '30': 0.03} \n",
      "RandomSCM has a mean accuracy of \n",
      "\t0.52 +/-0.09, relying on \n",
      "\t25.15 features \n",
      "\t {'86': 0.05, '37': 0.04, '67': 0.04, '84': 0.03, '64': 0.03} \n",
      "VanillaSCM has a mean accuracy of \n",
      "\t0.5 +/-0.09, relying on \n",
      "\t4.48 features \n",
      "\t {'86': 0.07, '37': 0.05, '9': 0.04, '5': 0.04, '0': 0.04} \n",
      "RandomForest has a mean accuracy of \n",
      "\t0.53 +/-0.1, relying on \n",
      "\t45.77 features \n",
      "\t {'67': 0.02, '86': 0.02, '0': 0.01, '110': 0.01, '109': 0.01} \n"
     ]
    }
   ],
   "source": [
    "benchmark(X, y, n_splits=splits)"
   ]
  },
  {
   "cell_type": "markdown",
   "metadata": {},
   "source": [
    "Let's chek the second proteomic group of features "
   ]
  },
  {
   "cell_type": "code",
   "execution_count": 5,
   "metadata": {},
   "outputs": [
    {
     "name": "stdout",
     "output_type": "stream",
     "text": [
      "\n",
      "PROTEOMICS CYTOKINES DATA :\n",
      "# of samples :  100\n",
      "# of features :  45\n"
     ]
    }
   ],
   "source": [
    "print('\\nPROTEOMICS CYTOKINES DATA :')\n",
    "proteomics_cyt_data_filename = os.path.join(data_path, 'proteomics_cyt.csv')\n",
    "\n",
    "dim_df = pd.read_csv(proteomics_cyt_data_filename, nrows=1)\n",
    "dim = len(list(dim_df))\n",
    "all_cols = [i for i in range(dim)]\n",
    "feat_cols = all_cols[1:-2]\n",
    "samplesidx_col = [0]\n",
    "\n",
    "feat_df = pd.read_csv(proteomics_cyt_data_filename, skiprows=4, nrows=1, dtype=str, usecols=feat_cols)\n",
    "features = list(feat_df)\n",
    "\n",
    "idx_df = pd.read_csv(proteomics_cyt_data_filename, skiprows=7, index_col=0, skipfooter=14, usecols=[0], engine='python')\n",
    "idx = list(idx_df.index.values)\n",
    "\n",
    "df2 = pd.read_csv(proteomics_cyt_data_filename, skiprows=7, dtype=np.float32, skipfooter=14, usecols=feat_cols, na_values=['> ULOQ'], engine='python')\n",
    "assert df2.shape[0] == len(idx)\n",
    "assert df2.shape[1] == len(features)\n",
    "\n",
    "df2['idx'] = idx\n",
    "df2.set_index('idx', inplace=True)\n",
    "df2.columns = features\n",
    "\n",
    "#clean data of samples that are not in metadata :\n",
    "idx = df2.index.values\n",
    "y = []\n",
    "for k in range(len(idx)):\n",
    "    id = idx[k]\n",
    "    if id in meta_id_label_dict:\n",
    "        y.append(meta_id_label_dict[id])\n",
    "    else:\n",
    "        # we will not put this sample in the dataset\n",
    "        #print('sample to remove because of unknown label:', k, id)\n",
    "        y.append('to_remove')\n",
    "df2['label'] = y\n",
    "df2 = df2[df2.label != 'to_remove']\n",
    "\n",
    "for col in list(df2):\n",
    "   df2[col].fillna(int(df2[col].mean()), inplace=True)\n",
    "\n",
    "\n",
    "#create X and y matrices for ML :\n",
    "y = list(df2['label'])\n",
    "del df2['label']\n",
    "X = df2.to_numpy()\n",
    "print('# of samples : ', df2.shape[0])\n",
    "print('# of features : ', df2.shape[1])\n"
   ]
  },
  {
   "cell_type": "code",
   "execution_count": 6,
   "metadata": {},
   "outputs": [
    {
     "name": "stdout",
     "output_type": "stream",
     "text": [
      "NeighborHoodClassifier has a mean accuracy of \n",
      "\t0.5 +/-0.09, relying on \n",
      "\t2.79 features \n",
      "\t {'32': 0.29, '30': 0.1, '26': 0.05, '28': 0.05, '21': 0.05} \n",
      "RandomSCM has a mean accuracy of \n",
      "\t0.51 +/-0.09, relying on \n",
      "\t21.88 features \n",
      "\t {'32': 0.1, '9': 0.06, '31': 0.06, '30': 0.05, '19': 0.05} \n",
      "VanillaSCM has a mean accuracy of \n",
      "\t0.51 +/-0.09, relying on \n",
      "\t5.47 features \n",
      "\t {'0': 0.17, '32': 0.09, '14': 0.07, '10': 0.07, '31': 0.06} \n",
      "RandomForest has a mean accuracy of \n",
      "\t0.51 +/-0.09, relying on \n",
      "\t30.86 features \n",
      "\t {'32': 0.05, '30': 0.04, '31': 0.04, '10': 0.03, '19': 0.03} \n"
     ]
    }
   ],
   "source": [
    "benchmark(X, y, n_splits=splits)"
   ]
  },
  {
   "cell_type": "markdown",
   "metadata": {},
   "source": [
    "Now with the meatbolomics : "
   ]
  },
  {
   "cell_type": "code",
   "execution_count": 7,
   "metadata": {},
   "outputs": [
    {
     "name": "stdout",
     "output_type": "stream",
     "text": [
      "\n",
      "METABOLOMICS DATA :\n",
      "metabolomics data :\n",
      "# of samples :  100\n",
      "# of features :  3989\n"
     ]
    }
   ],
   "source": [
    "print('\\nMETABOLOMICS DATA :')\n",
    "metabolomics_data_filename = os.path.join(data_path, 'metabolomics.csv')\n",
    "feat_df = pd.read_csv(metabolomics_data_filename, index_col=0, skiprows=[0], dtype=str, usecols=[0])\n",
    "features = list(feat_df.index.values)\n",
    "\n",
    "idx_df = pd.read_csv(metabolomics_data_filename, header=1, nrows=1)\n",
    "idx = list(idx_df)[1:]\n",
    "idx = [l[17:22] for l in idx]\n",
    "\n",
    "labels_df = pd.read_csv(metabolomics_data_filename, nrows=1)\n",
    "labels = list(labels_df)[1:]\n",
    "\n",
    "cols_df = pd.read_csv(metabolomics_data_filename, header=1, nrows=1)\n",
    "cols_list = list(cols_df)\n",
    "\n",
    "df3 = pd.read_csv(metabolomics_data_filename, header=1, dtype=np.float32, na_values=['#DIV/0!'], usecols=cols_list[1:])\n",
    "df3 = df3.T\n",
    "df3['idx'] = idx\n",
    "df3.set_index('idx', inplace=True)\n",
    "df3.columns = features\n",
    "df3 = df3.dropna(axis=1)\n",
    "\n",
    "#clean data of samples that are not in metadata :\n",
    "idx = df3.index.values\n",
    "y = []\n",
    "for k in range(len(idx)):\n",
    "    id = idx[k]\n",
    "    if id in meta_id_label_dict:\n",
    "        y.append(meta_id_label_dict[id])\n",
    "    else:\n",
    "        # we will not put this sample in the dataset\n",
    "        #print('sample to remove because of unknown label:', k, id)\n",
    "        y.append('to_remove')\n",
    "df3['label'] = y\n",
    "df3 = df3[df3.label != 'to_remove']\n",
    "\n",
    "#create X and y matrices for ML :\n",
    "y = list(df3['label'])\n",
    "del df3['label']\n",
    "X = df3.to_numpy()\n",
    "\n",
    "print('metabolomics data :')\n",
    "print('# of samples : ', df3.shape[0])\n",
    "print('# of features : ', df3.shape[1])\n"
   ]
  },
  {
   "cell_type": "code",
   "execution_count": 8,
   "metadata": {
    "scrolled": false
   },
   "outputs": [
    {
     "name": "stdout",
     "output_type": "stream",
     "text": [
      "NeighborHoodClassifier has a mean accuracy of \n",
      "\t0.99 +/-0.02, relying on \n",
      "\t7.51 features \n",
      "\t {'1316': 0.07, '2494': 0.06, '2838': 0.06, '2533': 0.05, '899': 0.05} \n",
      "RandomSCM has a mean accuracy of \n",
      "\t0.98 +/-0.03, relying on \n",
      "\t9.83 features \n",
      "\t {'3730': 0.01, '114': 0.01, '328': 0.01, '184': 0.01, '731': 0.01} \n",
      "VanillaSCM has a mean accuracy of \n",
      "\t0.97 +/-0.04, relying on \n",
      "\t1.0 features \n",
      "\t {'76': 0.68, '73': 0.23, '71': 0.07, '68': 0.02, '0': 0.0} \n",
      "RandomForest has a mean accuracy of \n",
      "\t0.98 +/-0.03, relying on \n",
      "\t12.49 features \n",
      "\t {'895': 0.01, '1105': 0.01, '81': 0.01, '78': 0.01, '205': 0.01} \n"
     ]
    }
   ],
   "source": [
    "benchmark(X, y, n_splits=splits)"
   ]
  },
  {
   "cell_type": "markdown",
   "metadata": {},
   "source": [
    "Now if we try to aggregate some of the views : "
   ]
  },
  {
   "cell_type": "code",
   "execution_count": 9,
   "metadata": {},
   "outputs": [
    {
     "name": "stdout",
     "output_type": "stream",
     "text": [
      "Full proteomic data :\n",
      "# of samples :  100\n",
      "# of features :  229\n",
      "NeighborHoodClassifier has a mean accuracy of \n",
      "\t0.64 +/-0.07, relying on \n",
      "\t2.43 features \n",
      "\t {'189': 0.46, '211': 0.39, '219': 0.05, '88': 0.02, '197': 0.02} \n",
      "RandomSCM has a mean accuracy of \n",
      "\t0.58 +/-0.1, relying on \n",
      "\t23.72 features \n",
      "\t {'189': 0.19, '211': 0.09, '185': 0.05, '219': 0.05, '192': 0.03} \n",
      "VanillaSCM has a mean accuracy of \n",
      "\t0.62 +/-0.09, relying on \n",
      "\t4.0 features \n",
      "\t {'189': 0.23, '176': 0.07, '70': 0.06, '3': 0.05, '5': 0.05} \n",
      "RandomForest has a mean accuracy of \n",
      "\t0.58 +/-0.09, relying on \n",
      "\t42.65 features \n",
      "\t {'189': 0.05, '211': 0.03, '223': 0.02, '192': 0.02, '197': 0.02} \n"
     ]
    }
   ],
   "source": [
    "df_1_2 = pd.concat([df1, df2], axis=1)\n",
    "X = df_1_2.to_numpy()\n",
    "\n",
    "print('Full proteomic data :')\n",
    "print('# of samples : ', df_1_2.shape[0])\n",
    "print('# of features : ', df_1_2.shape[1])\n",
    "\n",
    "benchmark(X, y, n_splits=splits)"
   ]
  },
  {
   "cell_type": "markdown",
   "metadata": {},
   "source": [
    "Now on the three types of data :"
   ]
  },
  {
   "cell_type": "code",
   "execution_count": 10,
   "metadata": {},
   "outputs": [
    {
     "name": "stdout",
     "output_type": "stream",
     "text": [
      "Multi-omics df :\n",
      "# of samples :  100\n",
      "# of features :  4218\n",
      "NeighborHoodClassifier has a mean accuracy of \n",
      "\t0.95 +/-0.05, relying on \n",
      "\t2.78 features \n",
      "\t {'1078': 0.42, '1103': 0.2, '1245': 0.09, '1968': 0.08, '3100': 0.07} \n",
      "RandomSCM has a mean accuracy of \n",
      "\t0.98 +/-0.03, relying on \n",
      "\t9.82 features \n",
      "\t {'1078': 0.1, '1103': 0.08, '3983': 0.08, '3100': 0.08, '1968': 0.06} \n",
      "VanillaSCM has a mean accuracy of \n",
      "\t0.96 +/-0.05, relying on \n",
      "\t1.72 features \n",
      "\t {'1078': 0.54, '7': 0.35, '1103': 0.05, '1040': 0.02, '1061': 0.02} \n",
      "RandomForest has a mean accuracy of \n",
      "\t0.97 +/-0.04, relying on \n",
      "\t30.55 features \n",
      "\t {'3331': 0.02, '1968': 0.02, '1273': 0.02, '1078': 0.02, '3983': 0.02} \n"
     ]
    }
   ],
   "source": [
    "df = pd.concat([df_1_2, df3], axis=1)\n",
    "df = df.dropna(axis=0)\n",
    "print('Multi-omics df :')\n",
    "print('# of samples : ', df.shape[0])\n",
    "print('# of features : ', df.shape[1])\n",
    "X = df.to_numpy()\n",
    "\n",
    "benchmark(X, y, n_splits=splits)"
   ]
  },
  {
   "cell_type": "markdown",
   "metadata": {},
   "source": []
  }
 ],
 "metadata": {
  "kernelspec": {
   "display_name": "Python 3",
   "language": "python",
   "name": "python3"
  },
  "language_info": {
   "codemirror_mode": {
    "name": "ipython",
    "version": 3
   },
   "file_extension": ".py",
   "mimetype": "text/x-python",
   "name": "python",
   "nbconvert_exporter": "python",
   "pygments_lexer": "ipython3",
   "version": "3.6.8"
  }
 },
 "nbformat": 4,
 "nbformat_minor": 4
}
