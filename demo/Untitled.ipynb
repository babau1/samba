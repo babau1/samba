{
 "cells": [
  {
   "cell_type": "code",
   "execution_count": 17,
   "metadata": {},
   "outputs": [
    {
     "name": "stdout",
     "output_type": "stream",
     "text": [
      "100\n",
      "500\n",
      "1000\n",
      "2000\n",
      "5000\n",
      "7000\n",
      "10000\n"
     ]
    },
    {
     "ename": "AttributeError",
     "evalue": "module 'plotly.express' has no attribute 'show'",
     "output_type": "error",
     "traceback": [
      "\u001b[0;31m---------------------------------------------------------------------------\u001b[0m",
      "\u001b[0;31mAttributeError\u001b[0m                            Traceback (most recent call last)",
      "\u001b[0;32m<ipython-input-17-5b1dd5a21583>\u001b[0m in \u001b[0;36m<module>\u001b[0;34m\u001b[0m\n\u001b[1;32m     38\u001b[0m     \u001b[0mpx\u001b[0m\u001b[0;34m.\u001b[0m\u001b[0mscatter\u001b[0m\u001b[0;34m(\u001b[0m\u001b[0mres_df\u001b[0m\u001b[0;34m,\u001b[0m \u001b[0mx\u001b[0m\u001b[0;34m=\u001b[0m\u001b[0;34m\"epsilon\"\u001b[0m\u001b[0;34m,\u001b[0m \u001b[0my\u001b[0m\u001b[0;34m=\u001b[0m\u001b[0;34m\"Samples\"\u001b[0m\u001b[0;34m,\u001b[0m \u001b[0manimation_frame\u001b[0m\u001b[0;34m=\u001b[0m\u001b[0;34m'b'\u001b[0m\u001b[0;34m,\u001b[0m \u001b[0mcolor\u001b[0m\u001b[0;34m=\u001b[0m\u001b[0;34m\"res\"\u001b[0m\u001b[0;34m)\u001b[0m\u001b[0;34m\u001b[0m\u001b[0;34m\u001b[0m\u001b[0m\n\u001b[1;32m     39\u001b[0m \u001b[0manalyze_in_practice\u001b[0m\u001b[0;34m(\u001b[0m\u001b[0mT\u001b[0m\u001b[0;34m,\u001b[0m \u001b[0mn_samples\u001b[0m\u001b[0;34m,\u001b[0m \u001b[0mepsilons\u001b[0m\u001b[0;34m,\u001b[0m \u001b[0mbs\u001b[0m\u001b[0;34m)\u001b[0m\u001b[0;34m\u001b[0m\u001b[0;34m\u001b[0m\u001b[0m\n\u001b[0;32m---> 40\u001b[0;31m \u001b[0mpx\u001b[0m\u001b[0;34m.\u001b[0m\u001b[0mshow\u001b[0m\u001b[0;34m(\u001b[0m\u001b[0;34m)\u001b[0m\u001b[0;34m\u001b[0m\u001b[0;34m\u001b[0m\u001b[0m\n\u001b[0m",
      "\u001b[0;31mAttributeError\u001b[0m: module 'plotly.express' has no attribute 'show'"
     ]
    }
   ],
   "source": [
    "import numpy as np\n",
    "import pandas as pd\n",
    "import plotly.express as px\n",
    "from sklearn.preprocessing import RobustScaler\n",
    "import math\n",
    "\n",
    "rs = np.random.RandomState(42)\n",
    "\n",
    "n_samples= [100, 500, 1000, 2000, 5000, 7000, 10000]\n",
    "rg = 100\n",
    "epsilons = np.array([i for i in range(rg)])/(rg-1)\n",
    "bs=[1,2,3,4,5]\n",
    "T = 2\n",
    "\n",
    "def analyze_in_practice(T, n_samples, epsilons, bs):\n",
    "    res_df = pd.DataFrame(columns=['Samples', \"b\", \"epsilon\", \"Res\"])\n",
    "    for n_sample in n_samples:\n",
    "        print(n_sample)\n",
    "        X = rs.randint(0,100, size=(n_sample,2))\n",
    "        scaler = RobustScaler()\n",
    "        X = scaler.fit_transform(X)\n",
    "        center = np.array([0,0]).transpose()\n",
    "        norms = np.linalg.norm(center - X, axis=1)\n",
    "        norms[norms==0] = 0.0001\n",
    "        for b in bs:\n",
    "            usn = 1/(norms)**b\n",
    "\n",
    "            for epsilon in epsilons:\n",
    "                close_samples = np.where(norms<epsilon)[0]\n",
    "                others = [ind for ind in range(n_sample) if ind not in close_samples]\n",
    "                if len(close_samples>=1):\n",
    "                    rho = np.sum(usn[others])/np.sum(usn[close_samples])\n",
    "                    res = T*(1+math.e**2*rho)/((1+math.e**2)*(1+rho))\n",
    "                else:\n",
    "                    res = None\n",
    "                res_df = res_df.append({\"Samples\":n_sample, \"b\":b, \"epsilon\":epsilon, \"res\":res}, ignore_index=True)\n",
    "\n",
    "    px.scatter(res_df, x=\"epsilon\", y=\"Samples\", animation_frame='b', color=\"res\")\n",
    "analyze_in_practice(T, n_samples, epsilons, bs)\n",
    "px.show()"
   ]
  },
  {
   "cell_type": "code",
   "execution_count": null,
   "metadata": {},
   "outputs": [],
   "source": [
    "analyze_in_practice(3, n_samples, epsilons, bs)\n",
    "px.show()"
   ]
  },
  {
   "cell_type": "code",
   "execution_count": null,
   "metadata": {},
   "outputs": [],
   "source": [
    "analyze_in_practice(4, n_samples, epsilons, bs)\n",
    "px.show()"
   ]
  },
  {
   "cell_type": "code",
   "execution_count": null,
   "metadata": {},
   "outputs": [],
   "source": [
    "analyze_in_practice(5, n_samples, epsilons, bs)\n",
    "px.show()"
   ]
  },
  {
   "cell_type": "code",
   "execution_count": null,
   "metadata": {},
   "outputs": [],
   "source": [
    "analyze_in_practice(10, n_samples, epsilons, bs)\n",
    "px.show()"
   ]
  }
 ],
 "metadata": {
  "kernelspec": {
   "display_name": "Python 3",
   "language": "python",
   "name": "python3"
  },
  "language_info": {
   "codemirror_mode": {
    "name": "ipython",
    "version": 3
   },
   "file_extension": ".py",
   "mimetype": "text/x-python",
   "name": "python",
   "nbconvert_exporter": "python",
   "pygments_lexer": "ipython3",
   "version": "3.6.8"
  }
 },
 "nbformat": 4,
 "nbformat_minor": 4
}
